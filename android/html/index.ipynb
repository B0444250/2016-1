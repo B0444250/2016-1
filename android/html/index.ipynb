{
 "cells": [
  {
   "cell_type": "markdown",
   "metadata": {},
   "source": [
    "Forget_Me_Not\n",
    "==="
   ]
  },
  {
   "cell_type": "code",
   "execution_count": 1,
   "metadata": {
    "collapsed": true
   },
   "outputs": [],
   "source": [
    "from IPython.display import HTML"
   ]
  },
  {
   "cell_type": "markdown",
   "metadata": {},
   "source": [
    "Added Library in Android Studio\n",
    "---\n",
    "OPenCV will be added into Android-Stusio project as example:\n",
    "\n",
    "- download and extract the source of <a href=\"http://sourceforge.net/projects/opencvlibrary/files/opencv-android/\">OpenCV</a> into <font color=\"brown\">$OpenCV</font>, certain folder in box;\n",
    "- imbed the OpenCV into project: \n",
    "   - ```opencv sdk, File --> Project --> Structure --> [+]```\n",
    "   - choose ```Improt Existing Project``` and set the source directory to ```$OpenCV/android/java ```\n",
    "- Enter the project source, opem ```MainAcitivity.java```; check whther the errors appear:\n",
    "  ```\n",
    "  > emulator: ERROR: x86 emulation currently requires hardware acceleration! \n",
    "  > Please ensure Intel HAXM is properly installed and usable. \n",
    "  > CPU acceleration status: HAX kernel module is not installed!\n",
    "  ```\n",
    "  If yes, ```open SDK Manager``` and confirm whether ```Intel x86 Emulator Accelerator (HAXM installer)``` was installed. After that, execute ```$Android_sdk\\extras\\intel\\Hardware_Accelerated_Execution_Manager```.\n",
    "\n"
   ]
  },
  {
   "cell_type": "markdown",
   "metadata": {},
   "source": [
    "NDK\n",
    "---\n",
    "Self_install format"
   ]
  },
  {
   "cell_type": "code",
   "execution_count": null,
   "metadata": {
    "collapsed": false
   },
   "outputs": [],
   "source": []
  },
  {
   "cell_type": "markdown",
   "metadata": {
    "collapsed": true
   },
   "source": [
    "Unity\n",
    "===\n",
    "Unity is a game development platform that can create both 2D and 3D games. It’s cross platform, so it can be used to develop apps for PC, Mac OS X, consoles, iOS, Android, Windows Phone 8, the web, and more."
   ]
  },
  {
   "cell_type": "markdown",
   "metadata": {},
   "source": [
    "Make a Virtual Reality Game with Unity For Google Cardboard\n",
    "---\n",
    "\n",
    "**Prerequisites**\n",
    "- [Cardboard Unity Plugin](https://github.com/googlesamples/cardboard-unity) v.0.6 (01/01/2016)\n",
    "  - Modify the file, <font color=\"blue\">[cardboard-unity/Cardboard/Scripts/]</font>*Cardboard.cs* as follows:\n",
    "    ```C#\n",
    "    public RenderTexture StereoScreen {\n",
    "    get {\n",
    "      ...\n",
    "      }\n",
    "      return stereoScreen;\n",
    "    }\n",
    "    set {\n",
    "      /// For 5.3.x\n",
    "      if (stereoScreen != null && !stereoScreen.IsCreated()) {\n",
    "          stereoScreen.Create();\n",
    "      }\n",
    "      ///\n",
    "      if (value == stereoScreen) {\n",
    "        return;\n",
    "      }\n",
    "      ...\n",
    "    }\n",
    "    ```"
   ]
  },
  {
   "cell_type": "markdown",
   "metadata": {},
   "source": [
    "Getting started\n",
    "---\n",
    "- download from official site, unity.org and install.\n",
    "- Open Unity\n",
    "  - Create new project, FirstGame,\n",
    "  - import the Google Unity package by going to: <br>\n",
    "    <font color=\"green\"><b>\n",
    "    Assests > Import Package > Custom Package </b></font> and then select the Google Unity Plugin: \n",
    "      - <font color=\"red\">CardboardSDKForUnity.unitypackage</font> and \n",
    "      - <font color=\"red\">CardboardDemoForUnity.unitypackage</font>;\n",
    "    <img src=\"imgs/unity-1.png\" width=40% />\n",
    "  - Open the <font color=\"blue\">**Cardboard/DemoScene**</font>` folder. Double click on \n",
    "    <font color=\"red\">DemoScene</font>, also add <font color=\"green\">[GameObject -> 3D Object -> (Cube/Plane]</font> and your project should look like this:    \n",
    "    <img src=\"imgs/unity-2.png\" width=80% />\n",
    "  - before testing and running the demo, audio setting should be reset for Unity 5.2+ users: \n",
    "    - From top menu, <font color=\"green\">[Edit > Project Settings > Audio]</font>, change from **None** to \n",
    "    **CardboardAudio Spatializer**. \n",
    "    <img src=\"imgs/unity-3.png\" width=85% />\n",
    "  -   With the *MainCamera* in the **Hierarchy** selected, in the **Inspector window** click <font color=\"green\"><b>[Add Component]</b></font> and select <font color=\"green\"><b>Rendering > Skybox</b></font>. Now click on the little **circle** next to None (Material) and some skyboxes should show up. Double click any of them:\n",
    "        <img src=\"imgs/unity-4.png\" width=80% />\n",
    "\n",
    "  -   select the *ground plane* in your game window and in the **Inspector window** select <font color=\"green\"><b>Mesh Renderer > Materials</b></font> and select the little **circle** near <font color=\"green\"><b>Element 0</b></font>. Then click one of kind of available of materials you like and run the game:\n",
    "      <img src=\"imgs/unity-5.png\" width=80% />"
   ]
  },
  {
   "cell_type": "markdown",
   "metadata": {},
   "source": [
    "First Run End\n",
    "---\n",
    "Unity supports many platforms, including iOs, Android etc. Here, Android example is introduced:\n",
    "\n",
    "- Find where the root directory of **Android SDK** installed;\n",
    "  -  Click <br><font color=\"green\"><b>\n",
    "    [Unity > Unity Preferences > External Tools]\n",
    "    </b></font><br> \n",
    "    to set up the right path of Android SDK and NDK.\n",
    "    <img src=\"imgs/unity-f1.png\" width=80% />\n",
    "- build the Android project,\n",
    "  - From main menu, click <br><font color=\"green\"><b>\n",
    "    [File > Build & Run > Android > Switch Platform]\n",
    "    </b></font><br>\n",
    "  - In **Inspecttor** Window, provide the *Bundle Identifier* (such as ```com.test.game```) and *Device filter*, (here we click the option ```ARMv7```:<br> \n",
    "    <font color=\"green\"><b>\n",
    "    [File > Build & Run > Android >Player Settings > <font color=\"brown\"><b>Other Setting > Identification</b></font>] </b></font>,<br>\n",
    "    and save the generated ```apk file``` which you could test it on  your smart phone later.\n",
    "    <img src=\"imgs/unity-f2.png\" width=80% />"
   ]
  },
  {
   "cell_type": "markdown",
   "metadata": {
    "collapsed": true
   },
   "source": [
    "Second Round\n",
    "---\n",
    "- Add new assets, <font color=\"red\"><b>CharacterMotor.cs and FPSInputController.cs</b></font>, by option  <font color=\"green\"><b>[Assets > Import New Asset]</b></font>: \n",
    "<img src=\"imgs/unity-6.png\" width=80% />\n",
    "- Select *Head* in the **Hierarchy window** and drag the *FPSInputController* script into the **Inspector** window (Character Controller and Character Motor (script) should automatically be added). Then delete CardboardGUI from the Hierarchy window. So far it should look like this:\n",
    "<img src=\"imgs/unity-7.png\" width=80% />"
   ]
  },
  {
   "cell_type": "code",
   "execution_count": null,
   "metadata": {
    "collapsed": true
   },
   "outputs": [],
   "source": []
  }
 ],
 "metadata": {
  "kernelspec": {
   "display_name": "Python 3",
   "language": "python",
   "name": "python3"
  },
  "language_info": {
   "codemirror_mode": {
    "name": "ipython",
    "version": 3
   },
   "file_extension": ".py",
   "mimetype": "text/x-python",
   "name": "python",
   "nbconvert_exporter": "python",
   "pygments_lexer": "ipython3",
   "version": "3.5.2"
  }
 },
 "nbformat": 4,
 "nbformat_minor": 0
}
