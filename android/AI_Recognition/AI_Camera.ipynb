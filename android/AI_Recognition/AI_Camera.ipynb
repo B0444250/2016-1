{
 "cells": [
  {
   "cell_type": "markdown",
   "metadata": {},
   "source": [
    "Face Dectection API\n",
    "---\n",
    "Huawei, Samsung acnounced AI-featured inteligeng cellphones recently. However, we could release the AI-powered ability for older cellphone too."
   ]
  },
  {
   "cell_type": "markdown",
   "metadata": {},
   "source": [
    "Steps\n",
    "---\n",
    "1. Android target SDK-28 (Pie) required, install it from\n",
    "```\n",
    "[Tools] ➜ [SDK Manager] ➜ [Android SDK] ➜ [SDK platform] (☑︎ Show Packages Details)\n",
    "            ▽ Android 9.0 Pie\n",
    "             ☑︎ Android SDK Platform 28\n",
    "```\n",
    "also install intel x86 Atom_64 System Image if want to test it on the fly.\n",
    "- create new project, App name: FaceDectectApp (Company name: ai.kotlin.io), as usual; and set the SDK conditions: **minSdkVersion 21, targetSdkVersion 28**.\n",
    "- modidy [build.gradle (Module app)]:\n",
    "```XML\n",
    "dependencies {\n",
    "     ...\n",
    "   implementation 'com.github.husaynhakeem:android-face-detector:v1.2'  \n",
    "}\n",
    "```\n",
    "- modidy [build.gradle (Project: FaceDectectApp)]:\n",
    "```XML\n",
    "allprojects {\n",
    "    repositories {\n",
    "        ...\n",
    "        maven { url 'https://jitpack.io' }\n",
    "    }\n",
    "```\n",
    "- Set up [Firebase] of the project:\n",
    "   - Click [Tools > Firebase] to open the Assistant window.\n",
    "   - Click to expand one of the listed features (for example, Analytics), then click the provided    tutorial link (for example, Log an Analytics event).\n",
    "    - Click the Connect to Firebase button] to connect to Firebase and add the necessary code to your app.\n",
    "    - register Firebase\n",
    "      - [Firebase Console] [events] [Android] and download the file"
   ]
  },
  {
   "cell_type": "code",
   "execution_count": null,
   "metadata": {},
   "outputs": [],
   "source": []
  }
 ],
 "metadata": {
  "kernelspec": {
   "display_name": "Python 3",
   "language": "python",
   "name": "python3"
  },
  "language_info": {
   "codemirror_mode": {
    "name": "ipython",
    "version": 3
   },
   "file_extension": ".py",
   "mimetype": "text/x-python",
   "name": "python",
   "nbconvert_exporter": "python",
   "pygments_lexer": "ipython3",
   "version": "3.6.5"
  },
  "toc": {
   "colors": {
    "hover_highlight": "#DAA520",
    "navigate_num": "#000000",
    "navigate_text": "#333333",
    "running_highlight": "#FF0000",
    "selected_highlight": "#FFD700",
    "sidebar_border": "#EEEEEE",
    "wrapper_background": "#FFFFFF"
   },
   "moveMenuLeft": true,
   "nav_menu": {
    "height": "48px",
    "width": "252px"
   },
   "navigate_menu": true,
   "number_sections": true,
   "sideBar": true,
   "threshold": 4,
   "toc_cell": false,
   "toc_section_display": "block",
   "toc_window_display": false,
   "widenNotebook": false
  }
 },
 "nbformat": 4,
 "nbformat_minor": 2
}
