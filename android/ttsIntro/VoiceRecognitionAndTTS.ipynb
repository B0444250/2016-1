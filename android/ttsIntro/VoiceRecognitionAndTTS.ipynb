{
 "cells": [
  {
   "cell_type": "markdown",
   "metadata": {},
   "source": [
    "Voice Recognition and Android Speech to Text, TTS, Tutorial\n",
    "===\n",
    "Speak with Android phone? No Problem, Android provides such function.\n",
    "\n",
    "Source\n",
    "---\n",
    "On github and apk could only run on android device but not on <font color=\"red\">AVM</font>.\n",
    "\n",
    "Practice\n",
    "---\n",
    "1. Voice recognition,: speak to your phone,internet-permission require;\n",
    "-  TTS: input string and speak in normal mode, man's tone, or woman's tone.\n",
    "\n",
    "Outline of project\n",
    "---\n",
    "\n",
    "1. Androidmanifest.xml: add uses-permission for internet.\n",
    "- main_activity.xzm: Design one EditText, for text input, three buttons, for different tone's playing.\n",
    "- Activity_main.java:<br>\n",
    "**a)** voice recognition: require ```Intent``` to pass the activity and properties:\n",
    "\n",
    "```java\n",
    "        Intent intent = new Intent(RecognizerIntent.ACTION_RECOGNIZE_SPEECH);\n",
    "        intent.putExtra(RecognizerIntent.EXTRA_LANGUAGE_MODEL, RecognizerIntent.LANGUAGE_MODEL_FREE_FORM);\n",
    "        // setting recognition language ( Here, Traditional Chinese)\n",
    "        intent.putExtra(RecognizerIntent.EXTRA_LANGUAGE, \"zh-TW\");\n",
    "        // Info's in UI\n",
    "        intent.putExtra(RecognizerIntent.EXTRA_PROMPT, \"Listening...\");\n",
    "        startActivityForResult(intent, 1);\n",
    "  \n",
    "```\n",
    "  and then call \n",
    "\n",
    "```java\n",
    "  @Override\n",
    "    protected void onActivityResult(int requestCode, int resultCode, Intent data) {\n",
    "        // TODO Auto-generated method stub\n",
    "    }    \n",
    "```\n",
    "<br>\n",
    "&nbsp;&nbsp;&nbsp;&nbsp;**b)** TTS: acclaim ```TextToSpeech``` class and set ```mbutton.setOnClickListener``` as follows:<br>\n",
    "\n",
    "```java\n",
    "        tts = new TextToSpeech(getApplicationContext(), new TextToSpeech.OnInitListener() {\n",
    "            @Override\n",
    "            public void onInit(int status) {\n",
    "                if(status != TextToSpeech.ERROR) {\n",
    "                    tts.setLanguage(Locale.US);\n",
    "                }\n",
    "            }\n",
    "        });\n",
    "\n",
    "        mbutton.setOnClickListener(new View.OnClickListener() {\n",
    "            public void onClick(View v) {\n",
    "                // setup tone\n",
    "                tts.setPitch((float) 1);\n",
    "                tts.setSpeechRate((float) 1);               \n",
    "                String textToSpeak = mEditText.getText().toString();\n",
    "                // check the Android version whether is after LOLLIPOP and speak\n",
    "                if (Build.VERSION.SDK_INT >= Build.VERSION_CODES.LOLLIPOP) {\n",
    "                    tts.speak(textToSpeak,TextToSpeech.QUEUE_FLUSH,null,null);\n",
    "                } else {\n",
    "                    tts.speak(textToSpeak, TextToSpeech.QUEUE_FLUSH, null);\n",
    "                }\n",
    "            }\n",
    "        });\n",
    "```"
   ]
  },
  {
   "cell_type": "code",
   "execution_count": null,
   "metadata": {
    "collapsed": true
   },
   "outputs": [],
   "source": []
  },
  {
   "cell_type": "code",
   "execution_count": null,
   "metadata": {
    "collapsed": true
   },
   "outputs": [],
   "source": []
  }
 ],
 "metadata": {
  "kernelspec": {
   "display_name": "Python 3",
   "language": "python",
   "name": "python3"
  },
  "language_info": {
   "codemirror_mode": {
    "name": "ipython",
    "version": 3
   },
   "file_extension": ".py",
   "mimetype": "text/x-python",
   "name": "python",
   "nbconvert_exporter": "python",
   "pygments_lexer": "ipython3",
   "version": "3.6.0"
  }
 },
 "nbformat": 4,
 "nbformat_minor": 2
}
