{
 "cells": [
  {
   "cell_type": "markdown",
   "metadata": {},
   "source": [
    "Kotlin\n",
    "---\n",
    "1. create a kotlin app,\n",
    "- open \"activity_main.xml\":<br>\n",
    "  a). change the layout to LinearLayout and create some UI objects:\n",
    "  - create \"edittext\":\n",
    "    ```\n",
    "    <EditText\n",
    "        android:id=\"@+id/edittext01\"\n",
    "        android:layout_width=\"match_parent\"\n",
    "        android:layout_height=\"wrap_content\" />\n",
    "    ```\n",
    "  - create \"button\":  \n",
    "    ```\n",
    "    <Button\n",
    "        android:id=\"@+id/button\"\n",
    "        android:layout_width=\"match_parent\"\n",
    "        android:layout_height=\"wrap_content\"\n",
    "        android:onClick=\"onClick\"\n",
    "        android:text=\"Submit\" />\n",
    "    ```\n",
    "- open MainActivity.kt and modify the source:\n",
    "  - acclaim a new \"EditEext\" object\n",
    "    ```\n",
    "    private var edittext:EditText?=null\n",
    "    ```\n",
    "  - link with UI defined in activity_main.xml:\n",
    "    ```\n",
    "    ...\n",
    "    setContentView(R.layout.activity_main)\n",
    "        edittext=findViewById(R.id.edittext01)\n",
    "    ...\n",
    "    ```\n",
    "  - implement the function:\n",
    "    ```\n",
    "    fun onClick(view:View){\n",
    "        edittext?.setText(\"Hello world\")\n",
    "    }    \n",
    "    ```    "
   ]
  },
  {
   "cell_type": "code",
   "execution_count": null,
   "metadata": {},
   "outputs": [],
   "source": []
  }
 ],
 "metadata": {
  "kernelspec": {
   "display_name": "Python 3",
   "language": "python",
   "name": "python3"
  },
  "language_info": {
   "codemirror_mode": {
    "name": "ipython",
    "version": 3
   },
   "file_extension": ".py",
   "mimetype": "text/x-python",
   "name": "python",
   "nbconvert_exporter": "python",
   "pygments_lexer": "ipython3",
   "version": "3.6.1"
  },
  "toc": {
   "colors": {
    "hover_highlight": "#DAA520",
    "navigate_num": "#000000",
    "navigate_text": "#333333",
    "running_highlight": "#FF0000",
    "selected_highlight": "#FFD700",
    "sidebar_border": "#EEEEEE",
    "wrapper_background": "#FFFFFF"
   },
   "moveMenuLeft": true,
   "nav_menu": {
    "height": "30px",
    "width": "252px"
   },
   "navigate_menu": true,
   "number_sections": true,
   "sideBar": true,
   "threshold": 4,
   "toc_cell": false,
   "toc_section_display": "block",
   "toc_window_display": false,
   "widenNotebook": false
  }
 },
 "nbformat": 4,
 "nbformat_minor": 2
}
