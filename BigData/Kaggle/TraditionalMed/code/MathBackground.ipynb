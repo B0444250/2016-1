{
 "cells": [
  {
   "cell_type": "markdown",
   "metadata": {},
   "source": [
    "K-Means\n",
    "===\n",
    "- [t-SNE, Dimensions Resduction](#t_SNE-(Visualization-for-High-dimensional-Data)), Visualization of high-dimensional data\n",
    "- [KMeans, Math background](#Mathematical-Background)\n",
    "- [Association among data](#Apriori's-Algorithm)"
   ]
  },
  {
   "cell_type": "code",
   "execution_count": null,
   "metadata": {},
   "outputs": [],
   "source": [
    "import numpy as np"
   ]
  },
  {
   "cell_type": "code",
   "execution_count": null,
   "metadata": {},
   "outputs": [],
   "source": [
    "from sklearn.cluster import KMeans\n",
    "import pandas as pd\n",
    "\n",
    "from sklearn.manifold import TSNE\n",
    "import matplotlib.pyplot as plt"
   ]
  },
  {
   "cell_type": "code",
   "execution_count": null,
   "metadata": {},
   "outputs": [],
   "source": [
    "# generate 6 vetors data with 4 dimensions, each element being integer between [0,9]\n",
    "X = np.random.randint(10,size=(6,4))\n",
    "X"
   ]
  },
  {
   "cell_type": "code",
   "execution_count": null,
   "metadata": {},
   "outputs": [],
   "source": [
    "# 3-clusters\n",
    "kmeans = KMeans(n_clusters=3, random_state=0).fit(X)\n",
    "kmeans.cluster_centers_"
   ]
  },
  {
   "cell_type": "code",
   "execution_count": null,
   "metadata": {},
   "outputs": [],
   "source": [
    "# 2 data in type 0, 3 in type 1, and 1 in type 2\n",
    "kmeans.labels_"
   ]
  },
  {
   "cell_type": "code",
   "execution_count": null,
   "metadata": {},
   "outputs": [],
   "source": [
    "# regenerate 2 additional data\n",
    "y=np.random.randint(10,size=(2,4))\n",
    "y"
   ]
  },
  {
   "cell_type": "code",
   "execution_count": null,
   "metadata": {},
   "outputs": [],
   "source": [
    "# determine which cluster each one belongs to \n",
    "kmeans.predict(y)"
   ]
  },
  {
   "cell_type": "markdown",
   "metadata": {},
   "source": [
    "t_SNE (Visualization for High-dimensional Data)\n",
    "---\n",
    "One-dimentional data, `{(x1,c1),(x2,c2), ...}`, could be visualized by 2D picture, 2-dimentional data, `{(x1,y1,c1),(x2,y2,c2), ...}`, could be visualized by 3D picture. But how to visualize the data with dimension more than 2? With the concept of \"manifold\" of Mathemetical theory, we can also visualize the data. "
   ]
  },
  {
   "cell_type": "code",
   "execution_count": null,
   "metadata": {},
   "outputs": [],
   "source": [
    "# Make more data\n",
    "X = np.random.randint(10,size=(100,4))\n",
    "df = pd.DataFrame(X)"
   ]
  },
  {
   "cell_type": "code",
   "execution_count": null,
   "metadata": {},
   "outputs": [],
   "source": [
    "kmeans = KMeans(n_clusters=3, random_state=0).fit(X)\n",
    "kmeans.cluster_centers_"
   ]
  },
  {
   "cell_type": "code",
   "execution_count": null,
   "metadata": {},
   "outputs": [],
   "source": [
    "r1 = pd.Series(kmeans.labels_).value_counts() #统计各个类别的数目\n",
    "r2 = pd.DataFrame(kmeans.cluster_centers_)"
   ]
  },
  {
   "cell_type": "code",
   "execution_count": null,
   "metadata": {},
   "outputs": [],
   "source": [
    "r=pd.concat([r2, r1], axis = 1)\n",
    "r"
   ]
  },
  {
   "cell_type": "code",
   "execution_count": null,
   "metadata": {},
   "outputs": [],
   "source": [
    "r.columns = list(df.columns) + ['Num']\n",
    "r"
   ]
  },
  {
   "cell_type": "code",
   "execution_count": null,
   "metadata": {},
   "outputs": [],
   "source": [
    "r = pd.concat([df, pd.Series(kmeans.labels_, index = df.index)], axis = 1)\n",
    "r.columns = list(df.columns) + ['Cluster']\n"
   ]
  },
  {
   "cell_type": "code",
   "execution_count": null,
   "metadata": {},
   "outputs": [],
   "source": [
    "df1=df.copy()"
   ]
  },
  {
   "cell_type": "code",
   "execution_count": null,
   "metadata": {},
   "outputs": [],
   "source": [
    "tsne = TSNE()\n",
    "tsne.fit_transform(df1);\n"
   ]
  },
  {
   "cell_type": "code",
   "execution_count": null,
   "metadata": {},
   "outputs": [],
   "source": [
    "tsne = pd.DataFrame(tsne.embedding_, index = df1.index)"
   ]
  },
  {
   "cell_type": "code",
   "execution_count": null,
   "metadata": {},
   "outputs": [],
   "source": [
    "tsne"
   ]
  },
  {
   "cell_type": "code",
   "execution_count": null,
   "metadata": {},
   "outputs": [],
   "source": [
    "\n",
    "#plt.rcParams['font.serif'] = ['SimHei'] #用来正常显示中文标签\n",
    "#plt.rcParams['axes.unicode_minus'] = False\n",
    "\n",
    "plt.figure(figsize=(6,6))\n",
    "\n",
    "d = tsne[r['Cluster'] == 0]\n",
    "plt.plot(d[0], d[1], 'r.')\n",
    "d = tsne[r['Cluster'] == 1]\n",
    "plt.plot(d[0], d[1], 'go')\n",
    "d = tsne[r['Cluster'] == 2]\n",
    "plt.plot(d[0], d[1], 'b*')\n",
    "plt.show()"
   ]
  },
  {
   "cell_type": "code",
   "execution_count": null,
   "metadata": {},
   "outputs": [],
   "source": [
    "# introduce seaborn style\n",
    "import seaborn as sns\n",
    "sns.set()"
   ]
  },
  {
   "cell_type": "code",
   "execution_count": null,
   "metadata": {},
   "outputs": [],
   "source": []
  },
  {
   "cell_type": "markdown",
   "metadata": {},
   "source": [
    "Mathematical Background\n",
    "---\n",
    "1. Initial $k$ centers of cluster: Choose $k$ samples, $y_i$, $i=1,2,\\cdots,k$, randomly from $n$ dataset, $X_n=\\{x_{n1},x_{n2},\\cdots,x_{nm}\\}$;\n",
    "2. Each data was included into the the cluster above to which it is closest;\n",
    "- Re-calculate the centers of clusters;\n",
    "- Compare new centers with the last result; if varies, repeat step (2), or forward;\n",
    "- if not change, output the clusters."
   ]
  },
  {
   "cell_type": "markdown",
   "metadata": {},
   "source": [
    "Apriori's Algorithm\n",
    "===\n",
    "\n",
    "Support and Confidence\n",
    "---\n",
    "\n",
    "1. Suppose that sample space $\\Omega=\\{Event_1,Event_2,\\cdots\\}$, and each events could includes elements, $A, B,$ and etc, e.g.\n",
    "     ```\n",
    "      Event 1: A, B, C, D\n",
    "      Event 2: C, D\n",
    "      Event 3: B, C, D\n",
    "      Event 4: A, D\n",
    "      Event 5: A, C, D\n",
    "     ```\n",
    "  a). support of $A$, frequency of $A$ included in events:\n",
    "    $$ \\text{support}(A)=\\frac{P(A)}{P(\\Omega)}=\\left(\\color{red}{\\frac{3}{5}}\\right)$$\n",
    "    3 $A$'s in 5 event.\n",
    "  b). Confidence of $A\\to B$\n",
    "    $$\\text{confidence}(B|A)=P(A\\to B)=\\frac{\\text{support}(A\\cap B)}{\\text{support}(A)}=\\left(\\color{red}{\\frac{1}{3}}\\right)$$\n",
    "    One $(A,B)$ occurence come with respect to 3 $(A)$ occurences in total events. \n",
    "\n"
   ]
  },
  {
   "cell_type": "markdown",
   "metadata": {},
   "source": [
    "Algorithm\n",
    "---\n",
    "consider the case, minimal support, <font color=\"brown\">0.4</font>, and confidence, <font color=\"brown\">0.6</font>, given:\n",
    "   \n",
    "a).   \n",
    "\n",
    "|C1, Support|L1, Support|\n",
    "|---|---|\n",
    "|{A} → 0.6|{A} → 0.6 ✔️|\n",
    "|{B} → 0.4|{B} → 0.4 ✔️|\n",
    "|{C} → 0.8|{C} → 0.8 ✔️|\n",
    "|{D} → 1.0|{D} → 1.0 ✔️|\n",
    "\n",
    "where the cases in L1 represents they satisfy the condition, **support  ≥ 0.4**; in other words, the cases occur frequently.\n",
    "\n",
    "b).\n",
    "\n",
    "|C2, Support|L2, Support|\n",
    "|---|---|\n",
    "|<del>{A,B} → 0.2</del>||\n",
    "|<del>{A,C} → 0.2</del>||\n",
    "|{A,D} → 0.6|{A,D} → 0.6 ✔️|\n",
    "|{B,C} → 0.4|{B,C} → 0.4 ✔️|\n",
    "|{B,D} → 0.4|{B,D} → 0.4 ✔️|\n",
    "|{C,D} → 0.6|{C,D} → 0.6 ✔️|\n",
    "\n",
    "c).\n",
    "\n",
    "|C3, Support|L3, Support|\n",
    "|---|---|\n",
    "|{B,C,D} → 0.4|{B,C,D} → 0.4 ✔️|\n",
    "\n",
    "In C3, support of all the non-null subset have to be satisfies in L1 and L2. Thus only\n",
    "{B,C,D} is satisfies, e.g.\n",
    "- {A,B,C} ▶︎ {A,B} ✘, {A,C} ✘\n",
    "- {B,C,D} ▶︎ {B,C}, {B,D}, {C,D} ✔️\n",
    "\n",
    "\n",
    "|Rule|Support|Confidence|\n",
    "|---|---:|---:|\n",
    "|A → D|60%|100%| \n",
    "|D → A|60%|60%| \n",
    "|B → C|40%|100%| \n",
    "|C → B|40%|50%|\n",
    "|B → D|40%|100%| \n",
    "|D → B|40%|40%|\n",
    "|C → D|60%|75%| \n",
    "|D → C|60%|60%|\n",
    "|B,C → D|40%|100%|\n",
    "|B,D → C|40%|100%|\n",
    "|C,D → B|40%|66.7%|\n",
    "|B → C,D|40%|100%|\n",
    "|C → B,D|40%|50%|\n",
    "|D → B,C|40%|40%|\n",
    "\n",
    "The result of the 3rd inference shows the fact that item C should be also chosen once item B was chosen."
   ]
  },
  {
   "cell_type": "code",
   "execution_count": null,
   "metadata": {},
   "outputs": [],
   "source": []
  }
 ],
 "metadata": {
  "kernelspec": {
   "display_name": "Python 3",
   "language": "python",
   "name": "python3"
  },
  "language_info": {
   "codemirror_mode": {
    "name": "ipython",
    "version": 3
   },
   "file_extension": ".py",
   "mimetype": "text/x-python",
   "name": "python",
   "nbconvert_exporter": "python",
   "pygments_lexer": "ipython3",
   "version": "3.6.1"
  },
  "toc": {
   "colors": {
    "hover_highlight": "#DAA520",
    "navigate_num": "#000000",
    "navigate_text": "#333333",
    "running_highlight": "#FF0000",
    "selected_highlight": "#FFD700",
    "sidebar_border": "#EEEEEE",
    "wrapper_background": "#FFFFFF"
   },
   "moveMenuLeft": true,
   "nav_menu": {
    "height": "49px",
    "width": "252px"
   },
   "navigate_menu": true,
   "number_sections": true,
   "sideBar": true,
   "threshold": 4,
   "toc_cell": false,
   "toc_section_display": "block",
   "toc_window_display": false,
   "widenNotebook": false
  }
 },
 "nbformat": 4,
 "nbformat_minor": 2
}
