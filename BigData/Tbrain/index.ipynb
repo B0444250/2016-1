{
 "cells": [
  {
   "cell_type": "markdown",
   "metadata": {},
   "source": [
    "Challenge Begins\n",
    "---\n",
    "\n",
    "As time flies, Now the time let us attend compettiion:\n",
    "\n",
    "[Tbrain by Trend-Micro](https://tbrain.trendmicro.com.tw)  台灣 ETF 價格預測競賽"
   ]
  },
  {
   "cell_type": "markdown",
   "metadata": {},
   "source": [
    "<big>\n",
    "    \n",
    "|序號 | 欄位 | 說明       |\n",
    "| ------| :------: | :------: |\n",
    "|0|ETFid|ETF 代號|\n",
    "| 1| Mon_ud | 周一漲跌 (1:漲, 0:平, -1:跌) 50% |\n",
    "| 2| Mon_cprice| 周一收盤價 (權重 50%) |\n",
    "| 3| Tue_ud | 周二漲跌 (1:漲, 0:平, -1:跌) 50% |\n",
    "| 4| Tue_cprice| 周二收盤價 (權重 50%) |\n",
    "| 5| Wed_ud | 周三漲跌 (1:漲, 0:平, -1:跌) 50% |\n",
    "| 6| Wed_cprice| 周三收盤價 (權重 50%) |\n",
    "| 7| Thu_ud | 周四漲跌 (1:漲, 0:平, -1:跌) 50% |\n",
    "| 8| Thu_cprice| 周四收盤價 (權重 50%) |\n",
    "| 9| Fri_ud | 周五漲跌 (1:漲, 0:平, -1:跌) 50% |\n",
    "| 10| Fri_cprice| 周五收盤價 (權重 50%) |\n",
    "\n",
    "\n",
    "Sample\n",
    "\n",
    "```\n",
    "ETFid,Mon_ud,Mon_cprice,Tue_ud,Tue_cprice,Wed_ud,Wed_cprice,Thu_ud,Thu_cprice,Fri_ud,Fri_cprice\n",
    "0050,1,87.15,1,88.05,-1,88.00,-1,87.25,1,87.45\n",
    "...\n",
    "```"
   ]
  },
  {
   "cell_type": "code",
   "execution_count": null,
   "metadata": {},
   "outputs": [],
   "source": [
    "from hmmlearn.hmm import GaussianHMM\n",
    "import numpy as np\n",
    "from matplotlib import cm, pyplot as plt\n",
    "import matplotlib.dates as dates\n",
    "import pandas as pd\n",
    "import datetime"
   ]
  },
  {
   "cell_type": "code",
   "execution_count": null,
   "metadata": {},
   "outputs": [],
   "source": [
    "import warnings\n",
    "warnings.filterwarnings('ignore')\n"
   ]
  },
  {
   "cell_type": "code",
   "execution_count": null,
   "metadata": {},
   "outputs": [],
   "source": [
    "import pandas as pd\n",
    "import numpy as np\n",
    "\n",
    "from fbprophet import Prophet\n",
    "import pandas_profiling as pp\n",
    "#from matplotlib import cm, pyplot as plt\n",
    "import matplotlib.dates as dates\n",
    "#import pandas_datareader.data as web\n",
    "from pandas_datareader import data as web\n",
    "import datetime\n",
    "from hmmlearn.hmm import GaussianHMM\n",
    "\n",
    "import fix_yahoo_finance as yf\n",
    "yf.pdr_override()"
   ]
  },
  {
   "cell_type": "code",
   "execution_count": null,
   "metadata": {},
   "outputs": [],
   "source": [
    "import time\n",
    "today=time.strftime(\"%Y-%m-%d\")\n",
    "today"
   ]
  },
  {
   "cell_type": "code",
   "execution_count": null,
   "metadata": {},
   "outputs": [],
   "source": [
    "n = 6 \n",
    "\n",
    "ETF1 = \"0050.TW\"\n",
    "\n",
    "END_DATE=today\n",
    "START_DATE = '2013-01-02'\n",
    "\n"
   ]
  },
  {
   "cell_type": "code",
   "execution_count": null,
   "metadata": {},
   "outputs": [],
   "source": [
    "df_ETF1 = web.get_data_yahoo(ETF1,START_DATE,END_DATE)\n",
    "df_ETF1"
   ]
  },
  {
   "cell_type": "code",
   "execution_count": null,
   "metadata": {},
   "outputs": [],
   "source": [
    "df_ETF1.info()"
   ]
  },
  {
   "cell_type": "code",
   "execution_count": null,
   "metadata": {},
   "outputs": [],
   "source": [
    "file=\"TBrain_Round2_DataSet_20180331/taetfp-utf.csv\"\n",
    "df=pd.read_csv(file)"
   ]
  },
  {
   "cell_type": "code",
   "execution_count": null,
   "metadata": {},
   "outputs": [],
   "source": []
  },
  {
   "cell_type": "code",
   "execution_count": null,
   "metadata": {},
   "outputs": [],
   "source": [
    "df"
   ]
  },
  {
   "cell_type": "code",
   "execution_count": null,
   "metadata": {},
   "outputs": [],
   "source": [
    "df[1870:1871]"
   ]
  },
  {
   "cell_type": "markdown",
   "metadata": {},
   "source": [
    "**First problem to fixed**\n",
    "\n",
    "Volumes more than 1000 should be in the form, **xx,xxx**, and  other less than 1000, **xxx**. This caused the problem while load csv data: the forth in two columns and the latter only one column. \n",
    "\n",
    "To solve the problem, **1.** create a new column, named \"total\", which is the sum of first column,  multiplyed in thousand and the second column. But the data with volumes less than 1000 is calculated as `NaN` since the scecond column is `NaN`. Thus, **2.** duplicate the volume in the first column to the \"total\" column for the data less than 1000.      "
   ]
  },
  {
   "cell_type": "code",
   "execution_count": null,
   "metadata": {},
   "outputs": [],
   "source": [
    "# create the new column, total for volumes more than 1000\n",
    "df.total=df['成交張數(張)1000']*1000+df['成交張數(張)']"
   ]
  },
  {
   "cell_type": "code",
   "execution_count": null,
   "metadata": {},
   "outputs": [],
   "source": [
    "df['total'] = df.apply(lambda row: row['成交張數(張)1000']*1000+row['成交張數(張)'], axis=1)"
   ]
  },
  {
   "cell_type": "code",
   "execution_count": null,
   "metadata": {},
   "outputs": [],
   "source": [
    "# duplicate the first volume to tatal column if volume is less than 1000\n",
    "df['total'].fillna(df['成交張數(張)1000'], inplace=True)"
   ]
  },
  {
   "cell_type": "code",
   "execution_count": null,
   "metadata": {},
   "outputs": [],
   "source": [
    "# View the data of 0050 ETFcch\n",
    "df[df['代碼']==50]"
   ]
  },
  {
   "cell_type": "code",
   "execution_count": null,
   "metadata": {},
   "outputs": [],
   "source": [
    "df.info()"
   ]
  },
  {
   "cell_type": "code",
   "execution_count": null,
   "metadata": {},
   "outputs": [],
   "source": []
  },
  {
   "cell_type": "markdown",
   "metadata": {},
   "source": [
    "Secondly, conversion of datetime: **1.** convert `YYYYMMDD` to `YYYY-MM-DD` and put in new column 'Date'; **2.** create anew column, weekday, for each deal day. "
   ]
  },
  {
   "cell_type": "code",
   "execution_count": null,
   "metadata": {},
   "outputs": [],
   "source": [
    "df['Date']= df.apply(lambda row:pd.to_datetime(str(row['日期']), format='%Y%m%d') , axis=1)"
   ]
  },
  {
   "cell_type": "code",
   "execution_count": null,
   "metadata": {},
   "outputs": [],
   "source": [
    "df['weekday']=pd.DatetimeIndex(df.Date).dayofweek.values"
   ]
  },
  {
   "cell_type": "code",
   "execution_count": null,
   "metadata": {},
   "outputs": [],
   "source": [
    "df.head()"
   ]
  },
  {
   "cell_type": "code",
   "execution_count": null,
   "metadata": {},
   "outputs": [],
   "source": [
    "# Make a copy after first data cleaning\n",
    "df1=df[['代碼', '日期', '中文簡稱', '開盤價(元)', '最高價(元)', '最低價(元)', '收盤價(元)', 'total','Date','weekday']]\n",
    "df1.to_csv(\"TBrain_Round2_DataSet_20180331/taetfp-utf-1.csv\",index=False)"
   ]
  },
  {
   "cell_type": "code",
   "execution_count": null,
   "metadata": {},
   "outputs": [],
   "source": [
    "set(df['中文簡稱'])cch"
   ]
  },
  {
   "cell_type": "markdown",
   "metadata": {},
   "source": [
    "|code|ETF|code|ETF|\n",
    "| ------| :------: | :------: |---|\n",
    "|0050|元大台灣50|0058|富邦發達|\n",
    "|0051|元大中型100 |0059|富邦金融|\n",
    "|0052|富邦科技|006201|元大富櫃50|\n",
    "|0053|元大電子|006203|元大MSCI台灣|\n",
    "|0054|元大台商50|006204|永豐臺灣加權 |\n",
    "|0055|元大MSCI金融|006208|富邦台50|\n",
    "|0056|元大高股息|00690|兆豐藍籌30|\n",
    "|0057|富邦摩台|00692|富邦摩台|\n",
    "|00701|國泰臺灣低波動30|00713|元大台灣高息低波|"
   ]
  },
  {
   "cell_type": "code",
   "execution_count": null,
   "metadata": {},
   "outputs": [],
   "source": [
    "# manually define the name of ETF's\n",
    "etfs=['0050','0051','0052','0053','0054','0055','0056','0057','0058',\n",
    "      '0059','006201','006203','006204','006208','00690','00692','00701','00702']"
   ]
  },
  {
   "cell_type": "code",
   "execution_count": null,
   "metadata": {},
   "outputs": [],
   "source": [
    "import os, syscch"
   ]
  },
  {
   "cell_type": "code",
   "execution_count": null,
   "metadata": {
    "code_folding": [
     0
    ]
   },
   "outputs": [],
   "source": [
    "if os.path.exists(\"data\"):\n",
    "   print(\"exist\")\n",
    "else:\n",
    "   os.mkdir(\"data\") "
   ]
  },
  {
   "cell_type": "code",
   "execution_count": null,
   "metadata": {},
   "outputs": [],
   "source": []
  },
  {
   "cell_type": "code",
   "execution_count": null,
   "metadata": {},
   "outputs": [],
   "source": [
    "# Seperate the data by ETF's and save them indivually into sub-folder, data, in the name of ETF number \n",
    "for etf in etfs:\n",
    "    dfname=('df%s' %etf)\n",
    "    filename=('data/%s.csv' %etf)\n",
    "    ind=int(etf[2:])\n",
    "\n",
    "    dfname=df1[df1['代碼']==ind] \n",
    "    dfname.to_csv(filename,index=False)"
   ]
  },
  {
   "cell_type": "markdown",
   "metadata": {},
   "source": [
    "Prediction\n",
    "---\n",
    "1. load csv, data/0050.csv\n",
    "- data cleaning:\n",
    "  - index with 'Date'\n",
    "  - convert index into valid datetime formatcch\n",
    "  - translate the columns into English\n",
    "- Simple prediction\n",
    "  - Linear Regrssion by scikit-learn"
   ]
  },
  {
   "cell_type": "code",
   "execution_count": null,
   "metadata": {},
   "outputs": [],
   "source": [
    "df0050=pd.read_csv(\"data/0050.csv\")"
   ]
  },
  {
   "cell_type": "code",
   "execution_count": null,
   "metadata": {},
   "outputs": [],
   "source": [
    "# note: Date is in object format not in datetime\n",
    "df0050.info()"
   ]
  },
  {
   "cell_type": "code",
   "execution_count": null,
   "metadata": {},
   "outputs": [],
   "source": [
    "df0050_date=pd.read_csv(\"data/0050.csv\",index_col='Date')"
   ]
  },
  {
   "cell_type": "code",
   "execution_count": null,
   "metadata": {},
   "outputs": [],
   "source": [
    "df0050_date.head()"
   ]
  },
  {
   "cell_type": "code",
   "execution_count": null,
   "metadata": {},
   "outputs": [],
   "source": [
    "# no valid datetime index, no datetime X-axis\n",
    "df0050_date['收盤價(元)'].plot()"
   ]
  },
  {
   "cell_type": "code",
   "execution_count": null,
   "metadata": {},
   "outputs": [],
   "source": [
    "# convert index to valid datetime format\n",
    "df0050_date.index=pd.to_datetime(df0050_date.index)"
   ]
  },
  {
   "cell_type": "code",
   "execution_count": null,
   "metadata": {},
   "outputs": [],
   "source": [
    "# et voilá\n",
    "df0050_date['收盤價(元)'].plot(figsize=[12,6])"
   ]
  },
  {
   "cell_type": "code",
   "execution_count": null,
   "metadata": {},
   "outputs": [],
   "source": [
    "df0050_date.columns.values"
   ]
  },
  {
   "cell_type": "code",
   "execution_count": null,
   "metadata": {},
   "outputs": [],
   "source": [
    "df0050_date=df0050_date.rename(columns={\"代碼\": \"code\", \"日期\": \"date\",'中文簡稱':'Name',\"開盤價(元)\":'Open',\n",
    "                            \"最高價(元)\":'High',\"最低價(元)\":'Low',\"收盤價(元)\":'Close'});\n"
   ]
  },
  {
   "cell_type": "code",
   "execution_count": null,
   "metadata": {},
   "outputs": [],
   "source": [
    "df0050_date.head()"
   ]
  },
  {
   "cell_type": "code",
   "execution_count": null,
   "metadata": {},
   "outputs": [],
   "source": [
    "import numpy as np\n",
    "from sklearn import linear_model\n",
    "from sklearn.metrics import mean_squared_error, r2_score"
   ]
  },
  {
   "cell_type": "code",
   "execution_count": null,
   "metadata": {},
   "outputs": [],
   "source": [
    "# Create linear regression object\n",
    "LinReg = linear_model.LinearRegression()"
   ]
  },
  {
   "cell_type": "code",
   "execution_count": null,
   "metadata": {},
   "outputs": [],
   "source": [
    "X=(df0050_date.index - df0050_date.index[0]).days.values.reshape(-1, 1)\n",
    "Y=df0050_date.Close\n",
    "\n",
    "# Train the model using the training sets\n",
    "LinReg.fit(X,Y)"
   ]
  },
  {
   "cell_type": "code",
   "execution_count": null,
   "metadata": {},
   "outputs": [],
   "source": [
    "(df0050_date.index - df0050_date.index[0]).days.values"
   ]
  },
  {
   "cell_type": "code",
   "execution_count": null,
   "metadata": {},
   "outputs": [],
   "source": [
    "# Make predictions using the testing set\n",
    "Y_pred = LinReg.predict(X)"
   ]
  },
  {
   "cell_type": "code",
   "execution_count": null,
   "metadata": {},
   "outputs": [],
   "source": [
    "df0050_date['pred']=Y_pred "
   ]
  },
  {
   "cell_type": "code",
   "execution_count": null,
   "metadata": {},
   "outputs": [],
   "source": [
    "df0050_date"
   ]
  },
  {
   "cell_type": "code",
   "execution_count": null,
   "metadata": {},
   "outputs": [],
   "source": [
    "# The coefficients\n",
    "print('Prediction: \\n', LinReg.intercept_,' + ',LinReg.coef_,'X_Close')\n",
    "# The mean squared error\n",
    "print(\"Mean squared error: %.2f\"\n",
    "      % mean_squared_error(Y, Y_pred))\n",
    "# Explained variance score: 1 is perfect prediction\n",
    "print('Variance score: %.2f' % r2_score(Y, Y_pred))\n"
   ]
  },
  {
   "cell_type": "code",
   "execution_count": null,
   "metadata": {},
   "outputs": [],
   "source": [
    "# Finally\n",
    "df0050_date['Close'].plot(figsize=[12,6])\n",
    "df0050_date['pred'].plot()"
   ]
  },
  {
   "cell_type": "code",
   "execution_count": null,
   "metadata": {},
   "outputs": [],
   "source": [
    "plt.figure(figsize=(12,6))\n",
    "plt.scatter(df0050_date.index, Y,  color='r', alpha=0.3)\n",
    "plt.plot(df0050_date.index, Y_pred, color='blue', linewidth=2)\n",
    "\n",
    "#plt.xticks(())\n",
    "#plt.yticks(())"
   ]
  },
  {
   "cell_type": "code",
   "execution_count": null,
   "metadata": {},
   "outputs": [],
   "source": []
  }
 ],
 "metadata": {
  "kernelspec": {
   "display_name": "Python 3",
   "language": "python",
   "name": "python3"
  },
  "language_info": {
   "codemirror_mode": {
    "name": "ipython",
    "version": 3
   },
   "file_extension": ".py",
   "mimetype": "text/x-python",
   "name": "python",
   "nbconvert_exporter": "python",
   "pygments_lexer": "ipython3",
   "version": "3.6.1"
  },
  "toc": {
   "colors": {
    "hover_highlight": "#DAA520",
    "navigate_num": "#000000",
    "navigate_text": "#333333",
    "running_highlight": "#FF0000",
    "selected_highlight": "#FFD700",
    "sidebar_border": "#EEEEEE",
    "wrapper_background": "#FFFFFF"
   },
   "moveMenuLeft": true,
   "nav_menu": {
    "height": "12px",
    "width": "252px"
   },
   "navigate_menu": true,
   "number_sections": true,
   "sideBar": true,
   "threshold": 4,
   "toc_cell": false,
   "toc_section_display": "block",
   "toc_window_display": false,
   "widenNotebook": false
  }
 },
 "nbformat": 4,
 "nbformat_minor": 2
}
