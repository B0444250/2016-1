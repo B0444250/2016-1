{
 "cells": [
  {
   "cell_type": "markdown",
   "metadata": {},
   "source": [
    "Challenge Begins\n",
    "---\n",
    "\n",
    "As time flies, Now the time let us attend compettiion:\n",
    "\n",
    "[Tbrain by Trend-Micro](https://tbrain.trendmicro.com.tw)  台灣 ETF 價格預測競賽"
   ]
  },
  {
   "cell_type": "markdown",
   "metadata": {},
   "source": [
    "\n",
    "1. Huge data file: the way to read a data file, chunk by chunk,\n",
    "```python\n",
    "chunksize = 10 ** 6\n",
    "for chunk in pd.read_csv(filename, chunksize=chunksize):\n",
    "       process(chunk)\n",
    "```    "
   ]
  },
  {
   "cell_type": "markdown",
   "metadata": {},
   "source": [
    "\n",
    "    \n",
    "|序號|欄位|說明|\n",
    "|-:|-:|-:|\n",
    "|0|ETFid|ETF 代號|\n",
    "| 1| Mon_ud | 周一漲跌 (1:漲, 0:平, -1:跌) 50% |\n",
    "| 2| Mon_cprice| 周一收盤價 (權重 50%) |\n",
    "| 3| Tue_ud | 周二漲跌 (1:漲, 0:平, -1:跌) 50% |\n",
    "| 4| Tue_cprice| 周二收盤價 (權重 50%) |\n",
    "| 5| Wed_ud | 周三漲跌 (1:漲, 0:平, -1:跌) 50% |\n",
    "| 6| Wed_cprice| 周三收盤價 (權重 50%) |\n",
    "| 7| Thu_ud | 周四漲跌 (1:漲, 0:平, -1:跌) 50% |\n",
    "| 8| Thu_cprice| 周四收盤價 (權重 50%) |\n",
    "| 9| Fri_ud | 周五漲跌 (1:漲, 0:平, -1:跌) 50% |\n",
    "| 10| Fri_cprice| 周五收盤價 (權重 50%) |\n",
    "\n",
    "Sample Format\n",
    "\n",
    "```\n",
    "ETFid,Mon_ud,Mon_cprice,Tue_ud,Tue_cprice,Wed_ud,Wed_cprice,Thu_ud,Thu_cprice,Fri_ud,Fri_cprice\n",
    "0050,1,87.15,1,88.05,-1,88.00,-1,87.25,1,87.45\n",
    "...\n",
    "```"
   ]
  },
  {
   "cell_type": "code",
   "execution_count": null,
   "metadata": {},
   "outputs": [],
   "source": [
    "import numpy as np\n",
    "from matplotlib import cm, pyplot as plt\n",
    "import matplotlib.dates as dates\n",
    "import pandas as pd\n",
    "import datetime\n",
    "\n",
    "from fbprophet import Prophet\n",
    "from pandas_datareader import data as web\n",
    "import datetime\n",
    "\n",
    "import fix_yahoo_finance as yf\n",
    "yf.pdr_override()\n"
   ]
  },
  {
   "cell_type": "code",
   "execution_count": null,
   "metadata": {},
   "outputs": [],
   "source": [
    "import warnings\n",
    "warnings.filterwarnings('ignore')\n"
   ]
  },
  {
   "cell_type": "code",
   "execution_count": null,
   "metadata": {},
   "outputs": [],
   "source": [
    "import time\n",
    "today=time.strftime(\"%Y-%m-%d\")\n",
    "today"
   ]
  },
  {
   "cell_type": "markdown",
   "metadata": {},
   "source": [
    "|code|ETF|code|ETF|\n",
    "| ------| :------: | :------: |---|\n",
    "|0050|元大台灣50|0058|富邦發達|\n",
    "|0051|元大中型100 |0059|富邦金融|\n",
    "|0052|富邦科技|006201|元大富櫃50|\n",
    "|0053|元大電子|006203|元大MSCI台灣|\n",
    "|0054|元大台商50|006204|永豐臺灣加權 |\n",
    "|0055|元大MSCI金融|006208|富邦台50|\n",
    "|0056|元大高股息|00690|兆豐藍籌30|\n",
    "|0057|富邦摩台|00692|富邦摩台|\n",
    "|00701|國泰臺灣低波動30|00713|元大台灣高息低波|"
   ]
  },
  {
   "cell_type": "code",
   "execution_count": null,
   "metadata": {},
   "outputs": [],
   "source": [
    "# manually define the name of ETF's\n",
    "etfs=['0050','0051','0052','0053','0054','0055','0056','0057','0058',\n",
    "      '0059','006201','006203','006204','006208','00690','00692','00701','00702']"
   ]
  },
  {
   "cell_type": "code",
   "execution_count": null,
   "metadata": {},
   "outputs": [],
   "source": []
  },
  {
   "cell_type": "code",
   "execution_count": null,
   "metadata": {},
   "outputs": [],
   "source": [
    "import os, sys"
   ]
  },
  {
   "cell_type": "markdown",
   "metadata": {},
   "source": [
    "\n",
    "Create a new directory if not exists,\n",
    "```python\n",
    "import os\n",
    "if os.path.exists(\"data\"):\n",
    "   print(\"exist\")\n",
    "else:\n",
    "   os.mkdir(\"data\")\n",
    "```    "
   ]
  },
  {
   "cell_type": "code",
   "execution_count": null,
   "metadata": {},
   "outputs": [],
   "source": [
    "df0050_date=pd.read_csv(\"data/0050.csv\",index_col='Date')"
   ]
  },
  {
   "cell_type": "code",
   "execution_count": null,
   "metadata": {},
   "outputs": [],
   "source": [
    "df0050_date=df0050_date.rename(columns={\"代碼\": \"code\", \"日期\": \"date\",'中文簡稱':'Name',\"開盤價(元)\":'Open',\n",
    "                            \"最高價(元)\":'High',\"最低價(元)\":'Low',\"收盤價(元)\":'Close',\"total\":\"Volume\"});\n"
   ]
  },
  {
   "cell_type": "code",
   "execution_count": null,
   "metadata": {},
   "outputs": [],
   "source": [
    "df0050_date.head()"
   ]
  },
  {
   "cell_type": "code",
   "execution_count": null,
   "metadata": {},
   "outputs": [],
   "source": [
    "import numpy as np\n",
    "from sklearn import linear_model\n",
    "from sklearn.metrics import mean_squared_error, r2_score"
   ]
  },
  {
   "cell_type": "code",
   "execution_count": null,
   "metadata": {},
   "outputs": [],
   "source": [
    "# The coefficients\n",
    "print('Prediction: \\n', LinReg.intercept_,' + ',LinReg.coef_,'X_Close')\n",
    "# The mean squared error\n",
    "print(\"Mean squared error: %.2f\"\n",
    "      % mean_squared_error(Y, Y_pred))\n",
    "# Explained variance score: 1 is perfect prediction\n",
    "print('Variance score: %.2f' % r2_score(Y, Y_pred))\n"
   ]
  },
  {
   "cell_type": "markdown",
   "metadata": {},
   "source": [
    "FaceBook Prophet Introduction\n",
    "---\n",
    "One of most prediction package recently for time-series, especially for economical data; it acclaims:\n",
    "1. simple, only 'ds' and 'y', date and observers quantity, are required;\n",
    "- as usual usual, claim the model, training and predict. \n",
    "\n",
    "You should admire this for its compactness!"
   ]
  },
  {
   "cell_type": "code",
   "execution_count": null,
   "metadata": {},
   "outputs": [],
   "source": [
    "from fbprophet import Prophet"
   ]
  },
  {
   "cell_type": "code",
   "execution_count": null,
   "metadata": {},
   "outputs": [],
   "source": []
  },
  {
   "cell_type": "code",
   "execution_count": null,
   "metadata": {},
   "outputs": [],
   "source": [
    "#dffb=pd.DataFrame({'ds':pd.to_datetime(df0050_date.index),'y':df0050_date['Close']})\n",
    "dffb=pd.DataFrame()"
   ]
  },
  {
   "cell_type": "code",
   "execution_count": null,
   "metadata": {},
   "outputs": [],
   "source": [
    "dffb['y'] = df0050_date['Close']\n",
    "dffb['ds'] = pd.to_datetime(df0050_date.index)\n",
    "\n"
   ]
  },
  {
   "cell_type": "code",
   "execution_count": null,
   "metadata": {},
   "outputs": [],
   "source": [
    "dffb.index=pd.to_datetime(dffb.index)"
   ]
  },
  {
   "cell_type": "code",
   "execution_count": null,
   "metadata": {},
   "outputs": [],
   "source": [
    "dffb.head()"
   ]
  },
  {
   "cell_type": "markdown",
   "metadata": {},
   "source": [
    "Modeling Prediction\n",
    "---\n",
    "```\n",
    "Prophet(growth='linear', changepoints=None, n_changepoints=25, yearly_seasonality='auto',\n",
    "        weekly_seasonality='auto', daily_seasonality='auto', holidays=None, \n",
    "        seasonality_prior_scale=10.0, holidays_prior_scale=10.0, \n",
    "        changepoint_prior_scale=0.05, mcmc_samples=0, interval_width=0.8, uncertainty_samples=1000)\n",
    "```\n",
    "- Input ```df.ds, df.y```: datetime and data we want to predict, define them if none;\n",
    "- Output ```df.yhat, df.yhat_upper, df.yhat_lower```: 80% CI's"
   ]
  },
  {
   "cell_type": "code",
   "execution_count": null,
   "metadata": {},
   "outputs": [],
   "source": [
    "s={'changepoint_prior_scale':  0.05, 'weekly_seasonality' : False,\n",
    "    'daily_seasonality': False,'monthly_seasonality': True,\n",
    "    'yearly_seasonality': True,'changepoints': None}"
   ]
  },
  {
   "cell_type": "code",
   "execution_count": null,
   "metadata": {},
   "outputs": [],
   "source": [
    "#model = Prophet(mcmc_samples=500)\n",
    "model = Prophet(daily_seasonality=s['daily_seasonality'],weekly_seasonality=s['weekly_seasonality'], \n",
    "                                  yearly_seasonality=s['yearly_seasonality'],\n",
    "                                  changepoint_prior_scale=s['changepoint_prior_scale'],\n",
    "                                  changepoints=s['changepoints'])\n",
    "model.add_seasonality(name = 'monthly', period = 30.5, fourier_order = 5)"
   ]
  },
  {
   "cell_type": "code",
   "execution_count": null,
   "metadata": {},
   "outputs": [],
   "source": [
    "model.fit(dffb);"
   ]
  },
  {
   "cell_type": "code",
   "execution_count": null,
   "metadata": {},
   "outputs": [],
   "source": [
    "future = model.make_future_dataframe(periods=7)\n",
    "future[-14:]"
   ]
  },
  {
   "cell_type": "code",
   "execution_count": null,
   "metadata": {},
   "outputs": [],
   "source": [
    "forecast = model.predict(future)\n",
    "forecast[['ds','yhat', 'yhat_lower', 'yhat_upper']].tail(14)"
   ]
  },
  {
   "cell_type": "code",
   "execution_count": null,
   "metadata": {},
   "outputs": [],
   "source": [
    "model.plot(forecast)"
   ]
  },
  {
   "cell_type": "code",
   "execution_count": null,
   "metadata": {},
   "outputs": [],
   "source": [
    "model.plot_components(forecast)\n",
    "plt.show()"
   ]
  },
  {
   "cell_type": "code",
   "execution_count": null,
   "metadata": {},
   "outputs": [],
   "source": [
    "dffb.y[-14:]"
   ]
  },
  {
   "cell_type": "code",
   "execution_count": null,
   "metadata": {},
   "outputs": [],
   "source": [
    "obs=forecast[-90:]\n",
    "model.plot(obs)"
   ]
  },
  {
   "cell_type": "code",
   "execution_count": null,
   "metadata": {},
   "outputs": [],
   "source": [
    "dffb.y[-14:].plot()\n"
   ]
  },
  {
   "cell_type": "code",
   "execution_count": null,
   "metadata": {},
   "outputs": [],
   "source": [
    "fb=forecast[['ds','yhat', 'yhat_lower', 'yhat_upper']][-21:-7]"
   ]
  },
  {
   "cell_type": "code",
   "execution_count": null,
   "metadata": {},
   "outputs": [],
   "source": []
  },
  {
   "cell_type": "code",
   "execution_count": null,
   "metadata": {},
   "outputs": [],
   "source": [
    "plt.figure(figsize=(12,6))\n",
    "dffb.y[-14:].plot()\n",
    "plt.plot(fb.ds,fb.yhat,label='pred')\n",
    "plt.legend()\n",
    "plt.ylim(80,85)"
   ]
  },
  {
   "cell_type": "code",
   "execution_count": null,
   "metadata": {},
   "outputs": [],
   "source": [
    "df_pred=forecast[['ds','yhat', 'yhat_lower', 'yhat_upper']][-7:]"
   ]
  },
  {
   "cell_type": "code",
   "execution_count": null,
   "metadata": {},
   "outputs": [],
   "source": [
    "df_pred['weekday']=df_pred.ds.dt.weekday_name"
   ]
  },
  {
   "cell_type": "code",
   "execution_count": null,
   "metadata": {},
   "outputs": [],
   "source": [
    "df_pred['yhat']=round(df_pred.yhat,2)"
   ]
  },
  {
   "cell_type": "raw",
   "metadata": {},
   "source": [
    "todays_date = datetime.datetime.now().date()\n",
    "# predict next weekays at Friday \n",
    "indexs = pd.date_range(todays_date-datetime.timedelta(-3), periods=5, freq='D')"
   ]
  },
  {
   "cell_type": "code",
   "execution_count": null,
   "metadata": {},
   "outputs": [],
   "source": [
    "etfs=['0050','0051','0052','0053','0054','0055','0056','0057','0058',\n",
    "      '0059','006201','006203','006204','006208','00690','00692','00701','00702']"
   ]
  },
  {
   "cell_type": "code",
   "execution_count": null,
   "metadata": {},
   "outputs": [],
   "source": [
    "indexs=df_pred['ds'][1:-1]"
   ]
  },
  {
   "cell_type": "code",
   "execution_count": null,
   "metadata": {},
   "outputs": [],
   "source": [
    "index=df_pred['ds'][1:-1]\n",
    "columns = ['ETFid','Mon_ud','Mon_cprice','Tue_ud','Tue_cprice','Wed_ud','Wed_cprice',\n",
    "           'Thu_ud','Thu_cprice','Fri_ud','Fri_cprice']\n",
    "\n",
    "dfs= pd.DataFrame(columns=columns)\n",
    "#dfs= pd.DataFrame(index=etfs, columns=columns)\n",
    "# Fill zero's rater than Nan \n",
    "#dfs = dfs.fillna(0)"
   ]
  },
  {
   "cell_type": "code",
   "execution_count": null,
   "metadata": {},
   "outputs": [],
   "source": [
    "dfs"
   ]
  },
  {
   "cell_type": "code",
   "execution_count": null,
   "metadata": {},
   "outputs": [],
   "source": []
  },
  {
   "cell_type": "code",
   "execution_count": null,
   "metadata": {},
   "outputs": [],
   "source": [
    "# \n",
    "df_pred['yesterday_close'] = df0050_date.Close[-1:].values[0]\n",
    "#df_pred['yesterday_close'][0]=df0050_date.Close[-1:]\n",
    "df_pred['yesterday_close'][1:] = df_pred['yhat'][:-1]\n",
    "df_pred['price_change'] = df_pred['yhat'] - df_pred['yesterday_close']\n",
    "df_pred['sign'] = np.sign(df_pred['price_change']).astype('int')"
   ]
  },
  {
   "cell_type": "code",
   "execution_count": null,
   "metadata": {},
   "outputs": [],
   "source": [
    "df_pred"
   ]
  },
  {
   "cell_type": "code",
   "execution_count": null,
   "metadata": {},
   "outputs": [],
   "source": [
    "etfs0s=['0050']"
   ]
  },
  {
   "cell_type": "code",
   "execution_count": null,
   "metadata": {},
   "outputs": [],
   "source": [
    "for etfs0 in etfs0s:\n",
    "    a=df_pred.sign[1:-1].values\n",
    "    b=df_pred.yhat[1:-1].values\n",
    "    record=[etfs0]\n",
    "    for i in range(len(a)):\n",
    "        record.append(a[i])\n",
    "        record.append(b[i])\n",
    "    print(record)    "
   ]
  },
  {
   "cell_type": "code",
   "execution_count": null,
   "metadata": {},
   "outputs": [],
   "source": [
    "# insert the final result in defaulted format\n",
    "dfs.loc[0]=record"
   ]
  },
  {
   "cell_type": "code",
   "execution_count": null,
   "metadata": {},
   "outputs": [],
   "source": [
    "dfs"
   ]
  },
  {
   "cell_type": "markdown",
   "metadata": {},
   "source": [
    "Last Note\n",
    "---\n",
    "- Here, we shows how to create the result for id=`0050`. You can create the function in which load all the data, create fbprophet model, fit, etc. After completing work, write all the data into dfs as asked.\n",
    "- Next week, append the last true data into old df and re-do the above work.\n",
    "- <font color=\"red\">Check the result with the exact data after while</font>."
   ]
  },
  {
   "cell_type": "code",
   "execution_count": null,
   "metadata": {},
   "outputs": [],
   "source": []
  },
  {
   "cell_type": "code",
   "execution_count": null,
   "metadata": {},
   "outputs": [],
   "source": []
  },
  {
   "cell_type": "code",
   "execution_count": null,
   "metadata": {},
   "outputs": [],
   "source": []
  },
  {
   "cell_type": "code",
   "execution_count": null,
   "metadata": {},
   "outputs": [],
   "source": []
  },
  {
   "cell_type": "code",
   "execution_count": null,
   "metadata": {},
   "outputs": [],
   "source": []
  }
 ],
 "metadata": {
  "kernelspec": {
   "display_name": "Python 3",
   "language": "python",
   "name": "python3"
  },
  "language_info": {
   "codemirror_mode": {
    "name": "ipython",
    "version": 3
   },
   "file_extension": ".py",
   "mimetype": "text/x-python",
   "name": "python",
   "nbconvert_exporter": "python",
   "pygments_lexer": "ipython3",
   "version": "3.6.1"
  },
  "toc": {
   "colors": {
    "hover_highlight": "#DAA520",
    "navigate_num": "#000000",
    "navigate_text": "#333333",
    "running_highlight": "#FF0000",
    "selected_highlight": "#FFD700",
    "sidebar_border": "#EEEEEE",
    "wrapper_background": "#FFFFFF"
   },
   "moveMenuLeft": true,
   "nav_menu": {
    "height": "12px",
    "width": "252px"
   },
   "navigate_menu": true,
   "number_sections": true,
   "sideBar": true,
   "threshold": 4,
   "toc_cell": false,
   "toc_section_display": "block",
   "toc_window_display": false,
   "widenNotebook": false
  }
 },
 "nbformat": 4,
 "nbformat_minor": 2
}
