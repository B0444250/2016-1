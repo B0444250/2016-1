{
 "cells": [
  {
   "cell_type": "markdown",
   "metadata": {},
   "source": [
    "Statistical Inferences for Ordinal Data\n",
    "===\n",
    "Elisabeth Svensson,Journal of Mathematics and System Science 2 (2012) 8-12\n",
    "\n",
    "\n",
    "The frequency distribution of ordinal data from certain population with size $n$ on a five-point scale, the ordered categories being \n",
    "$$\\color{blue}{A }< \\color{lightblue}{B } < \\color{yellow}{C } < \\color{brown}{D } < \\color{red}{E }$$\n",
    "\n",
    "degrees scaled from <font color=\"blue\">very satisfied</font>, $A$, to <font color=\"red\">very un-satisfied</font>, $E$, 5scales. Let $X$ be pre-category data, $Y$ be post-category data.\n",
    "\n",
    "Relative Position, **RP**\n",
    "---\n",
    "with value within $(-1,1)$,  estimates the difference between the probabilities of the marginal distribution $Y$ being shifted toward higher categories than $X$ and the opposite, $\\mathbf{P} (X < Y) – \\mathbf{P} (Y < X)$.  A positive value of **RP**, indicates that the data set $Y$ has systematically toward higher categories than $X$ has, and negative  toward lower categories:\n",
    "\n",
    "$$RP=\\frac{1}{n^2}\\sum_i y_iC(X)_{i-1}-\\frac{1}{n^2}\\sum_i x_iC(Y)_{i-1}$$\n",
    "where $C(X),C(Y)$: Accumated Frequencies of $X,Y$ respectively. In brief, RP is a sign of a homogeneous group change which could reflect the efficacy of certain plan for the group and reflects the  what future trends become.  \n",
    "\n",
    "\n",
    "Relative rank variance, **RV**,\n",
    "---\n",
    "is defined by the sum squares of aug-rank differences:\n",
    "$$RV=\\frac{6}{n^3}\\sum_i\\sum_j  \\left(\\bar{R}_{ij}^{(X)}-\\bar{R}_{ij}^{(Y)}\\right)^2x_{ij}$$\n",
    "\n",
    "where $n$ is the total sample size and:\n",
    "\n",
    "\\begin{eqnarray}\n",
    "\\bar{R}_{ij}^{(X)}&=&\\sum_k^{i-1}\\sum_j x_{kj}+\\sum_{\\nu=1}^{j-1}x_{i\\nu}\n",
    "                 +\\frac{1}{2}\\left(1+x_{ij}\\right) \\\\\n",
    "\\bar{R}_{ij}^{(Y)}&=&\\sum_k^{j-1}\\sum_i x_{ik}+\\sum_{\\nu=1}^{i-1}x_{\\nu j}\n",
    "                 +\\frac{1}{2}\\left(1+x_{ij}\\right) \\\\                \n",
    "\\end{eqnarray}\n",
    "\n",
    "RV indicates sign of individual heterogeneity in changes, or individual variation in changes.\n",
    "\n",
    "The percentage un-satisfication, **PA**, is 0:\n",
    "\n",
    "$$\\mathbf{\\frac{f_{EE}+f_{DD}}{\\text{total}}=0}$$\n",
    "\n"
   ]
  },
  {
   "cell_type": "code",
   "execution_count": 1,
   "metadata": {
    "collapsed": true
   },
   "outputs": [],
   "source": [
    "from Smodule import *"
   ]
  },
  {
   "cell_type": "code",
   "execution_count": 2,
   "metadata": {},
   "outputs": [
    {
     "data": {
      "application/vnd.jupyter.widget-view+json": {
       "model_id": "d5350ef705ee4553a9070d9419600ed3"
      }
     },
     "metadata": {},
     "output_type": "display_data"
    },
    {
     "data": {
      "text/html": [
       "<table border=\"1\" cellpadding=\"3\" cellspacing=\"0\"  style=\"border:1px solid black;border-collapse:collapse;\"><tr><td  style=\"background-color:orange;border-left: 3px solid black;border-top: 3px solid black;border-left: 1px solid transparent;border-top: 1px solid transparent;\"><b>Y\\X</b></td><td  style=\"background-color:LightGray;\"><b>A</b></td><td  style=\"background-color:LightGray;\"><b>B</b></td><td  style=\"background-color:LightGray;\"><b>C</b></td><td  style=\"background-color:LightGray;\"><b>D</b></td><td  style=\"background-color:LightGray;\"><b>E</b></td><td  style=\"background-color:LightGray;\"><b>Total</b></td></tr><tr><td  style=\"background-color:lightgray;\"><b>E</b></td><td  style=\"background-color:Ivory;\">0</td><td  style=\"background-color:Ivory;\">0</td><td  style=\"background-color:Ivory;\">3</td><td  style=\"background-color:Ivory;\">16</td><td  style=\"background-color:lightbrown;border-left: 3px solid black;border-right: 3px solid black;border-top: 3px solid black;border-bottom: 3px solid black;\">0</td><td  style=\"background-color:Ivory;border-left: 3px solid black;\">19</td></tr><tr><td  style=\"background-color:lightgray;\"><b>D</b></td><td  style=\"background-color:AliceBlue;\">0</td><td  style=\"background-color:AliceBlue;\">5</td><td  style=\"background-color:AliceBlue;\">0</td><td  style=\"background-color:lightbrown;border-left: 3px solid black;border-right: 3px solid black;border-top: 3px solid black;border-bottom: 3px solid black;\">0</td><td  style=\"background-color:AliceBlue;border-top: 3px solid black;border-left: 3px solid black;\">45</td><td  style=\"background-color:AliceBlue;\">50</td></tr><tr><td  style=\"background-color:lightgray;\"><b>C</b></td><td  style=\"background-color:Ivory;\">0</td><td  style=\"background-color:Ivory;\">0</td><td  style=\"background-color:lightbrown;border-left: 3px solid black;border-right: 3px solid black;border-top: 3px solid black;border-bottom: 3px solid black;\">20</td><td  style=\"background-color:Ivory;border-top: 3px solid black;border-left: 3px solid black;\">43</td><td  style=\"background-color:Ivory;\">0</td><td  style=\"background-color:Ivory;\">63</td></tr><tr><td  style=\"background-color:lightgray;\"><b>B</b></td><td  style=\"background-color:AliceBlue;\">0</td><td  style=\"background-color:lightbrown;border-left: 3px solid black;border-right: 3px solid black;border-top: 3px solid black;border-bottom: 3px solid black;\">0</td><td  style=\"background-color:AliceBlue;border-top: 3px solid black;border-left: 3px solid black;\">16</td><td  style=\"background-color:AliceBlue;\">62</td><td  style=\"background-color:AliceBlue;\">10</td><td  style=\"background-color:AliceBlue;\">88</td></tr><tr><td  style=\"background-color:lightgray;\"><b>A</b></td><td  style=\"background-color:lightbrown;border-left: 3px solid black;border-right: 3px solid black;border-top: 3px solid black;border-bottom: 3px solid black;\">0</td><td  style=\"background-color:Ivory;border-top: 3px solid black;border-left: 3px solid black;\">15</td><td  style=\"background-color:Ivory;\">0</td><td  style=\"background-color:Ivory;\">8</td><td  style=\"background-color:Ivory;\">0</td><td  style=\"background-color:Ivory;\">23</td></tr><tr><td  style=\"background-color:lightgray;\"><b>Total</b></td><td  style=\"background-color:AliceBlue;border-top: 3px solid black;\">0</td><td  style=\"background-color:AliceBlue;\">20</td><td  style=\"background-color:AliceBlue;\">39</td><td  style=\"background-color:AliceBlue;\">129</td><td  style=\"background-color:AliceBlue;\">55</td><td  style=\"background-color:AliceBlue;\">243</td></tr></table>"
      ],
      "text/plain": [
       "<ipy_table.IpyTable at 0x106d99eb8>"
      ]
     },
     "metadata": {},
     "output_type": "display_data"
    },
    {
     "name": "stdout",
     "output_type": "stream",
     "text": [
      "95 % confidence interval of RP,  -0.538 :\n",
      " CIs:  (-0.609,-0.467)\n",
      "\u001b[1;33m\n",
      "--[----------- ○ -----------]--\u001b[0m\n",
      " -0.609     -0.538     -0.467 \n",
      "\n",
      "Conclusion: Toward the Lower A\n",
      "\u001b[1;33;47m 95 % confidence interval of RV,  0.221 :\u001b[0m\n",
      " CIs:  (0.194,0.248)\n",
      "\u001b[34m\n",
      "--[----------- ○ -----------]--\u001b[0m\n",
      " 0.194       0.221       0.248 \n",
      "\n",
      "Conclusion: Individual Variation has to be concerned\n"
     ]
    }
   ],
   "source": [
    "InputData()"
   ]
  },
  {
   "cell_type": "markdown",
   "metadata": {},
   "source": [
    "How and Where the embedded *Javascript* Codes Genereated\n",
    "---\n",
    "Since IPyWidgets-5 (dev) with IPython ( $\\ge$ 4.2), we can get the code from main menu, \n",
    "<code style=\"background-color:#dddddd\">**Widgets**</code> and <code style=\"background-color:#eeeeee\">**Embed widget**</code> option:\n",
    "<img src=\"imgs/ipywidgets-1.png\" width=95% />"
   ]
  },
  {
   "cell_type": "markdown",
   "metadata": {},
   "source": [
    "Where tehe codes being embedded\n",
    "---\n",
    "Afert HTML convertion,  find the input cell and embed the code as follows:\n",
    "<img src=\"imgs/ipywidgets-2.png\" width=95% />    \n",
    "    "
   ]
  },
  {
   "cell_type": "markdown",
   "metadata": {},
   "source": [
    "Note \n",
    "---\n",
    "Could the HTML file be *off-line* self-contained, including js and css?  Definite yes,\n",
    "   \n",
    "1. Download the following js files and put them in sub-folder, <font color=\"blue\">js</font>:\n",
    "\n",
    "      <a href=\"https://cdnjs.cloudflare.com/ajax/libs/require.js/2.1.10/require.min.js\">require.min.js</a>, <a href=\"https://cdnjs.cloudflare.com/ajax/libs/jquery/2.0.3/jquery.min.js\">jquery.min.js</a>, and\n",
    "      <a href=\"https://unpkg.com/jupyter-js-widgets@~2.1.4/dist/embed.js\">embed.js</a>;\n",
    "\n",
    "2. copy parts of Jupyter included from <font color=\"blue\">lib/python35/site-packages/notebook/static</font>\n",
    "   to <font color=\"blue\">js</font>:   \n",
    "   - <code style=\"background-color:lightblue\">composents/MathJax</code>,\n",
    "   - <code style=\"background-color:lightblue\">custom/custom.css</code>.\n",
    "\n",
    "3. change links of above from official sites to static address, eg:\n",
    "   \n",
    "  **origianl**\n",
    "    ```HTML\n",
    "    <script src=\"https://unpkg.com/jupyter-js-widgets@~2.1.4/dist/embed.js\"></script>\n",
    "    ```\n",
    "  **modified**  \n",
    "  ```HTML  \n",
    "    <script src=\"js/embed.js\"></script>\n",
    "  ```\n",
    "   \n",
    "\n"
   ]
  },
  {
   "cell_type": "code",
   "execution_count": 11,
   "metadata": {},
   "outputs": [
    {
     "name": "stdout",
     "output_type": "stream",
     "text": [
      "CPython 3.5.2\n",
      "IPython 5.3.0\n",
      "\n",
      "ipywidgets 6.0.0\n",
      "widgetsnbextension 2.0.0\n"
     ]
    }
   ],
   "source": [
    "%load_ext watermark\n",
    "%watermark  -v -p ipywidgets,widgetsnbextension"
   ]
  },
  {
   "cell_type": "code",
   "execution_count": 12,
   "metadata": {},
   "outputs": [
    {
     "name": "stdout",
     "output_type": "stream",
     "text": [
      "[NbConvertApp] Converting notebook Svensson-ipywidgets.ipynb to html\n",
      "[NbConvertApp] Writing 425704 bytes to Svensson-ipywidgets.html\n"
     ]
    }
   ],
   "source": [
    "!jupyter nbconvert Svensson-ipywidgets.ipynb"
   ]
  },
  {
   "cell_type": "code",
   "execution_count": null,
   "metadata": {
    "collapsed": true
   },
   "outputs": [],
   "source": []
  }
 ],
 "metadata": {
  "kernelspec": {
   "display_name": "Python 3",
   "language": "python",
   "name": "python3"
  },
  "language_info": {
   "codemirror_mode": {
    "name": "ipython",
    "version": 3
   },
   "file_extension": ".py",
   "mimetype": "text/x-python",
   "name": "python",
   "nbconvert_exporter": "python",
   "pygments_lexer": "ipython3",
   "version": "3.5.2"
  },
  "widgets": {
   "application/vnd.jupyter.widget-state+json": {
    "state": {
     "00147c5749e84dd4abea7f50a3447635": {
      "model_module": "jupyter-js-widgets",
      "model_module_version": "~2.1.4",
      "model_name": "LayoutModel",
      "state": {
       "_model_module_version": "~2.1.4",
       "_view_module_version": "~2.1.4",
       "width": "15%"
      }
     },
     "0046419a174d4d8985d2e970af2bb393": {
      "model_module": "jupyter-js-widgets",
      "model_module_version": "~2.1.4",
      "model_name": "IntTextModel",
      "state": {
       "_model_module_version": "~2.1.4",
       "_view_module_version": "~2.1.4",
       "layout": "IPY_MODEL_a13c01d0fd4d448e9ddc7b1969f467a5",
       "value": 10
      }
     },
     "00638532af014fb6a3322f428042e8e3": {
      "model_module": "jupyter-js-widgets",
      "model_module_version": "~2.1.4",
      "model_name": "HBoxModel",
      "state": {
       "_model_module_version": "~2.1.4",
       "_view_module_version": "~2.1.4",
       "children": [
        "IPY_MODEL_4f2668066ead4eeda6a90b782015349b"
       ],
       "layout": "IPY_MODEL_9c4c74f161de4a99a9f0b4c70e367024"
      }
     },
     "008a877f41324e8b859b4251ded75668": {
      "model_module": "jupyter-js-widgets",
      "model_module_version": "~2.1.4",
      "model_name": "LayoutModel",
      "state": {
       "_model_module_version": "~2.1.4",
       "_view_module_version": "~2.1.4"
      }
     },
     "00e08988f73b4cfcb52ea11d74c40156": {
      "model_module": "jupyter-js-widgets",
      "model_module_version": "~2.1.4",
      "model_name": "LabelModel",
      "state": {
       "_model_module_version": "~2.1.4",
       "_view_module_version": "~2.1.4",
       "layout": "IPY_MODEL_7c0ce30f96514efa9baf9d6871da5f5e",
       "value": " A "
      }
     },
     "018d3f36e8724e2ca494091c062ad479": {
      "model_module": "jupyter-js-widgets",
      "model_module_version": "~2.1.4",
      "model_name": "LayoutModel",
      "state": {
       "_model_module_version": "~2.1.4",
       "_view_module_version": "~2.1.4"
      }
     },
     "01c14be1497c44a38f22ddfb0429cca2": {
      "model_module": "jupyter-js-widgets",
      "model_module_version": "~2.1.4",
      "model_name": "LayoutModel",
      "state": {
       "_model_module_version": "~2.1.4",
       "_view_module_version": "~2.1.4"
      }
     },
     "02aaa5fbe718449288209b4bea2de575": {
      "model_module": "jupyter-js-widgets",
      "model_module_version": "~2.1.4",
      "model_name": "HBoxModel",
      "state": {
       "_model_module_version": "~2.1.4",
       "_view_module_version": "~2.1.4",
       "children": [
        "IPY_MODEL_89f65398348c4901bb277549d272e825",
        "IPY_MODEL_52a307ea646345779c4d5e82b458f892",
        "IPY_MODEL_69e9dfe8f90341bd86ccc03febc870e9",
        "IPY_MODEL_ccba22694fc344ea990dd8c7ed87f387",
        "IPY_MODEL_25eac54c79c1419ca373abb3bbc165dc",
        "IPY_MODEL_96a0c0c51cf2465b9987f4519f132441"
       ],
       "layout": "IPY_MODEL_597f825a298843228b31f4d27a334119"
      }
     },
     "02f6a08322f5415ca8c53c278c30abcb": {
      "model_module": "jupyter-js-widgets",
      "model_module_version": "~2.1.4",
      "model_name": "LabelModel",
      "state": {
       "_model_module_version": "~2.1.4",
       "_view_module_version": "~2.1.4",
       "layout": "IPY_MODEL_441a930891fa486dad9bb9851bb5c931",
       "value": " C "
      }
     },
     "031f217c99d54e57b59da9907e42f4ca": {
      "model_module": "jupyter-js-widgets",
      "model_module_version": "~2.1.4",
      "model_name": "BoxModel",
      "state": {
       "_model_module_version": "~2.1.4",
       "_view_module_version": "~2.1.4",
       "children": [
        "IPY_MODEL_78539ca456f34c22a445156fbb343f4c"
       ],
       "layout": "IPY_MODEL_f2fec4a967c04128a256ff4a8bfcb21e"
      }
     },
     "03c1eec6be1446d0a174231cf7756313": {
      "model_module": "jupyter-js-widgets",
      "model_module_version": "~2.1.4",
      "model_name": "LabelModel",
      "state": {
       "_model_module_version": "~2.1.4",
       "_view_module_version": "~2.1.4",
       "layout": "IPY_MODEL_5885cf39566f4b938e45c2eccfac0eb4",
       "value": " C "
      }
     },
     "04f9b912fe354abf92cdff5c590aa502": {
      "model_module": "jupyter-js-widgets",
      "model_module_version": "~2.1.4",
      "model_name": "LayoutModel",
      "state": {
       "_model_module_version": "~2.1.4",
       "_view_module_version": "~2.1.4",
       "width": "15%"
      }
     },
     "0518d4bf5a5a42aab4b0c1b1dfda7051": {
      "model_module": "jupyter-js-widgets",
      "model_module_version": "~2.1.4",
      "model_name": "IntTextModel",
      "state": {
       "_model_module_version": "~2.1.4",
       "_view_module_version": "~2.1.4",
       "layout": "IPY_MODEL_0ae329710b9d47e493f752df42ea86ea",
       "value": 10
      }
     },
     "055c5fc1da14411890c73c111276c1d1": {
      "model_module": "jupyter-js-widgets",
      "model_module_version": "~2.1.4",
      "model_name": "LabelModel",
      "state": {
       "_model_module_version": "~2.1.4",
       "_view_module_version": "~2.1.4",
       "layout": "IPY_MODEL_db778644f2f24bb38abbc17032072788",
       "value": " E "
      }
     },
     "065d53a47f0a4c42bdabe94e31344eee": {
      "model_module": "jupyter-js-widgets",
      "model_module_version": "~2.1.4",
      "model_name": "IntTextModel",
      "state": {
       "_model_module_version": "~2.1.4",
       "_view_module_version": "~2.1.4",
       "layout": "IPY_MODEL_fbbfd9639e4c4780ad0959c67ec2dfd3"
      }
     },
     "07a0045d273a458e8a5ccdcd02fa49da": {
      "model_module": "jupyter-js-widgets",
      "model_module_version": "~2.1.4",
      "model_name": "IntTextModel",
      "state": {
       "_model_module_version": "~2.1.4",
       "_view_module_version": "~2.1.4",
       "layout": "IPY_MODEL_19a864f8053e45d2a2f895395ffd6169"
      }
     },
     "07c481a41c9247f0a33e69e2b4bcc2c9": {
      "model_module": "jupyter-js-widgets",
      "model_module_version": "~2.1.4",
      "model_name": "LabelModel",
      "state": {
       "_model_module_version": "~2.1.4",
       "_view_module_version": "~2.1.4",
       "layout": "IPY_MODEL_4a4fa11153224611aff6d1dc6e729eb1",
       "value": " A "
      }
     },
     "07dbf83a913344a7b1dc0434942b9bb2": {
      "model_module": "jupyter-js-widgets",
      "model_module_version": "~2.1.4",
      "model_name": "LayoutModel",
      "state": {
       "_model_module_version": "~2.1.4",
       "_view_module_version": "~2.1.4",
       "width": "15%"
      }
     },
     "09968198f53b44be80fa5528d1c8ff55": {
      "model_module": "jupyter-js-widgets",
      "model_module_version": "~2.1.4",
      "model_name": "LayoutModel",
      "state": {
       "_model_module_version": "~2.1.4",
       "_view_module_version": "~2.1.4",
       "width": "15%"
      }
     },
     "099ddbe6f5bc4bb99ffcf976a4cf5ee4": {
      "model_module": "jupyter-js-widgets",
      "model_module_version": "~2.1.4",
      "model_name": "LayoutModel",
      "state": {
       "_model_module_version": "~2.1.4",
       "_view_module_version": "~2.1.4"
      }
     },
     "09a1b9dbe8254a7daa8b05c1b9acb556": {
      "model_module": "jupyter-js-widgets",
      "model_module_version": "~2.1.4",
      "model_name": "LabelModel",
      "state": {
       "_model_module_version": "~2.1.4",
       "_view_module_version": "~2.1.4",
       "layout": "IPY_MODEL_0a6121d9199d42b492fe6e71a3fef001",
       "value": " D "
      }
     },
     "09b918e695234a0b9018f94988c3fdf8": {
      "model_module": "jupyter-js-widgets",
      "model_module_version": "~2.1.4",
      "model_name": "LabelModel",
      "state": {
       "_model_module_version": "~2.1.4",
       "_view_module_version": "~2.1.4",
       "layout": "IPY_MODEL_9a88f93b8298477893d80ede4c80012c",
       "value": " E "
      }
     },
     "0a57fb85d64c41f497d89caf8cc7480c": {
      "model_module": "jupyter-js-widgets",
      "model_module_version": "~2.1.4",
      "model_name": "LabelModel",
      "state": {
       "_model_module_version": "~2.1.4",
       "_view_module_version": "~2.1.4",
       "layout": "IPY_MODEL_e3728743f8af4113ae9a86e653f37bfc",
       "value": "  "
      }
     },
     "0a6121d9199d42b492fe6e71a3fef001": {
      "model_module": "jupyter-js-widgets",
      "model_module_version": "~2.1.4",
      "model_name": "LayoutModel",
      "state": {
       "_model_module_version": "~2.1.4",
       "_view_module_version": "~2.1.4"
      }
     },
     "0a9845d875c8442a911bdc8a607210a6": {
      "model_module": "jupyter-js-widgets",
      "model_module_version": "~2.1.4",
      "model_name": "LayoutModel",
      "state": {
       "_model_module_version": "~2.1.4",
       "_view_module_version": "~2.1.4",
       "width": "3%"
      }
     },
     "0ad85db82abf435888051b014d36868f": {
      "model_module": "jupyter-js-widgets",
      "model_module_version": "~2.1.4",
      "model_name": "LayoutModel",
      "state": {
       "_model_module_version": "~2.1.4",
       "_view_module_version": "~2.1.4"
      }
     },
     "0ae329710b9d47e493f752df42ea86ea": {
      "model_module": "jupyter-js-widgets",
      "model_module_version": "~2.1.4",
      "model_name": "LayoutModel",
      "state": {
       "_model_module_version": "~2.1.4",
       "_view_module_version": "~2.1.4",
       "width": "15%"
      }
     },
     "0b9794b439a24c0b94279d89420836a5": {
      "model_module": "jupyter-js-widgets",
      "model_module_version": "~2.1.4",
      "model_name": "LayoutModel",
      "state": {
       "_model_module_version": "~2.1.4",
       "_view_module_version": "~2.1.4",
       "width": "15%"
      }
     },
     "0bb06b25aff14ca98a351f7892169843": {
      "model_module": "jupyter-js-widgets",
      "model_module_version": "~2.1.4",
      "model_name": "IntTextModel",
      "state": {
       "_model_module_version": "~2.1.4",
       "_view_module_version": "~2.1.4",
       "layout": "IPY_MODEL_f159ad244a8f46a7a434d0dcf1baf3ac",
       "value": 12
      }
     },
     "0be2e339ed0a43d1ab70d4ed5f8d0248": {
      "model_module": "jupyter-js-widgets",
      "model_module_version": "~2.1.4",
      "model_name": "IntTextModel",
      "state": {
       "_model_module_version": "~2.1.4",
       "_view_module_version": "~2.1.4",
       "layout": "IPY_MODEL_fc9351ebb2ec4688972a9979486cb945"
      }
     },
     "0ce6f5bb1ec4400aac668dc053ae523b": {
      "model_module": "jupyter-js-widgets",
      "model_module_version": "~2.1.4",
      "model_name": "LayoutModel",
      "state": {
       "_model_module_version": "~2.1.4",
       "_view_module_version": "~2.1.4",
       "width": "15%"
      }
     },
     "0cf35744b22c4e8bb8d2ebb2619627b7": {
      "model_module": "jupyter-js-widgets",
      "model_module_version": "~2.1.4",
      "model_name": "BoxModel",
      "state": {
       "_model_module_version": "~2.1.4",
       "_view_module_version": "~2.1.4",
       "children": [
        "IPY_MODEL_2e9155caa8a247c992770293e6498bcf"
       ],
       "layout": "IPY_MODEL_e02d6ee65ed0492eb40bd49f81808d24"
      }
     },
     "0d024ff92fef4a609ea93451a2168871": {
      "model_module": "jupyter-js-widgets",
      "model_module_version": "~2.1.4",
      "model_name": "IntTextModel",
      "state": {
       "_model_module_version": "~2.1.4",
       "_view_module_version": "~2.1.4",
       "layout": "IPY_MODEL_99214c5a1f5e40f0a96ad167934c415e"
      }
     },
     "0d14b88de6024b39bc8f83b5ceec0a67": {
      "model_module": "jupyter-js-widgets",
      "model_module_version": "~2.1.4",
      "model_name": "LayoutModel",
      "state": {
       "_model_module_version": "~2.1.4",
       "_view_module_version": "~2.1.4",
       "width": "15%"
      }
     },
     "0d8c26ad45ec427ea26e5998796947ad": {
      "model_module": "jupyter-js-widgets",
      "model_module_version": "~2.1.4",
      "model_name": "LayoutModel",
      "state": {
       "_model_module_version": "~2.1.4",
       "_view_module_version": "~2.1.4",
       "width": "15%"
      }
     },
     "0df88fb8c4624a6fa17f1d082a6b0d31": {
      "model_module": "jupyter-js-widgets",
      "model_module_version": "~2.1.4",
      "model_name": "BoxModel",
      "state": {
       "_model_module_version": "~2.1.4",
       "_view_module_version": "~2.1.4",
       "children": [
        "IPY_MODEL_07c481a41c9247f0a33e69e2b4bcc2c9"
       ],
       "layout": "IPY_MODEL_e2701a6db478451698dd56dffbc17f2c"
      }
     },
     "0e38f248936449c6b8d44e1a55c83a61": {
      "model_module": "jupyter-js-widgets",
      "model_module_version": "~2.1.4",
      "model_name": "LayoutModel",
      "state": {
       "_model_module_version": "~2.1.4",
       "_view_module_version": "~2.1.4",
       "width": "15%"
      }
     },
     "0e3a87b2322e451eb78f666f778804c6": {
      "model_module": "jupyter-js-widgets",
      "model_module_version": "~2.1.4",
      "model_name": "IntTextModel",
      "state": {
       "_model_module_version": "~2.1.4",
       "_view_module_version": "~2.1.4",
       "layout": "IPY_MODEL_43d16c88189b48198c336691752a946b"
      }
     },
     "0e5a9a73f81f46ff84d19a2957ea1ecc": {
      "model_module": "jupyter-js-widgets",
      "model_module_version": "~2.1.4",
      "model_name": "LayoutModel",
      "state": {
       "_model_module_version": "~2.1.4",
       "_view_module_version": "~2.1.4",
       "width": "15%"
      }
     },
     "0ee64bdb3f4844a7a1fa957755ec829f": {
      "model_module": "jupyter-js-widgets",
      "model_module_version": "~2.1.4",
      "model_name": "LayoutModel",
      "state": {
       "_model_module_version": "~2.1.4",
       "_view_module_version": "~2.1.4",
       "width": "15%"
      }
     },
     "0ef62c9af03e4118b2ee8281be42dc3d": {
      "model_module": "jupyter-js-widgets",
      "model_module_version": "~2.1.4",
      "model_name": "LayoutModel",
      "state": {
       "_model_module_version": "~2.1.4",
       "_view_module_version": "~2.1.4",
       "width": "15%"
      }
     },
     "0fc7898f06a1483c8ec1a4891dff831d": {
      "model_module": "jupyter-js-widgets",
      "model_module_version": "~2.1.4",
      "model_name": "LayoutModel",
      "state": {
       "_model_module_version": "~2.1.4",
       "_view_module_version": "~2.1.4"
      }
     },
     "10f7c3f531df4e1093bd458dacb6821f": {
      "model_module": "jupyter-js-widgets",
      "model_module_version": "~2.1.4",
      "model_name": "BoxModel",
      "state": {
       "_model_module_version": "~2.1.4",
       "_view_module_version": "~2.1.4",
       "children": [
        "IPY_MODEL_4ae43f6f9c3c4a028690921714a1fecd"
       ],
       "layout": "IPY_MODEL_6e81f9626bf94d63b84f8991d5429c19"
      }
     },
     "110b2020fc7d49858326fb15d7a7b2c3": {
      "model_module": "jupyter-js-widgets",
      "model_module_version": "~2.1.4",
      "model_name": "LabelModel",
      "state": {
       "_model_module_version": "~2.1.4",
       "_view_module_version": "~2.1.4",
       "layout": "IPY_MODEL_54fc96aa3c044971a5cdbeafcfc81e62",
       "value": " A "
      }
     },
     "1139e54a76434fac889f73b175137884": {
      "model_module": "jupyter-js-widgets",
      "model_module_version": "~2.1.4",
      "model_name": "IntTextModel",
      "state": {
       "_model_module_version": "~2.1.4",
       "_view_module_version": "~2.1.4",
       "layout": "IPY_MODEL_a8f9408033e44eae8b9b0b5cd1f7ef17"
      }
     },
     "1151c76ea7434891abc21ba8118c4c5c": {
      "model_module": "jupyter-js-widgets",
      "model_module_version": "~2.1.4",
      "model_name": "BoxModel",
      "state": {
       "_model_module_version": "~2.1.4",
       "_view_module_version": "~2.1.4",
       "children": [
        "IPY_MODEL_ec71e65d3d88481ea1b9593679e45749"
       ],
       "layout": "IPY_MODEL_c4472153f63e4ded85183dd7e66184a6"
      }
     },
     "11f5d4ffefa2427ea114469c651088b7": {
      "model_module": "jupyter-js-widgets",
      "model_module_version": "~2.1.4",
      "model_name": "LayoutModel",
      "state": {
       "_model_module_version": "~2.1.4",
       "_view_module_version": "~2.1.4",
       "width": "3%"
      }
     },
     "1243a7c0023e4c23b7d52f1261e4d4cb": {
      "model_module": "jupyter-js-widgets",
      "model_module_version": "~2.1.4",
      "model_name": "IntTextModel",
      "state": {
       "_model_module_version": "~2.1.4",
       "_view_module_version": "~2.1.4",
       "layout": "IPY_MODEL_8cd6d9537efb40e9a77caa6828cb877f",
       "value": 20
      }
     },
     "128627dd671c426ebe3231755793e980": {
      "model_module": "jupyter-js-widgets",
      "model_module_version": "~2.1.4",
      "model_name": "IntTextModel",
      "state": {
       "_model_module_version": "~2.1.4",
       "_view_module_version": "~2.1.4",
       "layout": "IPY_MODEL_748f4bf293e442b4a3109e448668ae71"
      }
     },
     "12d59bff4f2b4341b106c593cc9b059e": {
      "model_module": "jupyter-js-widgets",
      "model_module_version": "~2.1.4",
      "model_name": "HBoxModel",
      "state": {
       "_model_module_version": "~2.1.4",
       "_view_module_version": "~2.1.4",
       "children": [
        "IPY_MODEL_67550412d41846f2826edab796424191",
        "IPY_MODEL_c27b9118414d4f6698e90ebb397246a5",
        "IPY_MODEL_28e8b7660a5d4567ab40a0055c699c7a",
        "IPY_MODEL_87ca8dbbf0b34f38befbc827bd88f52a",
        "IPY_MODEL_95f42f110bdb41a2a013beb838c5e0f3",
        "IPY_MODEL_d431fdfe066f4de7a010f37cf54bd970",
        "IPY_MODEL_bc9e6813af534de4954201243bc3e04f"
       ],
       "layout": "IPY_MODEL_56e708ae36f84802aeeb8ebd8d359676"
      }
     },
     "12d9dd9c9c6c4de3aeb13b9cd2a93d35": {
      "model_module": "jupyter-js-widgets",
      "model_module_version": "~2.1.4",
      "model_name": "LayoutModel",
      "state": {
       "_model_module_version": "~2.1.4",
       "_view_module_version": "~2.1.4",
       "width": "15%"
      }
     },
     "132e896392b94b9cb3aa6a3647e3a24b": {
      "model_module": "jupyter-js-widgets",
      "model_module_version": "~2.1.4",
      "model_name": "IntTextModel",
      "state": {
       "_model_module_version": "~2.1.4",
       "_view_module_version": "~2.1.4",
       "layout": "IPY_MODEL_35dd0e65e2554b89b172d4a351305ceb"
      }
     },
     "13d8d88689c44e3fb9c7b873af9a5a33": {
      "model_module": "jupyter-js-widgets",
      "model_module_version": "~2.1.4",
      "model_name": "LayoutModel",
      "state": {
       "_model_module_version": "~2.1.4",
       "_view_module_version": "~2.1.4",
       "width": "15%"
      }
     },
     "1416030059ae47d999ef0c182696d583": {
      "model_module": "jupyter-js-widgets",
      "model_module_version": "~2.1.4",
      "model_name": "LayoutModel",
      "state": {
       "_model_module_version": "~2.1.4",
       "_view_module_version": "~2.1.4",
       "width": "15%"
      }
     },
     "14df8b9aa4ba4b53a14e10b216c9f72f": {
      "model_module": "jupyter-js-widgets",
      "model_module_version": "~2.1.4",
      "model_name": "LayoutModel",
      "state": {
       "_model_module_version": "~2.1.4",
       "_view_module_version": "~2.1.4",
       "width": "15%"
      }
     },
     "15cf5726c40e432c9e35f9de8d0aea34": {
      "model_module": "jupyter-js-widgets",
      "model_module_version": "~2.1.4",
      "model_name": "LayoutModel",
      "state": {
       "_model_module_version": "~2.1.4",
       "_view_module_version": "~2.1.4"
      }
     },
     "15ebb66b9e6a4af7b333c2d2055cdd21": {
      "model_module": "jupyter-js-widgets",
      "model_module_version": "~2.1.4",
      "model_name": "LayoutModel",
      "state": {
       "_model_module_version": "~2.1.4",
       "_view_module_version": "~2.1.4",
       "width": "15%"
      }
     },
     "161159f60f1f4424a487339b6026bc1e": {
      "model_module": "jupyter-js-widgets",
      "model_module_version": "~2.1.4",
      "model_name": "VBoxModel",
      "state": {
       "_model_module_version": "~2.1.4",
       "_view_module_version": "~2.1.4",
       "children": [
        "IPY_MODEL_12d59bff4f2b4341b106c593cc9b059e",
        "IPY_MODEL_1e91da121fba4ab98b6fe0cada787334",
        "IPY_MODEL_2382923323f8407e8286bb062e094bfd",
        "IPY_MODEL_53038fe5d17443ebb20e59865de576ba",
        "IPY_MODEL_f1c733d05749406dae9fa5946f5ea968",
        "IPY_MODEL_4fccc49ec3c04c59b751282c3f4f6306",
        "IPY_MODEL_f630994d707845b9b30b79fdef93bb85"
       ],
       "layout": "IPY_MODEL_61e639868a6445a584171fadac99c98a"
      }
     },
     "17ef6abc59284344bb305ec5009fcf68": {
      "model_module": "jupyter-js-widgets",
      "model_module_version": "~2.1.4",
      "model_name": "LayoutModel",
      "state": {
       "_model_module_version": "~2.1.4",
       "_view_module_version": "~2.1.4",
       "width": "15%"
      }
     },
     "18e5a57349a042668b539a7789ba30f7": {
      "model_module": "jupyter-js-widgets",
      "model_module_version": "~2.1.4",
      "model_name": "IntTextModel",
      "state": {
       "_model_module_version": "~2.1.4",
       "_view_module_version": "~2.1.4",
       "layout": "IPY_MODEL_862113417ea04b2898ac3dbc9db4cd94"
      }
     },
     "198d55114ba641a48fc83f0bc3d417c2": {
      "model_module": "jupyter-js-widgets",
      "model_module_version": "~2.1.4",
      "model_name": "IntTextModel",
      "state": {
       "_model_module_version": "~2.1.4",
       "_view_module_version": "~2.1.4",
       "layout": "IPY_MODEL_cceef44d0854401caf2f91ad27e00bd3"
      }
     },
     "19a864f8053e45d2a2f895395ffd6169": {
      "model_module": "jupyter-js-widgets",
      "model_module_version": "~2.1.4",
      "model_name": "LayoutModel",
      "state": {
       "_model_module_version": "~2.1.4",
       "_view_module_version": "~2.1.4",
       "width": "15%"
      }
     },
     "1a63507d80fb460aa6993b780181c850": {
      "model_module": "jupyter-js-widgets",
      "model_module_version": "~2.1.4",
      "model_name": "LabelModel",
      "state": {
       "_model_module_version": "~2.1.4",
       "_view_module_version": "~2.1.4",
       "layout": "IPY_MODEL_f8137e727dc54f249f67fc986660d34f",
       "value": " C "
      }
     },
     "1a91002c937d4a7ea96c27123f0d236b": {
      "model_module": "jupyter-js-widgets",
      "model_module_version": "~2.1.4",
      "model_name": "IntTextModel",
      "state": {
       "_model_module_version": "~2.1.4",
       "_view_module_version": "~2.1.4",
       "layout": "IPY_MODEL_2fc94bc4ba7f4654b4e4cca78293bfd3"
      }
     },
     "1be2d5fdfc734d33abeb16128cd61bc9": {
      "model_module": "jupyter-js-widgets",
      "model_module_version": "~2.1.4",
      "model_name": "BoxModel",
      "state": {
       "_model_module_version": "~2.1.4",
       "_view_module_version": "~2.1.4",
       "children": [
        "IPY_MODEL_055c5fc1da14411890c73c111276c1d1"
       ],
       "layout": "IPY_MODEL_a4aa8f1d06724763b2c3c32bf3af3196"
      }
     },
     "1c56abd1076640a1b82575dfe4337939": {
      "model_module": "jupyter-js-widgets",
      "model_module_version": "~2.1.4",
      "model_name": "LayoutModel",
      "state": {
       "_model_module_version": "~2.1.4",
       "_view_module_version": "~2.1.4",
       "width": "15%"
      }
     },
     "1d7f95a8ccc046a587f59932e43a35f6": {
      "model_module": "jupyter-js-widgets",
      "model_module_version": "~2.1.4",
      "model_name": "LayoutModel",
      "state": {
       "_model_module_version": "~2.1.4",
       "_view_module_version": "~2.1.4",
       "width": "15%"
      }
     },
     "1dd8160eb93f4c1b853c9198d753e6f6": {
      "model_module": "jupyter-js-widgets",
      "model_module_version": "~2.1.4",
      "model_name": "LayoutModel",
      "state": {
       "_model_module_version": "~2.1.4",
       "_view_module_version": "~2.1.4"
      }
     },
     "1e29e2be0d7c4831a2b286a63cab2803": {
      "model_module": "jupyter-js-widgets",
      "model_module_version": "~2.1.4",
      "model_name": "LabelModel",
      "state": {
       "_model_module_version": "~2.1.4",
       "_view_module_version": "~2.1.4",
       "layout": "IPY_MODEL_fae9a7b0fa4d4afb814a820a413d554d",
       "value": " B "
      }
     },
     "1e3fa6c14abf46a787981f86cf109ae1": {
      "model_module": "jupyter-js-widgets",
      "model_module_version": "~2.1.4",
      "model_name": "LayoutModel",
      "state": {
       "_model_module_version": "~2.1.4",
       "_view_module_version": "~2.1.4"
      }
     },
     "1e714cd467894a50b5fa7894b4c74c86": {
      "model_module": "jupyter-js-widgets",
      "model_module_version": "~2.1.4",
      "model_name": "IntTextModel",
      "state": {
       "_model_module_version": "~2.1.4",
       "_view_module_version": "~2.1.4",
       "layout": "IPY_MODEL_e4d2a0c67d9f499a9efd155939ff06c8"
      }
     },
     "1e8d3ad6d8e3428498debc12f8b9a8bf": {
      "model_module": "jupyter-js-widgets",
      "model_module_version": "~2.1.4",
      "model_name": "LayoutModel",
      "state": {
       "_model_module_version": "~2.1.4",
       "_view_module_version": "~2.1.4"
      }
     },
     "1e91da121fba4ab98b6fe0cada787334": {
      "model_module": "jupyter-js-widgets",
      "model_module_version": "~2.1.4",
      "model_name": "HBoxModel",
      "state": {
       "_model_module_version": "~2.1.4",
       "_view_module_version": "~2.1.4",
       "children": [
        "IPY_MODEL_f00e4c622b7c4bc29f2ed02d9cc7fe50",
        "IPY_MODEL_ca1c5be522c7401c91c73d866222ee96",
        "IPY_MODEL_4f6a58973ed14d3eac019c0a988d9f65",
        "IPY_MODEL_07a0045d273a458e8a5ccdcd02fa49da",
        "IPY_MODEL_ae761d32959f4f90a8e29417c7196a93",
        "IPY_MODEL_065d53a47f0a4c42bdabe94e31344eee"
       ],
       "layout": "IPY_MODEL_ee452381719747f2a15935cff1770997"
      }
     },
     "1f26f9501cff4ad7bfde383453525b4f": {
      "model_module": "jupyter-js-widgets",
      "model_module_version": "~2.1.4",
      "model_name": "IntTextModel",
      "state": {
       "_model_module_version": "~2.1.4",
       "_view_module_version": "~2.1.4",
       "layout": "IPY_MODEL_dcaf171a7dfe48f99fda201df87c3747",
       "value": 8
      }
     },
     "1f402c5b0a33419a945a5de081056bae": {
      "model_module": "jupyter-js-widgets",
      "model_module_version": "~2.1.4",
      "model_name": "LayoutModel",
      "state": {
       "_model_module_version": "~2.1.4",
       "_view_module_version": "~2.1.4",
       "width": "15%"
      }
     },
     "2015f77203a5473f8c661abe4bfa7c4e": {
      "model_module": "jupyter-js-widgets",
      "model_module_version": "~2.1.4",
      "model_name": "IntTextModel",
      "state": {
       "_model_module_version": "~2.1.4",
       "_view_module_version": "~2.1.4",
       "layout": "IPY_MODEL_d9868d10d12142578b8cf822530ac938"
      }
     },
     "20199f6359d74a27936ba5fcf1e2b5a1": {
      "model_module": "jupyter-js-widgets",
      "model_module_version": "~2.1.4",
      "model_name": "LayoutModel",
      "state": {
       "_model_module_version": "~2.1.4",
       "_view_module_version": "~2.1.4",
       "width": "3%"
      }
     },
     "2036320f929a4749b4fd8c7525dd6c78": {
      "model_module": "jupyter-js-widgets",
      "model_module_version": "~2.1.4",
      "model_name": "HBoxModel",
      "state": {
       "_model_module_version": "~2.1.4",
       "_view_module_version": "~2.1.4",
       "children": [
        "IPY_MODEL_0cf35744b22c4e8bb8d2ebb2619627b7",
        "IPY_MODEL_ddfebbe32ca84712ad450c12e3286d99",
        "IPY_MODEL_26aafb390d0e419b8670a5bdd44b0d90",
        "IPY_MODEL_deb0c659c0f2479086879242a7673a56",
        "IPY_MODEL_319adc34dcf743a4af8d39b36d92c450",
        "IPY_MODEL_48fa8b515e764c91b1ad276da0aa5a95"
       ],
       "layout": "IPY_MODEL_256e79549f864d0f9ebf7b01867219e3"
      }
     },
     "215c67be5bfa44078d6049afec3f3c11": {
      "model_module": "jupyter-js-widgets",
      "model_module_version": "~2.1.4",
      "model_name": "LayoutModel",
      "state": {
       "_model_module_version": "~2.1.4",
       "_view_module_version": "~2.1.4",
       "width": "15%"
      }
     },
     "21abd74d20194eed90d5763883b06a9f": {
      "model_module": "jupyter-js-widgets",
      "model_module_version": "~2.1.4",
      "model_name": "LayoutModel",
      "state": {
       "_model_module_version": "~2.1.4",
       "_view_module_version": "~2.1.4"
      }
     },
     "2219348aeb854959a01d9182c80f7dd7": {
      "model_module": "jupyter-js-widgets",
      "model_module_version": "~2.1.4",
      "model_name": "LayoutModel",
      "state": {
       "_model_module_version": "~2.1.4",
       "_view_module_version": "~2.1.4"
      }
     },
     "22cd3efe6fe3458c943f79d8007495e0": {
      "model_module": "jupyter-js-widgets",
      "model_module_version": "~2.1.4",
      "model_name": "LayoutModel",
      "state": {
       "_model_module_version": "~2.1.4",
       "_view_module_version": "~2.1.4",
       "width": "15%"
      }
     },
     "2324a588ad134112a873b4c02c87bf9d": {
      "model_module": "jupyter-js-widgets",
      "model_module_version": "~2.1.4",
      "model_name": "LabelModel",
      "state": {
       "_model_module_version": "~2.1.4",
       "_view_module_version": "~2.1.4",
       "layout": "IPY_MODEL_1e3fa6c14abf46a787981f86cf109ae1",
       "value": " C "
      }
     },
     "23526f4e22d4461ebe63000e243b4390": {
      "model_module": "jupyter-js-widgets",
      "model_module_version": "~2.1.4",
      "model_name": "LayoutModel",
      "state": {
       "_model_module_version": "~2.1.4",
       "_view_module_version": "~2.1.4"
      }
     },
     "2382923323f8407e8286bb062e094bfd": {
      "model_module": "jupyter-js-widgets",
      "model_module_version": "~2.1.4",
      "model_name": "HBoxModel",
      "state": {
       "_model_module_version": "~2.1.4",
       "_view_module_version": "~2.1.4",
       "children": [
        "IPY_MODEL_6267de3322fd4465ad949f21ddfda6ce",
        "IPY_MODEL_682b36d6284a41c5bbbcaef46e81dbc8",
        "IPY_MODEL_3a4090a5a4764d169a2f6a693876c5eb",
        "IPY_MODEL_9e0119fb93e24b248077e1b73afb9763",
        "IPY_MODEL_dd0db5f0bc614d09a086b8de62dc1017",
        "IPY_MODEL_f23c49044b5348adaa45c536bb7cf39c"
       ],
       "layout": "IPY_MODEL_6cf9b86fe98845d288877ba6e12a6c84"
      }
     },
     "246da950be414fc5a551abe91edfc2e0": {
      "model_module": "jupyter-js-widgets",
      "model_module_version": "~2.1.4",
      "model_name": "BoxModel",
      "state": {
       "_model_module_version": "~2.1.4",
       "_view_module_version": "~2.1.4",
       "children": [
        "IPY_MODEL_b7549e254f84481bbf65670127578e10"
       ],
       "layout": "IPY_MODEL_7752531fb3be479090ceff5dafb77d87"
      }
     },
     "24d6aee0b5cd4f08a95f6503b5bd382c": {
      "model_module": "jupyter-js-widgets",
      "model_module_version": "~2.1.4",
      "model_name": "LayoutModel",
      "state": {
       "_model_module_version": "~2.1.4",
       "_view_module_version": "~2.1.4",
       "width": "15%"
      }
     },
     "256e79549f864d0f9ebf7b01867219e3": {
      "model_module": "jupyter-js-widgets",
      "model_module_version": "~2.1.4",
      "model_name": "LayoutModel",
      "state": {
       "_model_module_version": "~2.1.4",
       "_view_module_version": "~2.1.4"
      }
     },
     "25eac54c79c1419ca373abb3bbc165dc": {
      "model_module": "jupyter-js-widgets",
      "model_module_version": "~2.1.4",
      "model_name": "IntTextModel",
      "state": {
       "_model_module_version": "~2.1.4",
       "_view_module_version": "~2.1.4",
       "layout": "IPY_MODEL_48adb9ea312246708b2b47f070c5520f"
      }
     },
     "2675fd2ac8de4de8851cf2682a276c1d": {
      "model_module": "jupyter-js-widgets",
      "model_module_version": "~2.1.4",
      "model_name": "LabelModel",
      "state": {
       "_model_module_version": "~2.1.4",
       "_view_module_version": "~2.1.4",
       "layout": "IPY_MODEL_c7a02ddd28da4847b9d87260e13b49e9",
       "value": "  "
      }
     },
     "26aafb390d0e419b8670a5bdd44b0d90": {
      "model_module": "jupyter-js-widgets",
      "model_module_version": "~2.1.4",
      "model_name": "IntTextModel",
      "state": {
       "_model_module_version": "~2.1.4",
       "_view_module_version": "~2.1.4",
       "layout": "IPY_MODEL_07dbf83a913344a7b1dc0434942b9bb2"
      }
     },
     "275848b70e134a21a0b48fe25de5f35d": {
      "model_module": "jupyter-js-widgets",
      "model_module_version": "~2.1.4",
      "model_name": "LabelModel",
      "state": {
       "_model_module_version": "~2.1.4",
       "_view_module_version": "~2.1.4",
       "layout": "IPY_MODEL_099ddbe6f5bc4bb99ffcf976a4cf5ee4",
       "value": " D "
      }
     },
     "27a5245bde8648ce93e2f11d9050bc81": {
      "model_module": "jupyter-js-widgets",
      "model_module_version": "~2.1.4",
      "model_name": "LayoutModel",
      "state": {
       "_model_module_version": "~2.1.4",
       "_view_module_version": "~2.1.4",
       "width": "15%"
      }
     },
     "27b292722a464ddd80202d8bcdcfd8d1": {
      "model_module": "jupyter-js-widgets",
      "model_module_version": "~2.1.4",
      "model_name": "BoxModel",
      "state": {
       "_model_module_version": "~2.1.4",
       "_view_module_version": "~2.1.4",
       "children": [
        "IPY_MODEL_5f3821cbcd6d46889c4328eb48e5870e"
       ],
       "layout": "IPY_MODEL_79c47db82c644d2c8b6e706b755f6782"
      }
     },
     "282abdf332ef4925a0840a463001de40": {
      "model_module": "jupyter-js-widgets",
      "model_module_version": "~2.1.4",
      "model_name": "LayoutModel",
      "state": {
       "_model_module_version": "~2.1.4",
       "_view_module_version": "~2.1.4"
      }
     },
     "28e8b7660a5d4567ab40a0055c699c7a": {
      "model_module": "jupyter-js-widgets",
      "model_module_version": "~2.1.4",
      "model_name": "BoxModel",
      "state": {
       "_model_module_version": "~2.1.4",
       "_view_module_version": "~2.1.4",
       "children": [
        "IPY_MODEL_110b2020fc7d49858326fb15d7a7b2c3"
       ],
       "layout": "IPY_MODEL_be376ffe87f84d1388b4cc3f1c2e3741"
      }
     },
     "28f4dd43486d4e3cabb50eac134f7515": {
      "model_module": "jupyter-js-widgets",
      "model_module_version": "~2.1.4",
      "model_name": "LayoutModel",
      "state": {
       "_model_module_version": "~2.1.4",
       "_view_module_version": "~2.1.4"
      }
     },
     "2a3a5bd21f4948f480acf0e7d181f165": {
      "model_module": "jupyter-js-widgets",
      "model_module_version": "~2.1.4",
      "model_name": "IntTextModel",
      "state": {
       "_model_module_version": "~2.1.4",
       "_view_module_version": "~2.1.4",
       "layout": "IPY_MODEL_f5d86fc598674a2ba55a4368b05acd38"
      }
     },
     "2a51eef048a44a308725cbb30acc560b": {
      "model_module": "jupyter-js-widgets",
      "model_module_version": "~2.1.4",
      "model_name": "LabelModel",
      "state": {
       "_model_module_version": "~2.1.4",
       "_view_module_version": "~2.1.4",
       "layout": "IPY_MODEL_282abdf332ef4925a0840a463001de40",
       "value": " C "
      }
     },
     "2ad8167ccad44a86a24bd5594da28e77": {
      "model_module": "jupyter-js-widgets",
      "model_module_version": "~2.1.4",
      "model_name": "HBoxModel",
      "state": {
       "_model_module_version": "~2.1.4",
       "_view_module_version": "~2.1.4",
       "children": [
        "IPY_MODEL_397b07336ab84f6e9373a103ba32eadf",
        "IPY_MODEL_e8646e744432447e9863562b57c7d232",
        "IPY_MODEL_e820940bf0224203ad4351520b9d6f8a",
        "IPY_MODEL_b7e4e4e22eba41c4a899d22bb5abee43",
        "IPY_MODEL_58123c8d7a854023a134065dd2b80a6d",
        "IPY_MODEL_b0975492e704493ea5f63575533928bc"
       ],
       "layout": "IPY_MODEL_a3ea954a6f9846afaa682c248ff89680"
      }
     },
     "2b147a09bdb741e4975a8bfda30c0c31": {
      "model_module": "jupyter-js-widgets",
      "model_module_version": "~2.1.4",
      "model_name": "HBoxModel",
      "state": {
       "_model_module_version": "~2.1.4",
       "_view_module_version": "~2.1.4",
       "children": [
        "IPY_MODEL_2d2870cabd3e42f28001987de2c809da",
        "IPY_MODEL_10f7c3f531df4e1093bd458dacb6821f",
        "IPY_MODEL_da00ccbdfade43df9fea1d6cec5fcbe3",
        "IPY_MODEL_8c3e51af39bf40dbae5d2ce908272516",
        "IPY_MODEL_73cf612d7fa1489caa25d0c5b528c457",
        "IPY_MODEL_f6ab21a6063c4d84b90ccb3e771680f2",
        "IPY_MODEL_715252a86f8f44979fe1aca2c0eeed36"
       ],
       "layout": "IPY_MODEL_370be4982e094cd2bcafaa1149f176d6"
      }
     },
     "2b73eec20b2f4ac4a2a0a8a426d5112b": {
      "model_module": "jupyter-js-widgets",
      "model_module_version": "~2.1.4",
      "model_name": "LayoutModel",
      "state": {
       "_model_module_version": "~2.1.4",
       "_view_module_version": "~2.1.4",
       "width": "15%"
      }
     },
     "2bdcc438e7424b368147db613092ce26": {
      "model_module": "jupyter-js-widgets",
      "model_module_version": "~2.1.4",
      "model_name": "IntTextModel",
      "state": {
       "_model_module_version": "~2.1.4",
       "_view_module_version": "~2.1.4",
       "layout": "IPY_MODEL_bdbdf90d8035464f9ec71e298f7ad521"
      }
     },
     "2cd3c3761c024720961ab7e6d81ecb72": {
      "model_module": "jupyter-js-widgets",
      "model_module_version": "~2.1.4",
      "model_name": "LayoutModel",
      "state": {
       "_model_module_version": "~2.1.4",
       "_view_module_version": "~2.1.4"
      }
     },
     "2d2870cabd3e42f28001987de2c809da": {
      "model_module": "jupyter-js-widgets",
      "model_module_version": "~2.1.4",
      "model_name": "BoxModel",
      "state": {
       "_model_module_version": "~2.1.4",
       "_view_module_version": "~2.1.4",
       "children": [
        "IPY_MODEL_98623e526da6452fa6ab3267e0efef52"
       ],
       "layout": "IPY_MODEL_f67037e07920433191b4978af31d7e78"
      }
     },
     "2d610767512d4559aefeeb0fe2547a0f": {
      "model_module": "jupyter-js-widgets",
      "model_module_version": "~2.1.4",
      "model_name": "IntTextModel",
      "state": {
       "_model_module_version": "~2.1.4",
       "_view_module_version": "~2.1.4",
       "layout": "IPY_MODEL_49135afda8e94db6b8a86ea3d350e07f"
      }
     },
     "2d6a8958c6c446a6be4c4d06220b85c2": {
      "model_module": "jupyter-js-widgets",
      "model_module_version": "~2.1.4",
      "model_name": "LabelModel",
      "state": {
       "_model_module_version": "~2.1.4",
       "_view_module_version": "~2.1.4",
       "layout": "IPY_MODEL_691488c14e5a45feb7d55af38633e905",
       "value": " B "
      }
     },
     "2d6f6376473a412aa921fe3a419306df": {
      "model_module": "jupyter-js-widgets",
      "model_module_version": "~2.1.4",
      "model_name": "BoxModel",
      "state": {
       "_model_module_version": "~2.1.4",
       "_view_module_version": "~2.1.4",
       "children": [
        "IPY_MODEL_3933dceda205453bbd6e74ddbded2b56"
       ],
       "layout": "IPY_MODEL_00147c5749e84dd4abea7f50a3447635"
      }
     },
     "2de88fa99dd847b196c81aac60eaa6f2": {
      "model_module": "jupyter-js-widgets",
      "model_module_version": "~2.1.4",
      "model_name": "LayoutModel",
      "state": {
       "_model_module_version": "~2.1.4",
       "_view_module_version": "~2.1.4",
       "width": "7%"
      }
     },
     "2e718c343c3743608b19578f96382a17": {
      "model_module": "jupyter-js-widgets",
      "model_module_version": "~2.1.4",
      "model_name": "LayoutModel",
      "state": {
       "_model_module_version": "~2.1.4",
       "_view_module_version": "~2.1.4",
       "width": "15%"
      }
     },
     "2e9155caa8a247c992770293e6498bcf": {
      "model_module": "jupyter-js-widgets",
      "model_module_version": "~2.1.4",
      "model_name": "LabelModel",
      "state": {
       "_model_module_version": "~2.1.4",
       "_view_module_version": "~2.1.4",
       "layout": "IPY_MODEL_5807acf250da434ebcec31e60baf89ef",
       "value": " A "
      }
     },
     "2ec8782bf48d483cbf9e09a844f50178": {
      "model_module": "jupyter-js-widgets",
      "model_module_version": "~2.1.4",
      "model_name": "IntTextModel",
      "state": {
       "_model_module_version": "~2.1.4",
       "_view_module_version": "~2.1.4",
       "layout": "IPY_MODEL_d1bcd5b00b26465a8125a8aab9d80cc7"
      }
     },
     "2ef07b1aa6264764af3dfe36b6fd4e27": {
      "model_module": "jupyter-js-widgets",
      "model_module_version": "~2.1.4",
      "model_name": "BoxModel",
      "state": {
       "_model_module_version": "~2.1.4",
       "_view_module_version": "~2.1.4",
       "children": [
        "IPY_MODEL_f646064c7251488f844018d14707e4b5"
       ],
       "layout": "IPY_MODEL_ea4d0f5f5254478298c801a70fb451ad"
      }
     },
     "2ef86b4a2da440ec95137708207d1e06": {
      "model_module": "jupyter-js-widgets",
      "model_module_version": "~2.1.4",
      "model_name": "LayoutModel",
      "state": {
       "_model_module_version": "~2.1.4",
       "_view_module_version": "~2.1.4",
       "width": "15%"
      }
     },
     "2fc94bc4ba7f4654b4e4cca78293bfd3": {
      "model_module": "jupyter-js-widgets",
      "model_module_version": "~2.1.4",
      "model_name": "LayoutModel",
      "state": {
       "_model_module_version": "~2.1.4",
       "_view_module_version": "~2.1.4",
       "width": "15%"
      }
     },
     "30b801c28e3b46c6b8d03f31a7a65679": {
      "model_module": "jupyter-js-widgets",
      "model_module_version": "~2.1.4",
      "model_name": "LayoutModel",
      "state": {
       "_model_module_version": "~2.1.4",
       "_view_module_version": "~2.1.4",
       "width": "15%"
      }
     },
     "30e2e52f079e43ccaa6b44dff37cc1de": {
      "model_module": "jupyter-js-widgets",
      "model_module_version": "~2.1.4",
      "model_name": "LayoutModel",
      "state": {
       "_model_module_version": "~2.1.4",
       "_view_module_version": "~2.1.4",
       "width": "15%"
      }
     },
     "31005235aa9241bbb2a69826e170fdc3": {
      "model_module": "jupyter-js-widgets",
      "model_module_version": "~2.1.4",
      "model_name": "LayoutModel",
      "state": {
       "_model_module_version": "~2.1.4",
       "_view_module_version": "~2.1.4",
       "width": "15%"
      }
     },
     "31493a66d7e343d6910bd53f52832557": {
      "model_module": "jupyter-js-widgets",
      "model_module_version": "~2.1.4",
      "model_name": "LayoutModel",
      "state": {
       "_model_module_version": "~2.1.4",
       "_view_module_version": "~2.1.4",
       "width": "15%"
      }
     },
     "319adc34dcf743a4af8d39b36d92c450": {
      "model_module": "jupyter-js-widgets",
      "model_module_version": "~2.1.4",
      "model_name": "IntTextModel",
      "state": {
       "_model_module_version": "~2.1.4",
       "_view_module_version": "~2.1.4",
       "layout": "IPY_MODEL_facd191c3c904fb094cd7f402c17b3d5"
      }
     },
     "31fbd2115aa242f08571f16d63dab221": {
      "model_module": "jupyter-js-widgets",
      "model_module_version": "~2.1.4",
      "model_name": "LayoutModel",
      "state": {
       "_model_module_version": "~2.1.4",
       "_view_module_version": "~2.1.4",
       "width": "15%"
      }
     },
     "321b1dbc7f7e45f397b578df9fddc125": {
      "model_module": "jupyter-js-widgets",
      "model_module_version": "~2.1.4",
      "model_name": "LayoutModel",
      "state": {
       "_model_module_version": "~2.1.4",
       "_view_module_version": "~2.1.4",
       "width": "15%"
      }
     },
     "32ebfd367817460baaf100f38020bc5a": {
      "model_module": "jupyter-js-widgets",
      "model_module_version": "~2.1.4",
      "model_name": "IntTextModel",
      "state": {
       "_model_module_version": "~2.1.4",
       "_view_module_version": "~2.1.4",
       "layout": "IPY_MODEL_c789b5c32bf74750a40b964ccd557218"
      }
     },
     "32f34d55d1964b558e21ab113bad2e40": {
      "model_module": "jupyter-js-widgets",
      "model_module_version": "~2.1.4",
      "model_name": "IntTextModel",
      "state": {
       "_model_module_version": "~2.1.4",
       "_view_module_version": "~2.1.4",
       "layout": "IPY_MODEL_52a1ed4c80254388ac0f3d5a12f9c2e6"
      }
     },
     "3328f3b0cbf54a248254af70a2bbdb68": {
      "model_module": "jupyter-js-widgets",
      "model_module_version": "~2.1.4",
      "model_name": "IntTextModel",
      "state": {
       "_model_module_version": "~2.1.4",
       "_view_module_version": "~2.1.4",
       "layout": "IPY_MODEL_d4a73f7377df4032924e56b2758f33b4"
      }
     },
     "33f96079e69f40318cd5517cc5922470": {
      "model_module": "jupyter-js-widgets",
      "model_module_version": "~2.1.4",
      "model_name": "LayoutModel",
      "state": {
       "_model_module_version": "~2.1.4",
       "_view_module_version": "~2.1.4"
      }
     },
     "340e8e1fa9de4d579e8aae33c17b6096": {
      "model_module": "jupyter-js-widgets",
      "model_module_version": "~2.1.4",
      "model_name": "IntTextModel",
      "state": {
       "_model_module_version": "~2.1.4",
       "_view_module_version": "~2.1.4",
       "layout": "IPY_MODEL_22cd3efe6fe3458c943f79d8007495e0"
      }
     },
     "3483609f3fdb446d98b903a20068f729": {
      "model_module": "jupyter-js-widgets",
      "model_module_version": "~2.1.4",
      "model_name": "IntTextModel",
      "state": {
       "_model_module_version": "~2.1.4",
       "_view_module_version": "~2.1.4",
       "layout": "IPY_MODEL_ed6221def4644e88b5a2b0b669760e38"
      }
     },
     "34dd6aa650c64688978d304e2c8569e8": {
      "model_module": "jupyter-js-widgets",
      "model_module_version": "~2.1.4",
      "model_name": "LayoutModel",
      "state": {
       "_model_module_version": "~2.1.4",
       "_view_module_version": "~2.1.4"
      }
     },
     "3577c860539e4c63b250348d813ded7f": {
      "model_module": "jupyter-js-widgets",
      "model_module_version": "~2.1.4",
      "model_name": "LayoutModel",
      "state": {
       "_model_module_version": "~2.1.4",
       "_view_module_version": "~2.1.4",
       "width": "15%"
      }
     },
     "35dd0e65e2554b89b172d4a351305ceb": {
      "model_module": "jupyter-js-widgets",
      "model_module_version": "~2.1.4",
      "model_name": "LayoutModel",
      "state": {
       "_model_module_version": "~2.1.4",
       "_view_module_version": "~2.1.4",
       "width": "15%"
      }
     },
     "3680e526834440a6ae7f6927c5f675ec": {
      "model_module": "jupyter-js-widgets",
      "model_module_version": "~2.1.4",
      "model_name": "LayoutModel",
      "state": {
       "_model_module_version": "~2.1.4",
       "_view_module_version": "~2.1.4"
      }
     },
     "3690d977518e4c3291be68fd7c607797": {
      "model_module": "jupyter-js-widgets",
      "model_module_version": "~2.1.4",
      "model_name": "IntTextModel",
      "state": {
       "_model_module_version": "~2.1.4",
       "_view_module_version": "~2.1.4",
       "layout": "IPY_MODEL_b3c0ae344b254623801cc794fd0ca5b4"
      }
     },
     "3691bb6f088c4d18b83a62caa6b860dc": {
      "model_module": "jupyter-js-widgets",
      "model_module_version": "~2.1.4",
      "model_name": "LayoutModel",
      "state": {
       "_model_module_version": "~2.1.4",
       "_view_module_version": "~2.1.4",
       "width": "15%"
      }
     },
     "36937300ef174255a22f88b776989841": {
      "model_module": "jupyter-js-widgets",
      "model_module_version": "~2.1.4",
      "model_name": "LayoutModel",
      "state": {
       "_model_module_version": "~2.1.4",
       "_view_module_version": "~2.1.4"
      }
     },
     "36a3c5f53e8b4e0eb447b209d831fac7": {
      "model_module": "jupyter-js-widgets",
      "model_module_version": "~2.1.4",
      "model_name": "LayoutModel",
      "state": {
       "_model_module_version": "~2.1.4",
       "_view_module_version": "~2.1.4"
      }
     },
     "36c47357b3624859800984bbb6e85533": {
      "model_module": "jupyter-js-widgets",
      "model_module_version": "~2.1.4",
      "model_name": "LayoutModel",
      "state": {
       "_model_module_version": "~2.1.4",
       "_view_module_version": "~2.1.4"
      }
     },
     "370be4982e094cd2bcafaa1149f176d6": {
      "model_module": "jupyter-js-widgets",
      "model_module_version": "~2.1.4",
      "model_name": "LayoutModel",
      "state": {
       "_model_module_version": "~2.1.4",
       "_view_module_version": "~2.1.4"
      }
     },
     "3813de5258cf4eca982acd36547c2601": {
      "model_module": "jupyter-js-widgets",
      "model_module_version": "~2.1.4",
      "model_name": "IntTextModel",
      "state": {
       "_model_module_version": "~2.1.4",
       "_view_module_version": "~2.1.4",
       "layout": "IPY_MODEL_c734faa1d629488e97344cbd849b5185"
      }
     },
     "3933dceda205453bbd6e74ddbded2b56": {
      "model_module": "jupyter-js-widgets",
      "model_module_version": "~2.1.4",
      "model_name": "LabelModel",
      "state": {
       "_model_module_version": "~2.1.4",
       "_view_module_version": "~2.1.4",
       "layout": "IPY_MODEL_bd97f2755f2e4e4189b939206628238b",
       "value": " C "
      }
     },
     "397b07336ab84f6e9373a103ba32eadf": {
      "model_module": "jupyter-js-widgets",
      "model_module_version": "~2.1.4",
      "model_name": "BoxModel",
      "state": {
       "_model_module_version": "~2.1.4",
       "_view_module_version": "~2.1.4",
       "children": [
        "IPY_MODEL_2324a588ad134112a873b4c02c87bf9d"
       ],
       "layout": "IPY_MODEL_64f271cefbba4acca556f19ee8185d41"
      }
     },
     "3a20f0e7c88a4719bf7a8eb0436d7f86": {
      "model_module": "jupyter-js-widgets",
      "model_module_version": "~2.1.4",
      "model_name": "IntTextModel",
      "state": {
       "_model_module_version": "~2.1.4",
       "_view_module_version": "~2.1.4",
       "layout": "IPY_MODEL_dba5ac3208624924b6f8a79cd3bfa34d"
      }
     },
     "3a4090a5a4764d169a2f6a693876c5eb": {
      "model_module": "jupyter-js-widgets",
      "model_module_version": "~2.1.4",
      "model_name": "IntTextModel",
      "state": {
       "_model_module_version": "~2.1.4",
       "_view_module_version": "~2.1.4",
       "layout": "IPY_MODEL_f4b229f41fa84c3b85468cbff2a95fe6"
      }
     },
     "3a4f9a62296e405b8b10401a40db0e3a": {
      "model_module": "jupyter-js-widgets",
      "model_module_version": "~2.1.4",
      "model_name": "LayoutModel",
      "state": {
       "_model_module_version": "~2.1.4",
       "_view_module_version": "~2.1.4"
      }
     },
     "3a7ca08624444fd69fb59829d2ec5a77": {
      "model_module": "jupyter-js-widgets",
      "model_module_version": "~2.1.4",
      "model_name": "LabelModel",
      "state": {
       "_model_module_version": "~2.1.4",
       "_view_module_version": "~2.1.4",
       "layout": "IPY_MODEL_432727c928604299af38e5ebf0623a0f",
       "value": " E "
      }
     },
     "3ac442bf233346c88e94e76b12c479c7": {
      "model_module": "jupyter-js-widgets",
      "model_module_version": "~2.1.4",
      "model_name": "HBoxModel",
      "state": {
       "_model_module_version": "~2.1.4",
       "_view_module_version": "~2.1.4",
       "children": [
        "IPY_MODEL_ad99d4b19bae4dde9fd4b778f221227b",
        "IPY_MODEL_65b2aabf28104611886187fa13a8f812",
        "IPY_MODEL_78372d62071c46bf98690dcdf98ea9a7",
        "IPY_MODEL_1243a7c0023e4c23b7d52f1261e4d4cb",
        "IPY_MODEL_a91367a33ad44ac9934f23c4bbcf4ba5",
        "IPY_MODEL_9dd2d57ddfe24443a755ed5d690092f2"
       ],
       "layout": "IPY_MODEL_d2971958d0c148aa9d4f175b672d639f"
      }
     },
     "3aee8ea4e51745fc8836cfa3424445f2": {
      "model_module": "jupyter-js-widgets",
      "model_module_version": "~2.1.4",
      "model_name": "IntTextModel",
      "state": {
       "_model_module_version": "~2.1.4",
       "_view_module_version": "~2.1.4",
       "layout": "IPY_MODEL_321b1dbc7f7e45f397b578df9fddc125"
      }
     },
     "3c053f6f504042c0a23b654e75414ead": {
      "model_module": "jupyter-js-widgets",
      "model_module_version": "~2.1.4",
      "model_name": "HBoxModel",
      "state": {
       "_model_module_version": "~2.1.4",
       "_view_module_version": "~2.1.4",
       "children": [
        "IPY_MODEL_6b2dfb78f1c845f483d62f411fb393d7",
        "IPY_MODEL_feb40acda6954e258ef28c7fb11efbac",
        "IPY_MODEL_789e4ea1405a4d15bca18af251bf4dac",
        "IPY_MODEL_6a614d21d5044674be4387172b202a3a",
        "IPY_MODEL_b446580327d949088db464a7fec42819",
        "IPY_MODEL_c2545da1c0a2445aa10bb17e35603894"
       ],
       "layout": "IPY_MODEL_cf12ed3f239e4d7b948d09f1948c0a54"
      }
     },
     "3c25e83eb33042f6bde9630e04b85556": {
      "model_module": "jupyter-js-widgets",
      "model_module_version": "~2.1.4",
      "model_name": "IntTextModel",
      "state": {
       "_model_module_version": "~2.1.4",
       "_view_module_version": "~2.1.4",
       "layout": "IPY_MODEL_31005235aa9241bbb2a69826e170fdc3",
       "value": 20
      }
     },
     "3c68053940164eeca4587233c4112d3d": {
      "model_module": "jupyter-js-widgets",
      "model_module_version": "~2.1.4",
      "model_name": "LayoutModel",
      "state": {
       "_model_module_version": "~2.1.4",
       "_view_module_version": "~2.1.4"
      }
     },
     "3c92e8362bc645929be13c5d5c871cad": {
      "model_module": "jupyter-js-widgets",
      "model_module_version": "~2.1.4",
      "model_name": "ButtonModel",
      "state": {
       "_model_module_version": "~2.1.4",
       "_view_module_version": "~2.1.4",
       "description": "Submit",
       "icon": "check",
       "layout": "IPY_MODEL_73d4a6fc92444cecb43bfb5cb2c99e61",
       "style": "IPY_MODEL_832c5688c98947ed97cd997a52988add",
       "tooltip": "Calculate"
      }
     },
     "3e53f5abadb14bd1bb901f29eab6016f": {
      "model_module": "jupyter-js-widgets",
      "model_module_version": "~2.1.4",
      "model_name": "IntTextModel",
      "state": {
       "_model_module_version": "~2.1.4",
       "_view_module_version": "~2.1.4",
       "layout": "IPY_MODEL_4d1d62197a9a43b3b1f415b9eeea6d8d"
      }
     },
     "3e562ac18e2d4572a08095c231f77626": {
      "model_module": "jupyter-js-widgets",
      "model_module_version": "~2.1.4",
      "model_name": "LayoutModel",
      "state": {
       "_model_module_version": "~2.1.4",
       "_view_module_version": "~2.1.4"
      }
     },
     "3fe906f2e5f14f1c881ef7fbdf2f9e61": {
      "model_module": "jupyter-js-widgets",
      "model_module_version": "~2.1.4",
      "model_name": "ButtonStyleModel",
      "state": {
       "_model_module_version": "~2.1.4",
       "_view_module_version": "~2.1.4",
       "button_color": "lightblue"
      }
     },
     "3ffd9dd9827d431f94577ee7e4e722c5": {
      "model_module": "jupyter-js-widgets",
      "model_module_version": "~2.1.4",
      "model_name": "IntTextModel",
      "state": {
       "_model_module_version": "~2.1.4",
       "_view_module_version": "~2.1.4",
       "layout": "IPY_MODEL_4926ffd5ac644ae39361f8e76852702f",
       "value": 62
      }
     },
     "4088b71ad8c24088a5290227804cb7a3": {
      "model_module": "jupyter-js-widgets",
      "model_module_version": "~2.1.4",
      "model_name": "IntTextModel",
      "state": {
       "_model_module_version": "~2.1.4",
       "_view_module_version": "~2.1.4",
       "layout": "IPY_MODEL_b6df48364f6f43fbbce5df483fc13c90"
      }
     },
     "40e4043ad58f490cad3b74b34132ba0a": {
      "model_module": "jupyter-js-widgets",
      "model_module_version": "~2.1.4",
      "model_name": "IntTextModel",
      "state": {
       "_model_module_version": "~2.1.4",
       "_view_module_version": "~2.1.4",
       "layout": "IPY_MODEL_ab1d29838a9e4538bc5b1c4f3c0060a4",
       "value": 10
      }
     },
     "41a55a41bbe14ac2a47a06931490b2bb": {
      "model_module": "jupyter-js-widgets",
      "model_module_version": "~2.1.4",
      "model_name": "LayoutModel",
      "state": {
       "_model_module_version": "~2.1.4",
       "_view_module_version": "~2.1.4",
       "width": "15%"
      }
     },
     "41d0347c89eb461d825dacb8e7087e2e": {
      "model_module": "jupyter-js-widgets",
      "model_module_version": "~2.1.4",
      "model_name": "LayoutModel",
      "state": {
       "_model_module_version": "~2.1.4",
       "_view_module_version": "~2.1.4",
       "width": "15%"
      }
     },
     "42668d37f868468098c51bc01d6624e4": {
      "model_module": "jupyter-js-widgets",
      "model_module_version": "~2.1.4",
      "model_name": "HBoxModel",
      "state": {
       "_model_module_version": "~2.1.4",
       "_view_module_version": "~2.1.4",
       "children": [
        "IPY_MODEL_0df88fb8c4624a6fa17f1d082a6b0d31",
        "IPY_MODEL_7fc1bd4b7fb14efbb0606461983d212b",
        "IPY_MODEL_7c8db4e653684a029be8f351ee3c0f1a",
        "IPY_MODEL_4088b71ad8c24088a5290227804cb7a3",
        "IPY_MODEL_9fb0f2944e5147579413025643a192d5",
        "IPY_MODEL_96d7826cdcb14ea19eb03be6f76e0657"
       ],
       "layout": "IPY_MODEL_b5b5620cf0474f25a6b664ed7da70009"
      }
     },
     "432727c928604299af38e5ebf0623a0f": {
      "model_module": "jupyter-js-widgets",
      "model_module_version": "~2.1.4",
      "model_name": "LayoutModel",
      "state": {
       "_model_module_version": "~2.1.4",
       "_view_module_version": "~2.1.4"
      }
     },
     "43375ab3fb3e463b95cfa42e9dfc9084": {
      "model_module": "jupyter-js-widgets",
      "model_module_version": "~2.1.4",
      "model_name": "BoxModel",
      "state": {
       "_model_module_version": "~2.1.4",
       "_view_module_version": "~2.1.4",
       "children": [
        "IPY_MODEL_6f933f9128b64862af78476b63d25aec"
       ],
       "layout": "IPY_MODEL_20199f6359d74a27936ba5fcf1e2b5a1"
      }
     },
     "43d16c88189b48198c336691752a946b": {
      "model_module": "jupyter-js-widgets",
      "model_module_version": "~2.1.4",
      "model_name": "LayoutModel",
      "state": {
       "_model_module_version": "~2.1.4",
       "_view_module_version": "~2.1.4",
       "width": "15%"
      }
     },
     "441a930891fa486dad9bb9851bb5c931": {
      "model_module": "jupyter-js-widgets",
      "model_module_version": "~2.1.4",
      "model_name": "LayoutModel",
      "state": {
       "_model_module_version": "~2.1.4",
       "_view_module_version": "~2.1.4"
      }
     },
     "459f7622787644628f5c466815a22449": {
      "model_module": "jupyter-js-widgets",
      "model_module_version": "~2.1.4",
      "model_name": "LayoutModel",
      "state": {
       "_model_module_version": "~2.1.4",
       "_view_module_version": "~2.1.4",
       "width": "15%"
      }
     },
     "460a1c6c74124b49950828df049c0028": {
      "model_module": "jupyter-js-widgets",
      "model_module_version": "~2.1.4",
      "model_name": "LabelModel",
      "state": {
       "_model_module_version": "~2.1.4",
       "_view_module_version": "~2.1.4",
       "layout": "IPY_MODEL_bd2d45bf0db64d889ae8db7f05bbb486",
       "value": " A "
      }
     },
     "4810fa7d04f84013bc1b6c99a8937b2c": {
      "model_module": "jupyter-js-widgets",
      "model_module_version": "~2.1.4",
      "model_name": "IntTextModel",
      "state": {
       "_model_module_version": "~2.1.4",
       "_view_module_version": "~2.1.4",
       "layout": "IPY_MODEL_c467d7862d7e4bb3b8fb8b6866adcf01",
       "value": 10
      }
     },
     "481898c8e38541f18bcb23714620cf6b": {
      "model_module": "jupyter-js-widgets",
      "model_module_version": "~2.1.4",
      "model_name": "LabelModel",
      "state": {
       "_model_module_version": "~2.1.4",
       "_view_module_version": "~2.1.4",
       "layout": "IPY_MODEL_9d4ecaac888c446d86ba7f3a21e808b9",
       "value": "  "
      }
     },
     "48adb9ea312246708b2b47f070c5520f": {
      "model_module": "jupyter-js-widgets",
      "model_module_version": "~2.1.4",
      "model_name": "LayoutModel",
      "state": {
       "_model_module_version": "~2.1.4",
       "_view_module_version": "~2.1.4",
       "width": "15%"
      }
     },
     "48bdcf719ed044048900fcb790860727": {
      "model_module": "jupyter-js-widgets",
      "model_module_version": "~2.1.4",
      "model_name": "LayoutModel",
      "state": {
       "_model_module_version": "~2.1.4",
       "_view_module_version": "~2.1.4",
       "width": "15%"
      }
     },
     "48eb5cc121844b1cb099b4102645005b": {
      "model_module": "jupyter-js-widgets",
      "model_module_version": "~2.1.4",
      "model_name": "LayoutModel",
      "state": {
       "_model_module_version": "~2.1.4",
       "_view_module_version": "~2.1.4",
       "width": "15%"
      }
     },
     "48fa8b515e764c91b1ad276da0aa5a95": {
      "model_module": "jupyter-js-widgets",
      "model_module_version": "~2.1.4",
      "model_name": "IntTextModel",
      "state": {
       "_model_module_version": "~2.1.4",
       "_view_module_version": "~2.1.4",
       "layout": "IPY_MODEL_b60d75bea0494e31868f619711e35bda"
      }
     },
     "49135afda8e94db6b8a86ea3d350e07f": {
      "model_module": "jupyter-js-widgets",
      "model_module_version": "~2.1.4",
      "model_name": "LayoutModel",
      "state": {
       "_model_module_version": "~2.1.4",
       "_view_module_version": "~2.1.4",
       "width": "15%"
      }
     },
     "4926ffd5ac644ae39361f8e76852702f": {
      "model_module": "jupyter-js-widgets",
      "model_module_version": "~2.1.4",
      "model_name": "LayoutModel",
      "state": {
       "_model_module_version": "~2.1.4",
       "_view_module_version": "~2.1.4",
       "width": "15%"
      }
     },
     "49ade69066734264ba1ec1e5a9103f41": {
      "model_module": "jupyter-js-widgets",
      "model_module_version": "~2.1.4",
      "model_name": "LayoutModel",
      "state": {
       "_model_module_version": "~2.1.4",
       "_view_module_version": "~2.1.4"
      }
     },
     "49ba9f0c66414fcca41bed9d12b19160": {
      "model_module": "jupyter-js-widgets",
      "model_module_version": "~2.1.4",
      "model_name": "BoxModel",
      "state": {
       "_model_module_version": "~2.1.4",
       "_view_module_version": "~2.1.4",
       "children": [
        "IPY_MODEL_e984e5ec10b44cccb41407e40766df55"
       ],
       "layout": "IPY_MODEL_e77c92add0d545068f82a391a5e48dec"
      }
     },
     "49cac15a3a9a43bd8df75586dd7f1533": {
      "model_module": "jupyter-js-widgets",
      "model_module_version": "~2.1.4",
      "model_name": "LabelModel",
      "state": {
       "_model_module_version": "~2.1.4",
       "_view_module_version": "~2.1.4",
       "layout": "IPY_MODEL_21abd74d20194eed90d5763883b06a9f",
       "value": " A "
      }
     },
     "4a4fa11153224611aff6d1dc6e729eb1": {
      "model_module": "jupyter-js-widgets",
      "model_module_version": "~2.1.4",
      "model_name": "LayoutModel",
      "state": {
       "_model_module_version": "~2.1.4",
       "_view_module_version": "~2.1.4"
      }
     },
     "4ac436ff3b5849e584fb342dcce544ab": {
      "model_module": "jupyter-js-widgets",
      "model_module_version": "~2.1.4",
      "model_name": "BoxModel",
      "state": {
       "_model_module_version": "~2.1.4",
       "_view_module_version": "~2.1.4",
       "children": [
        "IPY_MODEL_0a57fb85d64c41f497d89caf8cc7480c"
       ],
       "layout": "IPY_MODEL_e26dff42236e4c3e82e4f47df0d21e5d"
      }
     },
     "4ae43f6f9c3c4a028690921714a1fecd": {
      "model_module": "jupyter-js-widgets",
      "model_module_version": "~2.1.4",
      "model_name": "LabelModel",
      "state": {
       "_model_module_version": "~2.1.4",
       "_view_module_version": "~2.1.4",
       "layout": "IPY_MODEL_b696b1e62bf24ef795b332e0f9337723",
       "value": "  "
      }
     },
     "4cbaa2cf15254d248cd0d39811c38cc3": {
      "model_module": "jupyter-js-widgets",
      "model_module_version": "~2.1.4",
      "model_name": "LayoutModel",
      "state": {
       "_model_module_version": "~2.1.4",
       "_view_module_version": "~2.1.4",
       "width": "3%"
      }
     },
     "4d1d62197a9a43b3b1f415b9eeea6d8d": {
      "model_module": "jupyter-js-widgets",
      "model_module_version": "~2.1.4",
      "model_name": "LayoutModel",
      "state": {
       "_model_module_version": "~2.1.4",
       "_view_module_version": "~2.1.4",
       "width": "15%"
      }
     },
     "4d379b61a2684b6c9332194099d66624": {
      "model_module": "jupyter-js-widgets",
      "model_module_version": "~2.1.4",
      "model_name": "IntTextModel",
      "state": {
       "_model_module_version": "~2.1.4",
       "_view_module_version": "~2.1.4",
       "layout": "IPY_MODEL_63da4df9caa54cd8922ce70bcb310f88"
      }
     },
     "4d99535c378442d786b7ae08595f50dc": {
      "model_module": "jupyter-js-widgets",
      "model_module_version": "~2.1.4",
      "model_name": "BoxModel",
      "state": {
       "_model_module_version": "~2.1.4",
       "_view_module_version": "~2.1.4",
       "children": [
        "IPY_MODEL_c8de4034d3254c8a99e296c7f0ac0640"
       ],
       "layout": "IPY_MODEL_88f3f26ba6924ff6a37656988a0ae286"
      }
     },
     "4e03ada7b9c145cea8d951df900b0e5c": {
      "model_module": "jupyter-js-widgets",
      "model_module_version": "~2.1.4",
      "model_name": "HBoxModel",
      "state": {
       "_model_module_version": "~2.1.4",
       "_view_module_version": "~2.1.4",
       "children": [
        "IPY_MODEL_b7a1ce4e6f604909894608d46de352fb",
        "IPY_MODEL_340e8e1fa9de4d579e8aae33c17b6096",
        "IPY_MODEL_d28802d04ef74b05aa022a71b2b836db",
        "IPY_MODEL_7aff5c3edb294a838c16846c69156da0",
        "IPY_MODEL_c563ef9fc758433580b0b4a15861d8bb",
        "IPY_MODEL_98fcc6142b7f41acb4553c1d1738eff8"
       ],
       "layout": "IPY_MODEL_49ade69066734264ba1ec1e5a9103f41"
      }
     },
     "4f2668066ead4eeda6a90b782015349b": {
      "model_module": "jupyter-js-widgets",
      "model_module_version": "~2.1.4",
      "model_name": "ButtonModel",
      "state": {
       "_model_module_version": "~2.1.4",
       "_view_module_version": "~2.1.4",
       "description": "Submit",
       "icon": "check",
       "layout": "IPY_MODEL_796fb67b551f4da393de95dd3c73084f",
       "style": "IPY_MODEL_fd03f4921c484556b76bd7956463fe87",
       "tooltip": "Calculate"
      }
     },
     "4f6a58973ed14d3eac019c0a988d9f65": {
      "model_module": "jupyter-js-widgets",
      "model_module_version": "~2.1.4",
      "model_name": "IntTextModel",
      "state": {
       "_model_module_version": "~2.1.4",
       "_view_module_version": "~2.1.4",
       "layout": "IPY_MODEL_6e7499a5d9304227891adae80a7a3aba"
      }
     },
     "4fccc49ec3c04c59b751282c3f4f6306": {
      "model_module": "jupyter-js-widgets",
      "model_module_version": "~2.1.4",
      "model_name": "HBoxModel",
      "state": {
       "_model_module_version": "~2.1.4",
       "_view_module_version": "~2.1.4",
       "children": [
        "IPY_MODEL_2ef07b1aa6264764af3dfe36b6fd4e27",
        "IPY_MODEL_7843821a37f0486ab9c2bbdece66e845",
        "IPY_MODEL_b68e1c99f6ba430895456856524245b6",
        "IPY_MODEL_0d024ff92fef4a609ea93451a2168871",
        "IPY_MODEL_f8ede78f2b7e4b16943f534d765cc7a6",
        "IPY_MODEL_f26b6146fdda4f3794b41e151f367b61"
       ],
       "layout": "IPY_MODEL_ceb94de1827849f48e64914b2a0ae798"
      }
     },
     "50d9d3e9e0834004bb2d9eb733952b7b": {
      "model_module": "jupyter-js-widgets",
      "model_module_version": "~2.1.4",
      "model_name": "BoxModel",
      "state": {
       "_model_module_version": "~2.1.4",
       "_view_module_version": "~2.1.4",
       "children": [
        "IPY_MODEL_09a1b9dbe8254a7daa8b05c1b9acb556"
       ],
       "layout": "IPY_MODEL_fa8d380411574c668dfd2504d21d582e"
      }
     },
     "51a16a87d17b4727b27f3f01f296dcb7": {
      "model_module": "jupyter-js-widgets",
      "model_module_version": "~2.1.4",
      "model_name": "HBoxModel",
      "state": {
       "_model_module_version": "~2.1.4",
       "_view_module_version": "~2.1.4",
       "children": [
        "IPY_MODEL_bb05e2eca65c467cb836b8929974f392",
        "IPY_MODEL_bfc2c01e16d747f095c15bfc83dd7c30",
        "IPY_MODEL_6572194be2034a8b9be5d340c5ad79f3",
        "IPY_MODEL_bbadaf56454a4768aeea35f5c3d332e3",
        "IPY_MODEL_f2b6f4abc6734113bd1941ef7a44af8c",
        "IPY_MODEL_880bd0bc54db40e78b7b76a6ebb84f31"
       ],
       "layout": "IPY_MODEL_c58e83a1bad841ea85bf7f08257ba1ab"
      }
     },
     "52a1ed4c80254388ac0f3d5a12f9c2e6": {
      "model_module": "jupyter-js-widgets",
      "model_module_version": "~2.1.4",
      "model_name": "LayoutModel",
      "state": {
       "_model_module_version": "~2.1.4",
       "_view_module_version": "~2.1.4",
       "width": "15%"
      }
     },
     "52a307ea646345779c4d5e82b458f892": {
      "model_module": "jupyter-js-widgets",
      "model_module_version": "~2.1.4",
      "model_name": "IntTextModel",
      "state": {
       "_model_module_version": "~2.1.4",
       "_view_module_version": "~2.1.4",
       "layout": "IPY_MODEL_866991d0a7924df081b292aaee97031d"
      }
     },
     "53038fe5d17443ebb20e59865de576ba": {
      "model_module": "jupyter-js-widgets",
      "model_module_version": "~2.1.4",
      "model_name": "HBoxModel",
      "state": {
       "_model_module_version": "~2.1.4",
       "_view_module_version": "~2.1.4",
       "children": [
        "IPY_MODEL_ccf59c17afea441f930273860744eeb7",
        "IPY_MODEL_32f34d55d1964b558e21ab113bad2e40",
        "IPY_MODEL_32ebfd367817460baaf100f38020bc5a",
        "IPY_MODEL_daf7df2478224c118e083b33c883d9b7",
        "IPY_MODEL_61567b1869c849eea09b3cbdb94ce365",
        "IPY_MODEL_3a20f0e7c88a4719bf7a8eb0436d7f86"
       ],
       "layout": "IPY_MODEL_d5660bb725514a4998a48cc0e02c5952"
      }
     },
     "537f8ca21a2244c082165342ed0a45d9": {
      "model_module": "jupyter-js-widgets",
      "model_module_version": "~2.1.4",
      "model_name": "IntTextModel",
      "state": {
       "_model_module_version": "~2.1.4",
       "_view_module_version": "~2.1.4",
       "layout": "IPY_MODEL_965393eaa97e4b0bae5f752408e2079c",
       "value": 15
      }
     },
     "5473f52356614a9daa85d9e9fc0b4844": {
      "model_module": "jupyter-js-widgets",
      "model_module_version": "~2.1.4",
      "model_name": "LayoutModel",
      "state": {
       "_model_module_version": "~2.1.4",
       "_view_module_version": "~2.1.4",
       "width": "15%"
      }
     },
     "54fc96aa3c044971a5cdbeafcfc81e62": {
      "model_module": "jupyter-js-widgets",
      "model_module_version": "~2.1.4",
      "model_name": "LayoutModel",
      "state": {
       "_model_module_version": "~2.1.4",
       "_view_module_version": "~2.1.4"
      }
     },
     "555da81a51b54967a96e8af86b265208": {
      "model_module": "jupyter-js-widgets",
      "model_module_version": "~2.1.4",
      "model_name": "LayoutModel",
      "state": {
       "_model_module_version": "~2.1.4",
       "_view_module_version": "~2.1.4",
       "width": "15%"
      }
     },
     "5620fa01a1ab433e9f0094a642027fc5": {
      "model_module": "jupyter-js-widgets",
      "model_module_version": "~2.1.4",
      "model_name": "BoxModel",
      "state": {
       "_model_module_version": "~2.1.4",
       "_view_module_version": "~2.1.4",
       "children": [
        "IPY_MODEL_aeb3c18dd2d24e75903eb56c79351fc0"
       ],
       "layout": "IPY_MODEL_24d6aee0b5cd4f08a95f6503b5bd382c"
      }
     },
     "56e708ae36f84802aeeb8ebd8d359676": {
      "model_module": "jupyter-js-widgets",
      "model_module_version": "~2.1.4",
      "model_name": "LayoutModel",
      "state": {
       "_model_module_version": "~2.1.4",
       "_view_module_version": "~2.1.4"
      }
     },
     "576bb092e243435a9a544210f9518634": {
      "model_module": "jupyter-js-widgets",
      "model_module_version": "~2.1.4",
      "model_name": "ButtonModel",
      "state": {
       "_model_module_version": "~2.1.4",
       "_view_module_version": "~2.1.4",
       "description": "Submit",
       "icon": "check",
       "layout": "IPY_MODEL_3e562ac18e2d4572a08095c231f77626",
       "style": "IPY_MODEL_c90f6cca24434612898b94b8ae219e9f",
       "tooltip": "Calculate"
      }
     },
     "5807acf250da434ebcec31e60baf89ef": {
      "model_module": "jupyter-js-widgets",
      "model_module_version": "~2.1.4",
      "model_name": "LayoutModel",
      "state": {
       "_model_module_version": "~2.1.4",
       "_view_module_version": "~2.1.4"
      }
     },
     "58123c8d7a854023a134065dd2b80a6d": {
      "model_module": "jupyter-js-widgets",
      "model_module_version": "~2.1.4",
      "model_name": "IntTextModel",
      "state": {
       "_model_module_version": "~2.1.4",
       "_view_module_version": "~2.1.4",
       "layout": "IPY_MODEL_04f9b912fe354abf92cdff5c590aa502"
      }
     },
     "5885cf39566f4b938e45c2eccfac0eb4": {
      "model_module": "jupyter-js-widgets",
      "model_module_version": "~2.1.4",
      "model_name": "LayoutModel",
      "state": {
       "_model_module_version": "~2.1.4",
       "_view_module_version": "~2.1.4"
      }
     },
     "597eac8e83a24e10a0eb5efecf4961fa": {
      "model_module": "jupyter-js-widgets",
      "model_module_version": "~2.1.4",
      "model_name": "LayoutModel",
      "state": {
       "_model_module_version": "~2.1.4",
       "_view_module_version": "~2.1.4",
       "width": "15%"
      }
     },
     "597f825a298843228b31f4d27a334119": {
      "model_module": "jupyter-js-widgets",
      "model_module_version": "~2.1.4",
      "model_name": "LayoutModel",
      "state": {
       "_model_module_version": "~2.1.4",
       "_view_module_version": "~2.1.4"
      }
     },
     "5a07e65a917044008e7648ca87220602": {
      "model_module": "jupyter-js-widgets",
      "model_module_version": "~2.1.4",
      "model_name": "LayoutModel",
      "state": {
       "_model_module_version": "~2.1.4",
       "_view_module_version": "~2.1.4",
       "width": "15%"
      }
     },
     "5a67b302289f43c2bffd806b009e9987": {
      "model_module": "jupyter-js-widgets",
      "model_module_version": "~2.1.4",
      "model_name": "IntTextModel",
      "state": {
       "_model_module_version": "~2.1.4",
       "_view_module_version": "~2.1.4",
       "layout": "IPY_MODEL_bf201e713d06424394a41a0b63126e62"
      }
     },
     "5bf19f89694d451da1c52f0d38e2bef3": {
      "model_module": "jupyter-js-widgets",
      "model_module_version": "~2.1.4",
      "model_name": "BoxModel",
      "state": {
       "_model_module_version": "~2.1.4",
       "_view_module_version": "~2.1.4",
       "children": [
        "IPY_MODEL_d870994170194a8c979d1f08ec87399d"
       ],
       "layout": "IPY_MODEL_ba804677c85a4dd39a3c1bece0a40937"
      }
     },
     "5c6d73bd42834a52bac58b45d4087c98": {
      "model_module": "jupyter-js-widgets",
      "model_module_version": "~2.1.4",
      "model_name": "LayoutModel",
      "state": {
       "_model_module_version": "~2.1.4",
       "_view_module_version": "~2.1.4",
       "width": "15%"
      }
     },
     "5cd1fb74c1574995b1d9f7aa34691c55": {
      "model_module": "jupyter-js-widgets",
      "model_module_version": "~2.1.4",
      "model_name": "LayoutModel",
      "state": {
       "_model_module_version": "~2.1.4",
       "_view_module_version": "~2.1.4",
       "width": "15%"
      }
     },
     "5e208473adeb465a8d95513e8730a410": {
      "model_module": "jupyter-js-widgets",
      "model_module_version": "~2.1.4",
      "model_name": "LayoutModel",
      "state": {
       "_model_module_version": "~2.1.4",
       "_view_module_version": "~2.1.4",
       "width": "3%"
      }
     },
     "5e22ebb54cf14ee78e583307fe7caf8a": {
      "model_module": "jupyter-js-widgets",
      "model_module_version": "~2.1.4",
      "model_name": "BoxModel",
      "state": {
       "_model_module_version": "~2.1.4",
       "_view_module_version": "~2.1.4",
       "children": [
        "IPY_MODEL_02f6a08322f5415ca8c53c278c30abcb"
       ],
       "layout": "IPY_MODEL_9293118930a947c8981c8792bc16f74a"
      }
     },
     "5e72fe36ba2b4c208e8f5a43d0ca1882": {
      "model_module": "jupyter-js-widgets",
      "model_module_version": "~2.1.4",
      "model_name": "LayoutModel",
      "state": {
       "_model_module_version": "~2.1.4",
       "_view_module_version": "~2.1.4"
      }
     },
     "5f1d2f8534f54a279644005883179b4b": {
      "model_module": "jupyter-js-widgets",
      "model_module_version": "~2.1.4",
      "model_name": "LayoutModel",
      "state": {
       "_model_module_version": "~2.1.4",
       "_view_module_version": "~2.1.4"
      }
     },
     "5f3821cbcd6d46889c4328eb48e5870e": {
      "model_module": "jupyter-js-widgets",
      "model_module_version": "~2.1.4",
      "model_name": "LabelModel",
      "state": {
       "_model_module_version": "~2.1.4",
       "_view_module_version": "~2.1.4",
       "layout": "IPY_MODEL_3c68053940164eeca4587233c4112d3d",
       "value": " B "
      }
     },
     "60273553e09a4d0dadfa300665352d7b": {
      "model_module": "jupyter-js-widgets",
      "model_module_version": "~2.1.4",
      "model_name": "IntTextModel",
      "state": {
       "_model_module_version": "~2.1.4",
       "_view_module_version": "~2.1.4",
       "layout": "IPY_MODEL_ee66a9e27e594cad94af052cf2ec6ac9",
       "value": 10
      }
     },
     "605f4b68d0e045329199cfde6ceace3e": {
      "model_module": "jupyter-js-widgets",
      "model_module_version": "~2.1.4",
      "model_name": "LayoutModel",
      "state": {
       "_model_module_version": "~2.1.4",
       "_view_module_version": "~2.1.4",
       "width": "15%"
      }
     },
     "60dff0a89b9148f8b29f851a79031c4c": {
      "model_module": "jupyter-js-widgets",
      "model_module_version": "~2.1.4",
      "model_name": "VBoxModel",
      "state": {
       "_model_module_version": "~2.1.4",
       "_view_module_version": "~2.1.4",
       "children": [
        "IPY_MODEL_85007a1f199e4b2a8775e38fca180952",
        "IPY_MODEL_a84337d668b44fcbb8992e2222fabadf",
        "IPY_MODEL_99b81c757c7a4a149cfe44ec85516a15",
        "IPY_MODEL_3ac442bf233346c88e94e76b12c479c7",
        "IPY_MODEL_02aaa5fbe718449288209b4bea2de575",
        "IPY_MODEL_8d93a4fa385b4a72a3f813fb144e16c6",
        "IPY_MODEL_658b26eefe104c13a907a9ab92ffa54a"
       ],
       "layout": "IPY_MODEL_5e72fe36ba2b4c208e8f5a43d0ca1882"
      }
     },
     "61567b1869c849eea09b3cbdb94ce365": {
      "model_module": "jupyter-js-widgets",
      "model_module_version": "~2.1.4",
      "model_name": "IntTextModel",
      "state": {
       "_model_module_version": "~2.1.4",
       "_view_module_version": "~2.1.4",
       "layout": "IPY_MODEL_e42298c94a2647c7bd70a28eaa31b8b2"
      }
     },
     "61d3bfae14ca4946b63a6c92138965b1": {
      "model_module": "jupyter-js-widgets",
      "model_module_version": "~2.1.4",
      "model_name": "HBoxModel",
      "state": {
       "_model_module_version": "~2.1.4",
       "_view_module_version": "~2.1.4",
       "children": [
        "IPY_MODEL_49ba9f0c66414fcca41bed9d12b19160",
        "IPY_MODEL_b74be18d479046729af1ba0875cd7aad",
        "IPY_MODEL_68eab1a80f0745f998d81226d27d3646",
        "IPY_MODEL_a74e19f14cc949fa8da7e4aa57701525",
        "IPY_MODEL_fb194dae85354175a9c807c8d21ef971",
        "IPY_MODEL_7ed20ddbcfad4931b6ce22964c8936c8"
       ],
       "layout": "IPY_MODEL_a7be1a36877a42dc9d95e4e33e5970c7"
      }
     },
     "61e639868a6445a584171fadac99c98a": {
      "model_module": "jupyter-js-widgets",
      "model_module_version": "~2.1.4",
      "model_name": "LayoutModel",
      "state": {
       "_model_module_version": "~2.1.4",
       "_view_module_version": "~2.1.4"
      }
     },
     "6267de3322fd4465ad949f21ddfda6ce": {
      "model_module": "jupyter-js-widgets",
      "model_module_version": "~2.1.4",
      "model_name": "BoxModel",
      "state": {
       "_model_module_version": "~2.1.4",
       "_view_module_version": "~2.1.4",
       "children": [
        "IPY_MODEL_a932515b508f4036a7b1672a065ecb52"
       ],
       "layout": "IPY_MODEL_11f5d4ffefa2427ea114469c651088b7"
      }
     },
     "63da4df9caa54cd8922ce70bcb310f88": {
      "model_module": "jupyter-js-widgets",
      "model_module_version": "~2.1.4",
      "model_name": "LayoutModel",
      "state": {
       "_model_module_version": "~2.1.4",
       "_view_module_version": "~2.1.4",
       "width": "15%"
      }
     },
     "64f271cefbba4acca556f19ee8185d41": {
      "model_module": "jupyter-js-widgets",
      "model_module_version": "~2.1.4",
      "model_name": "LayoutModel",
      "state": {
       "_model_module_version": "~2.1.4",
       "_view_module_version": "~2.1.4",
       "width": "3%"
      }
     },
     "653d346e9b64460ea80fb6010e22786c": {
      "model_module": "jupyter-js-widgets",
      "model_module_version": "~2.1.4",
      "model_name": "LabelModel",
      "state": {
       "_model_module_version": "~2.1.4",
       "_view_module_version": "~2.1.4",
       "layout": "IPY_MODEL_d850d022747948afa8557760e6b82b24",
       "value": " B "
      }
     },
     "6572194be2034a8b9be5d340c5ad79f3": {
      "model_module": "jupyter-js-widgets",
      "model_module_version": "~2.1.4",
      "model_name": "IntTextModel",
      "state": {
       "_model_module_version": "~2.1.4",
       "_view_module_version": "~2.1.4",
       "layout": "IPY_MODEL_27a5245bde8648ce93e2f11d9050bc81",
       "value": 10
      }
     },
     "658b26eefe104c13a907a9ab92ffa54a": {
      "model_module": "jupyter-js-widgets",
      "model_module_version": "~2.1.4",
      "model_name": "HBoxModel",
      "state": {
       "_model_module_version": "~2.1.4",
       "_view_module_version": "~2.1.4",
       "children": [
        "IPY_MODEL_8fd24aa0758b40c3bc58f4bd8a87ffb1"
       ],
       "layout": "IPY_MODEL_eef37487986346d7b794533de84bf47a"
      }
     },
     "65b2aabf28104611886187fa13a8f812": {
      "model_module": "jupyter-js-widgets",
      "model_module_version": "~2.1.4",
      "model_name": "IntTextModel",
      "state": {
       "_model_module_version": "~2.1.4",
       "_view_module_version": "~2.1.4",
       "layout": "IPY_MODEL_792fca714cf14a61a18e59b681de5817"
      }
     },
     "66ef9667a2af4178a58b1680e52666a0": {
      "model_module": "jupyter-js-widgets",
      "model_module_version": "~2.1.4",
      "model_name": "LayoutModel",
      "state": {
       "_model_module_version": "~2.1.4",
       "_view_module_version": "~2.1.4",
       "width": "15%"
      }
     },
     "67175ee010f84429b7467ba316d9e103": {
      "model_module": "jupyter-js-widgets",
      "model_module_version": "~2.1.4",
      "model_name": "BoxModel",
      "state": {
       "_model_module_version": "~2.1.4",
       "_view_module_version": "~2.1.4",
       "children": [
        "IPY_MODEL_717582c1051341ba928ec4a4e5b1bcd4"
       ],
       "layout": "IPY_MODEL_76fe1d4fd6d84a22b8938c94ca70df2f"
      }
     },
     "67550412d41846f2826edab796424191": {
      "model_module": "jupyter-js-widgets",
      "model_module_version": "~2.1.4",
      "model_name": "BoxModel",
      "state": {
       "_model_module_version": "~2.1.4",
       "_view_module_version": "~2.1.4",
       "children": [
        "IPY_MODEL_7d43c45b4f4e48d687105bad3aff1405"
       ],
       "layout": "IPY_MODEL_9cd8a7887aea4c71ab424f5371bf739f"
      }
     },
     "682b36d6284a41c5bbbcaef46e81dbc8": {
      "model_module": "jupyter-js-widgets",
      "model_module_version": "~2.1.4",
      "model_name": "IntTextModel",
      "state": {
       "_model_module_version": "~2.1.4",
       "_view_module_version": "~2.1.4",
       "layout": "IPY_MODEL_48bdcf719ed044048900fcb790860727"
      }
     },
     "68eab1a80f0745f998d81226d27d3646": {
      "model_module": "jupyter-js-widgets",
      "model_module_version": "~2.1.4",
      "model_name": "IntTextModel",
      "state": {
       "_model_module_version": "~2.1.4",
       "_view_module_version": "~2.1.4",
       "layout": "IPY_MODEL_15ebb66b9e6a4af7b333c2d2055cdd21"
      }
     },
     "691488c14e5a45feb7d55af38633e905": {
      "model_module": "jupyter-js-widgets",
      "model_module_version": "~2.1.4",
      "model_name": "LayoutModel",
      "state": {
       "_model_module_version": "~2.1.4",
       "_view_module_version": "~2.1.4"
      }
     },
     "6975b9491b214f6daac5e180cc31a251": {
      "model_module": "jupyter-js-widgets",
      "model_module_version": "~2.1.4",
      "model_name": "LayoutModel",
      "state": {
       "_model_module_version": "~2.1.4",
       "_view_module_version": "~2.1.4",
       "width": "15%"
      }
     },
     "698ac835d3be447399b5fea077d05edf": {
      "model_module": "jupyter-js-widgets",
      "model_module_version": "~2.1.4",
      "model_name": "LayoutModel",
      "state": {
       "_model_module_version": "~2.1.4",
       "_view_module_version": "~2.1.4",
       "width": "15%"
      }
     },
     "69e9dfe8f90341bd86ccc03febc870e9": {
      "model_module": "jupyter-js-widgets",
      "model_module_version": "~2.1.4",
      "model_name": "IntTextModel",
      "state": {
       "_model_module_version": "~2.1.4",
       "_view_module_version": "~2.1.4",
       "layout": "IPY_MODEL_0e38f248936449c6b8d44e1a55c83a61",
       "value": 5
      }
     },
     "6a614d21d5044674be4387172b202a3a": {
      "model_module": "jupyter-js-widgets",
      "model_module_version": "~2.1.4",
      "model_name": "IntTextModel",
      "state": {
       "_model_module_version": "~2.1.4",
       "_view_module_version": "~2.1.4",
       "layout": "IPY_MODEL_0ee64bdb3f4844a7a1fa957755ec829f"
      }
     },
     "6b2dfb78f1c845f483d62f411fb393d7": {
      "model_module": "jupyter-js-widgets",
      "model_module_version": "~2.1.4",
      "model_name": "BoxModel",
      "state": {
       "_model_module_version": "~2.1.4",
       "_view_module_version": "~2.1.4",
       "children": [
        "IPY_MODEL_6e17979b40794837901c28b8a980a37d"
       ],
       "layout": "IPY_MODEL_bdcd17ed6aac4653bab780b71d507f17"
      }
     },
     "6ca5f919bc6045c9bbb910b31cd89cfa": {
      "model_module": "jupyter-js-widgets",
      "model_module_version": "~2.1.4",
      "model_name": "LabelModel",
      "state": {
       "_model_module_version": "~2.1.4",
       "_view_module_version": "~2.1.4",
       "layout": "IPY_MODEL_2219348aeb854959a01d9182c80f7dd7",
       "value": " E "
      }
     },
     "6cf9b86fe98845d288877ba6e12a6c84": {
      "model_module": "jupyter-js-widgets",
      "model_module_version": "~2.1.4",
      "model_name": "LayoutModel",
      "state": {
       "_model_module_version": "~2.1.4",
       "_view_module_version": "~2.1.4"
      }
     },
     "6e14b9aca08345028bd693f20ca1a3a9": {
      "model_module": "jupyter-js-widgets",
      "model_module_version": "~2.1.4",
      "model_name": "LayoutModel",
      "state": {
       "_model_module_version": "~2.1.4",
       "_view_module_version": "~2.1.4",
       "width": "15%"
      }
     },
     "6e17979b40794837901c28b8a980a37d": {
      "model_module": "jupyter-js-widgets",
      "model_module_version": "~2.1.4",
      "model_name": "LabelModel",
      "state": {
       "_model_module_version": "~2.1.4",
       "_view_module_version": "~2.1.4",
       "layout": "IPY_MODEL_01c14be1497c44a38f22ddfb0429cca2",
       "value": " D "
      }
     },
     "6e7499a5d9304227891adae80a7a3aba": {
      "model_module": "jupyter-js-widgets",
      "model_module_version": "~2.1.4",
      "model_name": "LayoutModel",
      "state": {
       "_model_module_version": "~2.1.4",
       "_view_module_version": "~2.1.4",
       "width": "15%"
      }
     },
     "6e81f9626bf94d63b84f8991d5429c19": {
      "model_module": "jupyter-js-widgets",
      "model_module_version": "~2.1.4",
      "model_name": "LayoutModel",
      "state": {
       "_model_module_version": "~2.1.4",
       "_view_module_version": "~2.1.4",
       "width": "7%"
      }
     },
     "6ec3321220b4496797d6c7d18585b226": {
      "model_module": "jupyter-js-widgets",
      "model_module_version": "~2.1.4",
      "model_name": "LayoutModel",
      "state": {
       "_model_module_version": "~2.1.4",
       "_view_module_version": "~2.1.4"
      }
     },
     "6eeaca3ef0394820886f6c055a12ede8": {
      "model_module": "jupyter-js-widgets",
      "model_module_version": "~2.1.4",
      "model_name": "IntTextModel",
      "state": {
       "_model_module_version": "~2.1.4",
       "_view_module_version": "~2.1.4",
       "layout": "IPY_MODEL_d9c2bf4c1e15435f85f0ade0ce626ec5"
      }
     },
     "6f933f9128b64862af78476b63d25aec": {
      "model_module": "jupyter-js-widgets",
      "model_module_version": "~2.1.4",
      "model_name": "LabelModel",
      "state": {
       "_model_module_version": "~2.1.4",
       "_view_module_version": "~2.1.4",
       "layout": "IPY_MODEL_36c47357b3624859800984bbb6e85533",
       "value": " D "
      }
     },
     "707bc4268f1f4a8dbfcc8d1f81777d15": {
      "model_module": "jupyter-js-widgets",
      "model_module_version": "~2.1.4",
      "model_name": "LayoutModel",
      "state": {
       "_model_module_version": "~2.1.4",
       "_view_module_version": "~2.1.4"
      }
     },
     "7144302cce4e408f8aae2fecd49ed5af": {
      "model_module": "jupyter-js-widgets",
      "model_module_version": "~2.1.4",
      "model_name": "LayoutModel",
      "state": {
       "_model_module_version": "~2.1.4",
       "_view_module_version": "~2.1.4",
       "width": "15%"
      }
     },
     "715252a86f8f44979fe1aca2c0eeed36": {
      "model_module": "jupyter-js-widgets",
      "model_module_version": "~2.1.4",
      "model_name": "BoxModel",
      "state": {
       "_model_module_version": "~2.1.4",
       "_view_module_version": "~2.1.4",
       "children": [
        "IPY_MODEL_3a7ca08624444fd69fb59829d2ec5a77"
       ],
       "layout": "IPY_MODEL_0d14b88de6024b39bc8f83b5ceec0a67"
      }
     },
     "717582c1051341ba928ec4a4e5b1bcd4": {
      "model_module": "jupyter-js-widgets",
      "model_module_version": "~2.1.4",
      "model_name": "LabelModel",
      "state": {
       "_model_module_version": "~2.1.4",
       "_view_module_version": "~2.1.4",
       "layout": "IPY_MODEL_e51489fb1662498586db9cc5da9aedf1",
       "value": " E "
      }
     },
     "718a213d920e46b6ae84bf67f5de91aa": {
      "model_module": "jupyter-js-widgets",
      "model_module_version": "~2.1.4",
      "model_name": "LayoutModel",
      "state": {
       "_model_module_version": "~2.1.4",
       "_view_module_version": "~2.1.4",
       "width": "15%"
      }
     },
     "72d9c4ee7f5c4c86ad78a16bee5d4962": {
      "model_module": "jupyter-js-widgets",
      "model_module_version": "~2.1.4",
      "model_name": "BoxModel",
      "state": {
       "_model_module_version": "~2.1.4",
       "_view_module_version": "~2.1.4",
       "children": [
        "IPY_MODEL_e2e2c033ba56493286c746ad6931a7c5"
       ],
       "layout": "IPY_MODEL_92bcab74f8954393951f03b6fc331ced"
      }
     },
     "73989483be2e468c8913f8d24bb3ebad": {
      "model_module": "jupyter-js-widgets",
      "model_module_version": "~2.1.4",
      "model_name": "IntTextModel",
      "state": {
       "_model_module_version": "~2.1.4",
       "_view_module_version": "~2.1.4",
       "layout": "IPY_MODEL_bd2c6c6f6aee459ca974afeec34b3a00"
      }
     },
     "73cf612d7fa1489caa25d0c5b528c457": {
      "model_module": "jupyter-js-widgets",
      "model_module_version": "~2.1.4",
      "model_name": "BoxModel",
      "state": {
       "_model_module_version": "~2.1.4",
       "_view_module_version": "~2.1.4",
       "children": [
        "IPY_MODEL_03c1eec6be1446d0a174231cf7756313"
       ],
       "layout": "IPY_MODEL_605f4b68d0e045329199cfde6ceace3e"
      }
     },
     "73d4a6fc92444cecb43bfb5cb2c99e61": {
      "model_module": "jupyter-js-widgets",
      "model_module_version": "~2.1.4",
      "model_name": "LayoutModel",
      "state": {
       "_model_module_version": "~2.1.4",
       "_view_module_version": "~2.1.4"
      }
     },
     "7400db4bf12d4260a5b2853834d80e3c": {
      "model_module": "jupyter-js-widgets",
      "model_module_version": "~2.1.4",
      "model_name": "LabelModel",
      "state": {
       "_model_module_version": "~2.1.4",
       "_view_module_version": "~2.1.4",
       "layout": "IPY_MODEL_1dd8160eb93f4c1b853c9198d753e6f6",
       "value": " C "
      }
     },
     "748f4bf293e442b4a3109e448668ae71": {
      "model_module": "jupyter-js-widgets",
      "model_module_version": "~2.1.4",
      "model_name": "LayoutModel",
      "state": {
       "_model_module_version": "~2.1.4",
       "_view_module_version": "~2.1.4",
       "width": "15%"
      }
     },
     "74d3ac0297bc488d845ed2a7ab4870c0": {
      "model_module": "jupyter-js-widgets",
      "model_module_version": "~2.1.4",
      "model_name": "LayoutModel",
      "state": {
       "_model_module_version": "~2.1.4",
       "_view_module_version": "~2.1.4",
       "width": "15%"
      }
     },
     "75b124c2a0ef4d01a5a07606138f3b17": {
      "model_module": "jupyter-js-widgets",
      "model_module_version": "~2.1.4",
      "model_name": "HBoxModel",
      "state": {
       "_model_module_version": "~2.1.4",
       "_view_module_version": "~2.1.4",
       "children": [
        "IPY_MODEL_7da9d6b3567e4f46aa65f85cbb843765",
        "IPY_MODEL_ceb3597543ee40d9987528f7650f6924",
        "IPY_MODEL_3c25e83eb33042f6bde9630e04b85556",
        "IPY_MODEL_c745fa89efa9480e988b36533e49d541",
        "IPY_MODEL_3483609f3fdb446d98b903a20068f729",
        "IPY_MODEL_a58ec320256c4a69836701c0c24a2b49"
       ],
       "layout": "IPY_MODEL_bbb94bac9db24512b2ca193455f3c4cc"
      }
     },
     "75b16e84e2714e1fb7fed31077033b91": {
      "model_module": "jupyter-js-widgets",
      "model_module_version": "~2.1.4",
      "model_name": "LayoutModel",
      "state": {
       "_model_module_version": "~2.1.4",
       "_view_module_version": "~2.1.4",
       "width": "3%"
      }
     },
     "76ce698729d643028762a61b1725c1c4": {
      "model_module": "jupyter-js-widgets",
      "model_module_version": "~2.1.4",
      "model_name": "IntTextModel",
      "state": {
       "_model_module_version": "~2.1.4",
       "_view_module_version": "~2.1.4",
       "layout": "IPY_MODEL_30b801c28e3b46c6b8d03f31a7a65679"
      }
     },
     "76dde410fa504e5899f7808e52bdb265": {
      "model_module": "jupyter-js-widgets",
      "model_module_version": "~2.1.4",
      "model_name": "IntTextModel",
      "state": {
       "_model_module_version": "~2.1.4",
       "_view_module_version": "~2.1.4",
       "layout": "IPY_MODEL_fbc12500a04c4d1b9c6b8d241afcc4f1"
      }
     },
     "76fe1d4fd6d84a22b8938c94ca70df2f": {
      "model_module": "jupyter-js-widgets",
      "model_module_version": "~2.1.4",
      "model_name": "LayoutModel",
      "state": {
       "_model_module_version": "~2.1.4",
       "_view_module_version": "~2.1.4",
       "width": "15%"
      }
     },
     "770edfaf9dfe4ae49e2604887ebb37bb": {
      "model_module": "jupyter-js-widgets",
      "model_module_version": "~2.1.4",
      "model_name": "LayoutModel",
      "state": {
       "_model_module_version": "~2.1.4",
       "_view_module_version": "~2.1.4",
       "width": "15%"
      }
     },
     "77184a719d4742278d84f1c5b0f46289": {
      "model_module": "jupyter-js-widgets",
      "model_module_version": "~2.1.4",
      "model_name": "LayoutModel",
      "state": {
       "_model_module_version": "~2.1.4",
       "_view_module_version": "~2.1.4",
       "width": "15%"
      }
     },
     "7752531fb3be479090ceff5dafb77d87": {
      "model_module": "jupyter-js-widgets",
      "model_module_version": "~2.1.4",
      "model_name": "LayoutModel",
      "state": {
       "_model_module_version": "~2.1.4",
       "_view_module_version": "~2.1.4",
       "width": "15%"
      }
     },
     "78372d62071c46bf98690dcdf98ea9a7": {
      "model_module": "jupyter-js-widgets",
      "model_module_version": "~2.1.4",
      "model_name": "IntTextModel",
      "state": {
       "_model_module_version": "~2.1.4",
       "_view_module_version": "~2.1.4",
       "layout": "IPY_MODEL_dece1609d78c4bc883dc11d4d8088aff"
      }
     },
     "7843821a37f0486ab9c2bbdece66e845": {
      "model_module": "jupyter-js-widgets",
      "model_module_version": "~2.1.4",
      "model_name": "IntTextModel",
      "state": {
       "_model_module_version": "~2.1.4",
       "_view_module_version": "~2.1.4",
       "layout": "IPY_MODEL_17ef6abc59284344bb305ec5009fcf68"
      }
     },
     "78539ca456f34c22a445156fbb343f4c": {
      "model_module": "jupyter-js-widgets",
      "model_module_version": "~2.1.4",
      "model_name": "LabelModel",
      "state": {
       "_model_module_version": "~2.1.4",
       "_view_module_version": "~2.1.4",
       "layout": "IPY_MODEL_d45d183d378b45f884124ca877401886",
       "value": " Y\\X "
      }
     },
     "789e4ea1405a4d15bca18af251bf4dac": {
      "model_module": "jupyter-js-widgets",
      "model_module_version": "~2.1.4",
      "model_name": "IntTextModel",
      "state": {
       "_model_module_version": "~2.1.4",
       "_view_module_version": "~2.1.4",
       "layout": "IPY_MODEL_459f7622787644628f5c466815a22449",
       "value": 5
      }
     },
     "78b14a2ba4bb4cc3aae926a2f1dd3398": {
      "model_module": "jupyter-js-widgets",
      "model_module_version": "~2.1.4",
      "model_name": "LayoutModel",
      "state": {
       "_model_module_version": "~2.1.4",
       "_view_module_version": "~2.1.4"
      }
     },
     "78c342ce8a5b4d17ab6be152024af49b": {
      "model_module": "jupyter-js-widgets",
      "model_module_version": "~2.1.4",
      "model_name": "HBoxModel",
      "state": {
       "_model_module_version": "~2.1.4",
       "_view_module_version": "~2.1.4",
       "children": [
        "IPY_MODEL_c77a88d762994e91bd00268759f3734f",
        "IPY_MODEL_76dde410fa504e5899f7808e52bdb265",
        "IPY_MODEL_cd5b45211f9b437ea39ec25f10121576",
        "IPY_MODEL_2a3a5bd21f4948f480acf0e7d181f165",
        "IPY_MODEL_a2eba8a44458487c9d73948bff5f1c7d",
        "IPY_MODEL_b5dc2ef19fc44cdc84e193bb03238da7"
       ],
       "layout": "IPY_MODEL_fec7ccbd18f34b43873c9b76fdb1521b"
      }
     },
     "78ce775072614b3ab1acc7bf3188d009": {
      "model_module": "jupyter-js-widgets",
      "model_module_version": "~2.1.4",
      "model_name": "LayoutModel",
      "state": {
       "_model_module_version": "~2.1.4",
       "_view_module_version": "~2.1.4",
       "width": "15%"
      }
     },
     "792071b687aa4b8cadd5a2e64ba76c6e": {
      "model_module": "jupyter-js-widgets",
      "model_module_version": "~2.1.4",
      "model_name": "LayoutModel",
      "state": {
       "_model_module_version": "~2.1.4",
       "_view_module_version": "~2.1.4"
      }
     },
     "792fca714cf14a61a18e59b681de5817": {
      "model_module": "jupyter-js-widgets",
      "model_module_version": "~2.1.4",
      "model_name": "LayoutModel",
      "state": {
       "_model_module_version": "~2.1.4",
       "_view_module_version": "~2.1.4",
       "width": "15%"
      }
     },
     "7939ec63ac2649ea9c7892e4da982154": {
      "model_module": "jupyter-js-widgets",
      "model_module_version": "~2.1.4",
      "model_name": "LayoutModel",
      "state": {
       "_model_module_version": "~2.1.4",
       "_view_module_version": "~2.1.4",
       "width": "3%"
      }
     },
     "79482a661b1d446dbedf0315e34a9613": {
      "model_module": "jupyter-js-widgets",
      "model_module_version": "~2.1.4",
      "model_name": "LayoutModel",
      "state": {
       "_model_module_version": "~2.1.4",
       "_view_module_version": "~2.1.4",
       "width": "15%"
      }
     },
     "796fb67b551f4da393de95dd3c73084f": {
      "model_module": "jupyter-js-widgets",
      "model_module_version": "~2.1.4",
      "model_name": "LayoutModel",
      "state": {
       "_model_module_version": "~2.1.4",
       "_view_module_version": "~2.1.4"
      }
     },
     "79c47db82c644d2c8b6e706b755f6782": {
      "model_module": "jupyter-js-widgets",
      "model_module_version": "~2.1.4",
      "model_name": "LayoutModel",
      "state": {
       "_model_module_version": "~2.1.4",
       "_view_module_version": "~2.1.4",
       "width": "15%"
      }
     },
     "7ae0da92e5c540ada949b47db7acb899": {
      "model_module": "jupyter-js-widgets",
      "model_module_version": "~2.1.4",
      "model_name": "LayoutModel",
      "state": {
       "_model_module_version": "~2.1.4",
       "_view_module_version": "~2.1.4",
       "width": "3%"
      }
     },
     "7aff5c3edb294a838c16846c69156da0": {
      "model_module": "jupyter-js-widgets",
      "model_module_version": "~2.1.4",
      "model_name": "IntTextModel",
      "state": {
       "_model_module_version": "~2.1.4",
       "_view_module_version": "~2.1.4",
       "layout": "IPY_MODEL_caea2bfbb149483c94e5bdb39396e685",
       "value": 20
      }
     },
     "7b74637d94aa46d8ac7689e46b0376e0": {
      "model_module": "jupyter-js-widgets",
      "model_module_version": "~2.1.4",
      "model_name": "LayoutModel",
      "state": {
       "_model_module_version": "~2.1.4",
       "_view_module_version": "~2.1.4",
       "width": "15%"
      }
     },
     "7b8e1df6071e4749889bc4c4dc039da0": {
      "model_module": "jupyter-js-widgets",
      "model_module_version": "~2.1.4",
      "model_name": "LayoutModel",
      "state": {
       "_model_module_version": "~2.1.4",
       "_view_module_version": "~2.1.4",
       "width": "15%"
      }
     },
     "7c0ce30f96514efa9baf9d6871da5f5e": {
      "model_module": "jupyter-js-widgets",
      "model_module_version": "~2.1.4",
      "model_name": "LayoutModel",
      "state": {
       "_model_module_version": "~2.1.4",
       "_view_module_version": "~2.1.4"
      }
     },
     "7c8db4e653684a029be8f351ee3c0f1a": {
      "model_module": "jupyter-js-widgets",
      "model_module_version": "~2.1.4",
      "model_name": "IntTextModel",
      "state": {
       "_model_module_version": "~2.1.4",
       "_view_module_version": "~2.1.4",
       "layout": "IPY_MODEL_6975b9491b214f6daac5e180cc31a251",
       "value": 15
      }
     },
     "7d43c45b4f4e48d687105bad3aff1405": {
      "model_module": "jupyter-js-widgets",
      "model_module_version": "~2.1.4",
      "model_name": "LabelModel",
      "state": {
       "_model_module_version": "~2.1.4",
       "_view_module_version": "~2.1.4",
       "layout": "IPY_MODEL_c5f03b8703a74809858d5c19911595fd",
       "value": " Y\\X "
      }
     },
     "7da9d6b3567e4f46aa65f85cbb843765": {
      "model_module": "jupyter-js-widgets",
      "model_module_version": "~2.1.4",
      "model_name": "BoxModel",
      "state": {
       "_model_module_version": "~2.1.4",
       "_view_module_version": "~2.1.4",
       "children": [
        "IPY_MODEL_7f59f1269b724bbfb997c916a31c4a9e"
       ],
       "layout": "IPY_MODEL_b6b71a93c4f04b94a724004e6910236f"
      }
     },
     "7dfbeaeabadf45779aa7981fce8f83dc": {
      "model_module": "jupyter-js-widgets",
      "model_module_version": "~2.1.4",
      "model_name": "HBoxModel",
      "state": {
       "_model_module_version": "~2.1.4",
       "_view_module_version": "~2.1.4",
       "children": [
        "IPY_MODEL_72d9c4ee7f5c4c86ad78a16bee5d4962",
        "IPY_MODEL_1e714cd467894a50b5fa7894b4c74c86",
        "IPY_MODEL_2ec8782bf48d483cbf9e09a844f50178",
        "IPY_MODEL_b16ead1566ba41058ae068de66c97bf2",
        "IPY_MODEL_b3a53c52f016433db1d2572234ce189b",
        "IPY_MODEL_128627dd671c426ebe3231755793e980"
       ],
       "layout": "IPY_MODEL_c20fc1bfc8da4e57a8377dd61135d409"
      }
     },
     "7ed20ddbcfad4931b6ce22964c8936c8": {
      "model_module": "jupyter-js-widgets",
      "model_module_version": "~2.1.4",
      "model_name": "IntTextModel",
      "state": {
       "_model_module_version": "~2.1.4",
       "_view_module_version": "~2.1.4",
       "layout": "IPY_MODEL_0ce6f5bb1ec4400aac668dc053ae523b",
       "value": 10
      }
     },
     "7f59f1269b724bbfb997c916a31c4a9e": {
      "model_module": "jupyter-js-widgets",
      "model_module_version": "~2.1.4",
      "model_name": "LabelModel",
      "state": {
       "_model_module_version": "~2.1.4",
       "_view_module_version": "~2.1.4",
       "layout": "IPY_MODEL_d46209bd441e4e21bf8614310c8c2d1c",
       "value": " B "
      }
     },
     "7fc1bd4b7fb14efbb0606461983d212b": {
      "model_module": "jupyter-js-widgets",
      "model_module_version": "~2.1.4",
      "model_name": "IntTextModel",
      "state": {
       "_model_module_version": "~2.1.4",
       "_view_module_version": "~2.1.4",
       "layout": "IPY_MODEL_1d7f95a8ccc046a587f59932e43a35f6"
      }
     },
     "802d3c62408a41218fc3353cc0c21931": {
      "model_module": "jupyter-js-widgets",
      "model_module_version": "~2.1.4",
      "model_name": "LayoutModel",
      "state": {
       "_model_module_version": "~2.1.4",
       "_view_module_version": "~2.1.4",
       "width": "15%"
      }
     },
     "80a19c65b6514443a60577bbcc9d2ee9": {
      "model_module": "jupyter-js-widgets",
      "model_module_version": "~2.1.4",
      "model_name": "IntTextModel",
      "state": {
       "_model_module_version": "~2.1.4",
       "_view_module_version": "~2.1.4",
       "layout": "IPY_MODEL_90dd51b00c2d4d0d9c8a947581f0c475"
      }
     },
     "8117432d51e64ae6b5fd23e641fe8910": {
      "model_module": "jupyter-js-widgets",
      "model_module_version": "~2.1.4",
      "model_name": "LayoutModel",
      "state": {
       "_model_module_version": "~2.1.4",
       "_view_module_version": "~2.1.4",
       "width": "15%"
      }
     },
     "81a4933c017342eeba430e03df4de672": {
      "model_module": "jupyter-js-widgets",
      "model_module_version": "~2.1.4",
      "model_name": "LayoutModel",
      "state": {
       "_model_module_version": "~2.1.4",
       "_view_module_version": "~2.1.4",
       "width": "15%"
      }
     },
     "8317e8267781429eae86c896cb5b0d5f": {
      "model_module": "jupyter-js-widgets",
      "model_module_version": "~2.1.4",
      "model_name": "ButtonModel",
      "state": {
       "_model_module_version": "~2.1.4",
       "_view_module_version": "~2.1.4",
       "description": "Submit",
       "icon": "check",
       "layout": "IPY_MODEL_a05dc5e5d7ec4580ae62838a7b593169",
       "style": "IPY_MODEL_8425a8c269734b4ea207de2d379f7fb1",
       "tooltip": "Calculate"
      }
     },
     "832c5688c98947ed97cd997a52988add": {
      "model_module": "jupyter-js-widgets",
      "model_module_version": "~2.1.4",
      "model_name": "ButtonStyleModel",
      "state": {
       "_model_module_version": "~2.1.4",
       "_view_module_version": "~2.1.4",
       "button_color": "lightblue"
      }
     },
     "833f6c02847e425b9526a27b83f56c46": {
      "model_module": "jupyter-js-widgets",
      "model_module_version": "~2.1.4",
      "model_name": "LayoutModel",
      "state": {
       "_model_module_version": "~2.1.4",
       "_view_module_version": "~2.1.4"
      }
     },
     "83ed12f1001e405d829ce929a95c6fbc": {
      "model_module": "jupyter-js-widgets",
      "model_module_version": "~2.1.4",
      "model_name": "LabelModel",
      "state": {
       "_model_module_version": "~2.1.4",
       "_view_module_version": "~2.1.4",
       "layout": "IPY_MODEL_da1d4bce3df64492a85676272b2857a6",
       "value": " D "
      }
     },
     "8425a8c269734b4ea207de2d379f7fb1": {
      "model_module": "jupyter-js-widgets",
      "model_module_version": "~2.1.4",
      "model_name": "ButtonStyleModel",
      "state": {
       "_model_module_version": "~2.1.4",
       "_view_module_version": "~2.1.4",
       "button_color": "lightblue"
      }
     },
     "85007a1f199e4b2a8775e38fca180952": {
      "model_module": "jupyter-js-widgets",
      "model_module_version": "~2.1.4",
      "model_name": "HBoxModel",
      "state": {
       "_model_module_version": "~2.1.4",
       "_view_module_version": "~2.1.4",
       "children": [
        "IPY_MODEL_031f217c99d54e57b59da9907e42f4ca",
        "IPY_MODEL_997c967c402141469d3532781a073e85",
        "IPY_MODEL_85e661827c5e428e9d21f7271846d25d",
        "IPY_MODEL_ca5877b857bb4ef5b4abe5110a0a25a5",
        "IPY_MODEL_5620fa01a1ab433e9f0094a642027fc5",
        "IPY_MODEL_e9feac53285f4f6badf66cf6dbf19275",
        "IPY_MODEL_67175ee010f84429b7467ba316d9e103"
       ],
       "layout": "IPY_MODEL_15cf5726c40e432c9e35f9de8d0aea34"
      }
     },
     "856c8ec6c35b4ae0ad7f4fca86f54ef5": {
      "model_module": "jupyter-js-widgets",
      "model_module_version": "~2.1.4",
      "model_name": "LayoutModel",
      "state": {
       "_model_module_version": "~2.1.4",
       "_view_module_version": "~2.1.4",
       "width": "15%"
      }
     },
     "85e661827c5e428e9d21f7271846d25d": {
      "model_module": "jupyter-js-widgets",
      "model_module_version": "~2.1.4",
      "model_name": "BoxModel",
      "state": {
       "_model_module_version": "~2.1.4",
       "_view_module_version": "~2.1.4",
       "children": [
        "IPY_MODEL_49cac15a3a9a43bd8df75586dd7f1533"
       ],
       "layout": "IPY_MODEL_856c8ec6c35b4ae0ad7f4fca86f54ef5"
      }
     },
     "862113417ea04b2898ac3dbc9db4cd94": {
      "model_module": "jupyter-js-widgets",
      "model_module_version": "~2.1.4",
      "model_name": "LayoutModel",
      "state": {
       "_model_module_version": "~2.1.4",
       "_view_module_version": "~2.1.4",
       "width": "15%"
      }
     },
     "866991d0a7924df081b292aaee97031d": {
      "model_module": "jupyter-js-widgets",
      "model_module_version": "~2.1.4",
      "model_name": "LayoutModel",
      "state": {
       "_model_module_version": "~2.1.4",
       "_view_module_version": "~2.1.4",
       "width": "15%"
      }
     },
     "868ab48f37e94a8ba0a29c648b636f11": {
      "model_module": "jupyter-js-widgets",
      "model_module_version": "~2.1.4",
      "model_name": "LayoutModel",
      "state": {
       "_model_module_version": "~2.1.4",
       "_view_module_version": "~2.1.4",
       "width": "3%"
      }
     },
     "86c584d070d04d0a94849fe546ddc858": {
      "model_module": "jupyter-js-widgets",
      "model_module_version": "~2.1.4",
      "model_name": "LayoutModel",
      "state": {
       "_model_module_version": "~2.1.4",
       "_view_module_version": "~2.1.4"
      }
     },
     "87ca8dbbf0b34f38befbc827bd88f52a": {
      "model_module": "jupyter-js-widgets",
      "model_module_version": "~2.1.4",
      "model_name": "BoxModel",
      "state": {
       "_model_module_version": "~2.1.4",
       "_view_module_version": "~2.1.4",
       "children": [
        "IPY_MODEL_653d346e9b64460ea80fb6010e22786c"
       ],
       "layout": "IPY_MODEL_917e59cbce9541bc85035059a9541d2c"
      }
     },
     "880bd0bc54db40e78b7b76a6ebb84f31": {
      "model_module": "jupyter-js-widgets",
      "model_module_version": "~2.1.4",
      "model_name": "IntTextModel",
      "state": {
       "_model_module_version": "~2.1.4",
       "_view_module_version": "~2.1.4",
       "layout": "IPY_MODEL_c700ec13065e453bb38fd9bfb341bc78"
      }
     },
     "88f3f26ba6924ff6a37656988a0ae286": {
      "model_module": "jupyter-js-widgets",
      "model_module_version": "~2.1.4",
      "model_name": "LayoutModel",
      "state": {
       "_model_module_version": "~2.1.4",
       "_view_module_version": "~2.1.4",
       "width": "15%"
      }
     },
     "88ffa34d95b84d10a5c5437fc67d690b": {
      "model_module": "jupyter-js-widgets",
      "model_module_version": "~2.1.4",
      "model_name": "LabelModel",
      "state": {
       "_model_module_version": "~2.1.4",
       "_view_module_version": "~2.1.4",
       "layout": "IPY_MODEL_e896fc7a83e1493b8a79018cba504ca1",
       "value": " D "
      }
     },
     "890ee081636743a881d4826f80b98971": {
      "model_module": "jupyter-js-widgets",
      "model_module_version": "~2.1.4",
      "model_name": "LayoutModel",
      "state": {
       "_model_module_version": "~2.1.4",
       "_view_module_version": "~2.1.4",
       "width": "3%"
      }
     },
     "89f65398348c4901bb277549d272e825": {
      "model_module": "jupyter-js-widgets",
      "model_module_version": "~2.1.4",
      "model_name": "BoxModel",
      "state": {
       "_model_module_version": "~2.1.4",
       "_view_module_version": "~2.1.4",
       "children": [
        "IPY_MODEL_bcfd805c187a4e75ab9a7fa04407abb4"
       ],
       "layout": "IPY_MODEL_7ae0da92e5c540ada949b47db7acb899"
      }
     },
     "8a860dca81684f26985dbdb834db31c2": {
      "model_module": "jupyter-js-widgets",
      "model_module_version": "~2.1.4",
      "model_name": "LabelModel",
      "state": {
       "_model_module_version": "~2.1.4",
       "_view_module_version": "~2.1.4",
       "layout": "IPY_MODEL_2cd3c3761c024720961ab7e6d81ecb72",
       "value": " A "
      }
     },
     "8b0346cbc39f4282bbd636327095e28e": {
      "model_module": "jupyter-js-widgets",
      "model_module_version": "~2.1.4",
      "model_name": "IntTextModel",
      "state": {
       "_model_module_version": "~2.1.4",
       "_view_module_version": "~2.1.4",
       "layout": "IPY_MODEL_0b9794b439a24c0b94279d89420836a5"
      }
     },
     "8bbbcd0e8dc34568a4bc3c73224fb84f": {
      "model_module": "jupyter-js-widgets",
      "model_module_version": "~2.1.4",
      "model_name": "BoxModel",
      "state": {
       "_model_module_version": "~2.1.4",
       "_view_module_version": "~2.1.4",
       "children": [
        "IPY_MODEL_f3b4b6527ea1458e925c4b04994919fa"
       ],
       "layout": "IPY_MODEL_b2f9ae08750048e0b59ca66a9e8ebe2b"
      }
     },
     "8c3e51af39bf40dbae5d2ce908272516": {
      "model_module": "jupyter-js-widgets",
      "model_module_version": "~2.1.4",
      "model_name": "BoxModel",
      "state": {
       "_model_module_version": "~2.1.4",
       "_view_module_version": "~2.1.4",
       "children": [
        "IPY_MODEL_2d6a8958c6c446a6be4c4d06220b85c2"
       ],
       "layout": "IPY_MODEL_13d8d88689c44e3fb9c7b873af9a5a33"
      }
     },
     "8c3f3a3cbcbf43648c5bdbd9476be4b7": {
      "model_module": "jupyter-js-widgets",
      "model_module_version": "~2.1.4",
      "model_name": "LayoutModel",
      "state": {
       "_model_module_version": "~2.1.4",
       "_view_module_version": "~2.1.4"
      }
     },
     "8cd6d9537efb40e9a77caa6828cb877f": {
      "model_module": "jupyter-js-widgets",
      "model_module_version": "~2.1.4",
      "model_name": "LayoutModel",
      "state": {
       "_model_module_version": "~2.1.4",
       "_view_module_version": "~2.1.4",
       "width": "15%"
      }
     },
     "8d93a4fa385b4a72a3f813fb144e16c6": {
      "model_module": "jupyter-js-widgets",
      "model_module_version": "~2.1.4",
      "model_name": "HBoxModel",
      "state": {
       "_model_module_version": "~2.1.4",
       "_view_module_version": "~2.1.4",
       "children": [
        "IPY_MODEL_1be2d5fdfc734d33abeb16128cd61bc9",
        "IPY_MODEL_1139e54a76434fac889f73b175137884",
        "IPY_MODEL_de190d1e118f4974ae8fb7a6c0b2dfe1",
        "IPY_MODEL_fcf3054a4ea34cd98e079bacb1c630b2",
        "IPY_MODEL_f9c3d37659a449b4a5d816d193a078a4",
        "IPY_MODEL_8b0346cbc39f4282bbd636327095e28e"
       ],
       "layout": "IPY_MODEL_28f4dd43486d4e3cabb50eac134f7515"
      }
     },
     "8f95166499e94ab7a7c2bff73864af6b": {
      "model_module": "jupyter-js-widgets",
      "model_module_version": "~2.1.4",
      "model_name": "LayoutModel",
      "state": {
       "_model_module_version": "~2.1.4",
       "_view_module_version": "~2.1.4",
       "width": "15%"
      }
     },
     "8fbfe25ef3064cbc9fb868f054ffcb82": {
      "model_module": "jupyter-js-widgets",
      "model_module_version": "~2.1.4",
      "model_name": "BoxModel",
      "state": {
       "_model_module_version": "~2.1.4",
       "_view_module_version": "~2.1.4",
       "children": [
        "IPY_MODEL_1e29e2be0d7c4831a2b286a63cab2803"
       ],
       "layout": "IPY_MODEL_890ee081636743a881d4826f80b98971"
      }
     },
     "8fd24aa0758b40c3bc58f4bd8a87ffb1": {
      "model_module": "jupyter-js-widgets",
      "model_module_version": "~2.1.4",
      "model_name": "ButtonModel",
      "state": {
       "_model_module_version": "~2.1.4",
       "_view_module_version": "~2.1.4",
       "description": "Submit",
       "icon": "check",
       "layout": "IPY_MODEL_6ec3321220b4496797d6c7d18585b226",
       "style": "IPY_MODEL_3fe906f2e5f14f1c881ef7fbdf2f9e61",
       "tooltip": "Calculate"
      }
     },
     "90dd51b00c2d4d0d9c8a947581f0c475": {
      "model_module": "jupyter-js-widgets",
      "model_module_version": "~2.1.4",
      "model_name": "LayoutModel",
      "state": {
       "_model_module_version": "~2.1.4",
       "_view_module_version": "~2.1.4",
       "width": "15%"
      }
     },
     "90fd6e0114054503a29a457c82d1335e": {
      "model_module": "jupyter-js-widgets",
      "model_module_version": "~2.1.4",
      "model_name": "BoxModel",
      "state": {
       "_model_module_version": "~2.1.4",
       "_view_module_version": "~2.1.4",
       "children": [
        "IPY_MODEL_f6ce15fda0a84c948c8e0a8c7ae72488"
       ],
       "layout": "IPY_MODEL_4cbaa2cf15254d248cd0d39811c38cc3"
      }
     },
     "917e59cbce9541bc85035059a9541d2c": {
      "model_module": "jupyter-js-widgets",
      "model_module_version": "~2.1.4",
      "model_name": "LayoutModel",
      "state": {
       "_model_module_version": "~2.1.4",
       "_view_module_version": "~2.1.4",
       "width": "15%"
      }
     },
     "9196de1c16714d318766a4d553b8b52d": {
      "model_module": "jupyter-js-widgets",
      "model_module_version": "~2.1.4",
      "model_name": "LayoutModel",
      "state": {
       "_model_module_version": "~2.1.4",
       "_view_module_version": "~2.1.4",
       "width": "15%"
      }
     },
     "9293118930a947c8981c8792bc16f74a": {
      "model_module": "jupyter-js-widgets",
      "model_module_version": "~2.1.4",
      "model_name": "LayoutModel",
      "state": {
       "_model_module_version": "~2.1.4",
       "_view_module_version": "~2.1.4",
       "width": "15%"
      }
     },
     "92bcab74f8954393951f03b6fc331ced": {
      "model_module": "jupyter-js-widgets",
      "model_module_version": "~2.1.4",
      "model_name": "LayoutModel",
      "state": {
       "_model_module_version": "~2.1.4",
       "_view_module_version": "~2.1.4",
       "width": "3%"
      }
     },
     "930431f551784edda59491d6158d8193": {
      "model_module": "jupyter-js-widgets",
      "model_module_version": "~2.1.4",
      "model_name": "LabelModel",
      "state": {
       "_model_module_version": "~2.1.4",
       "_view_module_version": "~2.1.4",
       "layout": "IPY_MODEL_d8b9001ad2d3456f9dcd1a9ba269a5c0",
       "value": " B "
      }
     },
     "93f89e44699347eba6fe1f61925f6061": {
      "model_module": "jupyter-js-widgets",
      "model_module_version": "~2.1.4",
      "model_name": "LayoutModel",
      "state": {
       "_model_module_version": "~2.1.4",
       "_view_module_version": "~2.1.4"
      }
     },
     "9461ab2d33e34119886d45d5d0319ff8": {
      "model_module": "jupyter-js-widgets",
      "model_module_version": "~2.1.4",
      "model_name": "LayoutModel",
      "state": {
       "_model_module_version": "~2.1.4",
       "_view_module_version": "~2.1.4",
       "width": "15%"
      }
     },
     "949e748e26b145e1aaa8be56e3e7c4c5": {
      "model_module": "jupyter-js-widgets",
      "model_module_version": "~2.1.4",
      "model_name": "LayoutModel",
      "state": {
       "_model_module_version": "~2.1.4",
       "_view_module_version": "~2.1.4"
      }
     },
     "95f42f110bdb41a2a013beb838c5e0f3": {
      "model_module": "jupyter-js-widgets",
      "model_module_version": "~2.1.4",
      "model_name": "BoxModel",
      "state": {
       "_model_module_version": "~2.1.4",
       "_view_module_version": "~2.1.4",
       "children": [
        "IPY_MODEL_1a63507d80fb460aa6993b780181c850"
       ],
       "layout": "IPY_MODEL_5c6d73bd42834a52bac58b45d4087c98"
      }
     },
     "96299d4f40a44925a1440cd20bf0bea0": {
      "model_module": "jupyter-js-widgets",
      "model_module_version": "~2.1.4",
      "model_name": "LayoutModel",
      "state": {
       "_model_module_version": "~2.1.4",
       "_view_module_version": "~2.1.4",
       "width": "3%"
      }
     },
     "965393eaa97e4b0bae5f752408e2079c": {
      "model_module": "jupyter-js-widgets",
      "model_module_version": "~2.1.4",
      "model_name": "LayoutModel",
      "state": {
       "_model_module_version": "~2.1.4",
       "_view_module_version": "~2.1.4",
       "width": "15%"
      }
     },
     "9686ef1fcc4849b498a320916071f722": {
      "model_module": "jupyter-js-widgets",
      "model_module_version": "~2.1.4",
      "model_name": "LayoutModel",
      "state": {
       "_model_module_version": "~2.1.4",
       "_view_module_version": "~2.1.4"
      }
     },
     "9696edf7e9ec4e488f302f979c133283": {
      "model_module": "jupyter-js-widgets",
      "model_module_version": "~2.1.4",
      "model_name": "LayoutModel",
      "state": {
       "_model_module_version": "~2.1.4",
       "_view_module_version": "~2.1.4",
       "width": "15%"
      }
     },
     "96a0c0c51cf2465b9987f4519f132441": {
      "model_module": "jupyter-js-widgets",
      "model_module_version": "~2.1.4",
      "model_name": "IntTextModel",
      "state": {
       "_model_module_version": "~2.1.4",
       "_view_module_version": "~2.1.4",
       "layout": "IPY_MODEL_7b8e1df6071e4749889bc4c4dc039da0",
       "value": 45
      }
     },
     "96d7826cdcb14ea19eb03be6f76e0657": {
      "model_module": "jupyter-js-widgets",
      "model_module_version": "~2.1.4",
      "model_name": "IntTextModel",
      "state": {
       "_model_module_version": "~2.1.4",
       "_view_module_version": "~2.1.4",
       "layout": "IPY_MODEL_9a3d7760d3dc451a94cc4518e90d2cf1"
      }
     },
     "98195f389c704839a382463cadeed822": {
      "model_module": "jupyter-js-widgets",
      "model_module_version": "~2.1.4",
      "model_name": "LayoutModel",
      "state": {
       "_model_module_version": "~2.1.4",
       "_view_module_version": "~2.1.4",
       "width": "15%"
      }
     },
     "98623e526da6452fa6ab3267e0efef52": {
      "model_module": "jupyter-js-widgets",
      "model_module_version": "~2.1.4",
      "model_name": "LabelModel",
      "state": {
       "_model_module_version": "~2.1.4",
       "_view_module_version": "~2.1.4",
       "layout": "IPY_MODEL_93f89e44699347eba6fe1f61925f6061",
       "value": " Y\\X "
      }
     },
     "98fcc6142b7f41acb4553c1d1738eff8": {
      "model_module": "jupyter-js-widgets",
      "model_module_version": "~2.1.4",
      "model_name": "IntTextModel",
      "state": {
       "_model_module_version": "~2.1.4",
       "_view_module_version": "~2.1.4",
       "layout": "IPY_MODEL_e39b1046f3474a8ea87ebdfaab29d67f"
      }
     },
     "99214c5a1f5e40f0a96ad167934c415e": {
      "model_module": "jupyter-js-widgets",
      "model_module_version": "~2.1.4",
      "model_name": "LayoutModel",
      "state": {
       "_model_module_version": "~2.1.4",
       "_view_module_version": "~2.1.4",
       "width": "15%"
      }
     },
     "997c967c402141469d3532781a073e85": {
      "model_module": "jupyter-js-widgets",
      "model_module_version": "~2.1.4",
      "model_name": "BoxModel",
      "state": {
       "_model_module_version": "~2.1.4",
       "_view_module_version": "~2.1.4",
       "children": [
        "IPY_MODEL_481898c8e38541f18bcb23714620cf6b"
       ],
       "layout": "IPY_MODEL_2de88fa99dd847b196c81aac60eaa6f2"
      }
     },
     "99b81c757c7a4a149cfe44ec85516a15": {
      "model_module": "jupyter-js-widgets",
      "model_module_version": "~2.1.4",
      "model_name": "HBoxModel",
      "state": {
       "_model_module_version": "~2.1.4",
       "_view_module_version": "~2.1.4",
       "children": [
        "IPY_MODEL_8fbfe25ef3064cbc9fb868f054ffcb82",
        "IPY_MODEL_f5bfa28931c74e9f91d24366a31deffd",
        "IPY_MODEL_132e896392b94b9cb3aa6a3647e3a24b",
        "IPY_MODEL_0bb06b25aff14ca98a351f7892169843",
        "IPY_MODEL_3ffd9dd9827d431f94577ee7e4e722c5",
        "IPY_MODEL_0046419a174d4d8985d2e970af2bb393"
       ],
       "layout": "IPY_MODEL_e78db7b1405f48acb13ce61c04b23328"
      }
     },
     "99ce4d73dc944e4c905a56d984efa3aa": {
      "model_module": "jupyter-js-widgets",
      "model_module_version": "~2.1.4",
      "model_name": "LayoutModel",
      "state": {
       "_model_module_version": "~2.1.4",
       "_view_module_version": "~2.1.4",
       "width": "3%"
      }
     },
     "99e559728e8b45e38cf904df64788e6a": {
      "model_module": "jupyter-js-widgets",
      "model_module_version": "~2.1.4",
      "model_name": "LayoutModel",
      "state": {
       "_model_module_version": "~2.1.4",
       "_view_module_version": "~2.1.4"
      }
     },
     "9a3d7760d3dc451a94cc4518e90d2cf1": {
      "model_module": "jupyter-js-widgets",
      "model_module_version": "~2.1.4",
      "model_name": "LayoutModel",
      "state": {
       "_model_module_version": "~2.1.4",
       "_view_module_version": "~2.1.4",
       "width": "15%"
      }
     },
     "9a88f93b8298477893d80ede4c80012c": {
      "model_module": "jupyter-js-widgets",
      "model_module_version": "~2.1.4",
      "model_name": "LayoutModel",
      "state": {
       "_model_module_version": "~2.1.4",
       "_view_module_version": "~2.1.4"
      }
     },
     "9a92e6db30b445e8b04e12cb3f04755d": {
      "model_module": "jupyter-js-widgets",
      "model_module_version": "~2.1.4",
      "model_name": "LayoutModel",
      "state": {
       "_model_module_version": "~2.1.4",
       "_view_module_version": "~2.1.4",
       "width": "15%"
      }
     },
     "9b4db4b9803c4f93a8e9975b57bfa38e": {
      "model_module": "jupyter-js-widgets",
      "model_module_version": "~2.1.4",
      "model_name": "BoxModel",
      "state": {
       "_model_module_version": "~2.1.4",
       "_view_module_version": "~2.1.4",
       "children": [
        "IPY_MODEL_d5b1cf3e041341aba0e6f14b281c25e7"
       ],
       "layout": "IPY_MODEL_f17503925dc44b9a8d4b75aa89aabac3"
      }
     },
     "9c4c74f161de4a99a9f0b4c70e367024": {
      "model_module": "jupyter-js-widgets",
      "model_module_version": "~2.1.4",
      "model_name": "LayoutModel",
      "state": {
       "_model_module_version": "~2.1.4",
       "_view_module_version": "~2.1.4"
      }
     },
     "9cad566a11524957a0f87b9169000a9f": {
      "model_module": "jupyter-js-widgets",
      "model_module_version": "~2.1.4",
      "model_name": "LayoutModel",
      "state": {
       "_model_module_version": "~2.1.4",
       "_view_module_version": "~2.1.4"
      }
     },
     "9cd8a7887aea4c71ab424f5371bf739f": {
      "model_module": "jupyter-js-widgets",
      "model_module_version": "~2.1.4",
      "model_name": "LayoutModel",
      "state": {
       "_model_module_version": "~2.1.4",
       "_view_module_version": "~2.1.4",
       "width": "3%"
      }
     },
     "9d39ddb48c714e038f8220f73c17d916": {
      "model_module": "jupyter-js-widgets",
      "model_module_version": "~2.1.4",
      "model_name": "BoxModel",
      "state": {
       "_model_module_version": "~2.1.4",
       "_view_module_version": "~2.1.4",
       "children": [
        "IPY_MODEL_83ed12f1001e405d829ce929a95c6fbc"
       ],
       "layout": "IPY_MODEL_5473f52356614a9daa85d9e9fc0b4844"
      }
     },
     "9d4ecaac888c446d86ba7f3a21e808b9": {
      "model_module": "jupyter-js-widgets",
      "model_module_version": "~2.1.4",
      "model_name": "LayoutModel",
      "state": {
       "_model_module_version": "~2.1.4",
       "_view_module_version": "~2.1.4"
      }
     },
     "9dd2d57ddfe24443a755ed5d690092f2": {
      "model_module": "jupyter-js-widgets",
      "model_module_version": "~2.1.4",
      "model_name": "IntTextModel",
      "state": {
       "_model_module_version": "~2.1.4",
       "_view_module_version": "~2.1.4",
       "layout": "IPY_MODEL_f1375ce2ac484064b187aa53e4fa809e"
      }
     },
     "9de6cbaf845648abafd4a63a277b6e54": {
      "model_module": "jupyter-js-widgets",
      "model_module_version": "~2.1.4",
      "model_name": "LayoutModel",
      "state": {
       "_model_module_version": "~2.1.4",
       "_view_module_version": "~2.1.4"
      }
     },
     "9e0119fb93e24b248077e1b73afb9763": {
      "model_module": "jupyter-js-widgets",
      "model_module_version": "~2.1.4",
      "model_name": "IntTextModel",
      "state": {
       "_model_module_version": "~2.1.4",
       "_view_module_version": "~2.1.4",
       "layout": "IPY_MODEL_d91f99ba2c534b63aa10c61f9627535e"
      }
     },
     "9fb0f2944e5147579413025643a192d5": {
      "model_module": "jupyter-js-widgets",
      "model_module_version": "~2.1.4",
      "model_name": "IntTextModel",
      "state": {
       "_model_module_version": "~2.1.4",
       "_view_module_version": "~2.1.4",
       "layout": "IPY_MODEL_2b73eec20b2f4ac4a2a0a8a426d5112b",
       "value": 8
      }
     },
     "a05dc5e5d7ec4580ae62838a7b593169": {
      "model_module": "jupyter-js-widgets",
      "model_module_version": "~2.1.4",
      "model_name": "LayoutModel",
      "state": {
       "_model_module_version": "~2.1.4",
       "_view_module_version": "~2.1.4"
      }
     },
     "a0828439f9bd466cb216dadd7056cb87": {
      "model_module": "jupyter-js-widgets",
      "model_module_version": "~2.1.4",
      "model_name": "VBoxModel",
      "state": {
       "_model_module_version": "~2.1.4",
       "_view_module_version": "~2.1.4",
       "children": [
        "IPY_MODEL_2b147a09bdb741e4975a8bfda30c0c31",
        "IPY_MODEL_51a16a87d17b4727b27f3f01f296dcb7",
        "IPY_MODEL_75b124c2a0ef4d01a5a07606138f3b17",
        "IPY_MODEL_c899a24465b74bffb054dbf6418678fa",
        "IPY_MODEL_e3f2dbd1089f4d5d84bffcc2271163d0",
        "IPY_MODEL_d39e9eca037b450ebccda6db4f364a46",
        "IPY_MODEL_c3fb302b8cbd435baee0ed75afcaa9c3"
       ],
       "layout": "IPY_MODEL_aa14a723c6f94153aa6dc474c8f54bc7"
      }
     },
     "a0891391780d4f2d9cac8af4ac320b74": {
      "model_module": "jupyter-js-widgets",
      "model_module_version": "~2.1.4",
      "model_name": "LayoutModel",
      "state": {
       "_model_module_version": "~2.1.4",
       "_view_module_version": "~2.1.4"
      }
     },
     "a13c01d0fd4d448e9ddc7b1969f467a5": {
      "model_module": "jupyter-js-widgets",
      "model_module_version": "~2.1.4",
      "model_name": "LayoutModel",
      "state": {
       "_model_module_version": "~2.1.4",
       "_view_module_version": "~2.1.4",
       "width": "15%"
      }
     },
     "a2eba8a44458487c9d73948bff5f1c7d": {
      "model_module": "jupyter-js-widgets",
      "model_module_version": "~2.1.4",
      "model_name": "IntTextModel",
      "state": {
       "_model_module_version": "~2.1.4",
       "_view_module_version": "~2.1.4",
       "layout": "IPY_MODEL_d9c3b6dcd7384ca0b6fdd22337bdca2e"
      }
     },
     "a3deb95911ad4df2baae0e410f56a742": {
      "model_module": "jupyter-js-widgets",
      "model_module_version": "~2.1.4",
      "model_name": "LabelModel",
      "state": {
       "_model_module_version": "~2.1.4",
       "_view_module_version": "~2.1.4",
       "layout": "IPY_MODEL_018d3f36e8724e2ca494091c062ad479",
       "value": " D "
      }
     },
     "a3ea954a6f9846afaa682c248ff89680": {
      "model_module": "jupyter-js-widgets",
      "model_module_version": "~2.1.4",
      "model_name": "LayoutModel",
      "state": {
       "_model_module_version": "~2.1.4",
       "_view_module_version": "~2.1.4"
      }
     },
     "a4aa8f1d06724763b2c3c32bf3af3196": {
      "model_module": "jupyter-js-widgets",
      "model_module_version": "~2.1.4",
      "model_name": "LayoutModel",
      "state": {
       "_model_module_version": "~2.1.4",
       "_view_module_version": "~2.1.4",
       "width": "3%"
      }
     },
     "a4d9ccb81bbc483d809a541a7ea967fa": {
      "model_module": "jupyter-js-widgets",
      "model_module_version": "~2.1.4",
      "model_name": "BoxModel",
      "state": {
       "_model_module_version": "~2.1.4",
       "_view_module_version": "~2.1.4",
       "children": [
        "IPY_MODEL_c5477c30da864592bc98b4917d06915b"
       ],
       "layout": "IPY_MODEL_74d3ac0297bc488d845ed2a7ab4870c0"
      }
     },
     "a58ec320256c4a69836701c0c24a2b49": {
      "model_module": "jupyter-js-widgets",
      "model_module_version": "~2.1.4",
      "model_name": "IntTextModel",
      "state": {
       "_model_module_version": "~2.1.4",
       "_view_module_version": "~2.1.4",
       "layout": "IPY_MODEL_e16e48b0a9cb4b4792de4338da96cb39"
      }
     },
     "a74e19f14cc949fa8da7e4aa57701525": {
      "model_module": "jupyter-js-widgets",
      "model_module_version": "~2.1.4",
      "model_name": "IntTextModel",
      "state": {
       "_model_module_version": "~2.1.4",
       "_view_module_version": "~2.1.4",
       "layout": "IPY_MODEL_3691bb6f088c4d18b83a62caa6b860dc",
       "value": 12
      }
     },
     "a7be1a36877a42dc9d95e4e33e5970c7": {
      "model_module": "jupyter-js-widgets",
      "model_module_version": "~2.1.4",
      "model_name": "LayoutModel",
      "state": {
       "_model_module_version": "~2.1.4",
       "_view_module_version": "~2.1.4"
      }
     },
     "a84337d668b44fcbb8992e2222fabadf": {
      "model_module": "jupyter-js-widgets",
      "model_module_version": "~2.1.4",
      "model_name": "HBoxModel",
      "state": {
       "_model_module_version": "~2.1.4",
       "_view_module_version": "~2.1.4",
       "children": [
        "IPY_MODEL_bc68e8c7ca7c47d786d04e96e643b89e",
        "IPY_MODEL_e2b8c3bc5e154feb93e6de1405db6772",
        "IPY_MODEL_537f8ca21a2244c082165342ed0a45d9",
        "IPY_MODEL_2d610767512d4559aefeeb0fe2547a0f",
        "IPY_MODEL_1f26f9501cff4ad7bfde383453525b4f",
        "IPY_MODEL_0e3a87b2322e451eb78f666f778804c6"
       ],
       "layout": "IPY_MODEL_e94df64d525440aa8788a8e62d5fb76c"
      }
     },
     "a84e6eb3e81444969af56a3687fe8ba7": {
      "model_module": "jupyter-js-widgets",
      "model_module_version": "~2.1.4",
      "model_name": "HBoxModel",
      "state": {
       "_model_module_version": "~2.1.4",
       "_view_module_version": "~2.1.4",
       "children": [
        "IPY_MODEL_90fd6e0114054503a29a457c82d1335e",
        "IPY_MODEL_4ac436ff3b5849e584fb342dcce544ab",
        "IPY_MODEL_f98f2634407e4918a9f709e8cb254e86",
        "IPY_MODEL_27b292722a464ddd80202d8bcdcfd8d1",
        "IPY_MODEL_5e22ebb54cf14ee78e583307fe7caf8a",
        "IPY_MODEL_9d39ddb48c714e038f8220f73c17d916",
        "IPY_MODEL_f43a9118945c442f86ac467d6e908902"
       ],
       "layout": "IPY_MODEL_0ad85db82abf435888051b014d36868f"
      }
     },
     "a8f9408033e44eae8b9b0b5cd1f7ef17": {
      "model_module": "jupyter-js-widgets",
      "model_module_version": "~2.1.4",
      "model_name": "LayoutModel",
      "state": {
       "_model_module_version": "~2.1.4",
       "_view_module_version": "~2.1.4",
       "width": "15%"
      }
     },
     "a91367a33ad44ac9934f23c4bbcf4ba5": {
      "model_module": "jupyter-js-widgets",
      "model_module_version": "~2.1.4",
      "model_name": "IntTextModel",
      "state": {
       "_model_module_version": "~2.1.4",
       "_view_module_version": "~2.1.4",
       "layout": "IPY_MODEL_41d0347c89eb461d825dacb8e7087e2e",
       "value": 43
      }
     },
     "a932515b508f4036a7b1672a065ecb52": {
      "model_module": "jupyter-js-widgets",
      "model_module_version": "~2.1.4",
      "model_name": "LabelModel",
      "state": {
       "_model_module_version": "~2.1.4",
       "_view_module_version": "~2.1.4",
       "layout": "IPY_MODEL_36937300ef174255a22f88b776989841",
       "value": " B "
      }
     },
     "aa14a723c6f94153aa6dc474c8f54bc7": {
      "model_module": "jupyter-js-widgets",
      "model_module_version": "~2.1.4",
      "model_name": "LayoutModel",
      "state": {
       "_model_module_version": "~2.1.4",
       "_view_module_version": "~2.1.4"
      }
     },
     "ab1d29838a9e4538bc5b1c4f3c0060a4": {
      "model_module": "jupyter-js-widgets",
      "model_module_version": "~2.1.4",
      "model_name": "LayoutModel",
      "state": {
       "_model_module_version": "~2.1.4",
       "_view_module_version": "~2.1.4",
       "width": "15%"
      }
     },
     "ad99d4b19bae4dde9fd4b778f221227b": {
      "model_module": "jupyter-js-widgets",
      "model_module_version": "~2.1.4",
      "model_name": "BoxModel",
      "state": {
       "_model_module_version": "~2.1.4",
       "_view_module_version": "~2.1.4",
       "children": [
        "IPY_MODEL_2a51eef048a44a308725cbb30acc560b"
       ],
       "layout": "IPY_MODEL_96299d4f40a44925a1440cd20bf0bea0"
      }
     },
     "ae761d32959f4f90a8e29417c7196a93": {
      "model_module": "jupyter-js-widgets",
      "model_module_version": "~2.1.4",
      "model_name": "IntTextModel",
      "state": {
       "_model_module_version": "~2.1.4",
       "_view_module_version": "~2.1.4",
       "layout": "IPY_MODEL_2ef86b4a2da440ec95137708207d1e06"
      }
     },
     "aeb3c18dd2d24e75903eb56c79351fc0": {
      "model_module": "jupyter-js-widgets",
      "model_module_version": "~2.1.4",
      "model_name": "LabelModel",
      "state": {
       "_model_module_version": "~2.1.4",
       "_view_module_version": "~2.1.4",
       "layout": "IPY_MODEL_86c584d070d04d0a94849fe546ddc858",
       "value": " C "
      }
     },
     "af16d163f9854102b3e5d05fd5674dc8": {
      "model_module": "jupyter-js-widgets",
      "model_module_version": "~2.1.4",
      "model_name": "IntTextModel",
      "state": {
       "_model_module_version": "~2.1.4",
       "_view_module_version": "~2.1.4",
       "layout": "IPY_MODEL_0e5a9a73f81f46ff84d19a2957ea1ecc"
      }
     },
     "af5a31356d2e43a5995755a7e473e616": {
      "model_module": "jupyter-js-widgets",
      "model_module_version": "~2.1.4",
      "model_name": "LayoutModel",
      "state": {
       "_model_module_version": "~2.1.4",
       "_view_module_version": "~2.1.4"
      }
     },
     "b0975492e704493ea5f63575533928bc": {
      "model_module": "jupyter-js-widgets",
      "model_module_version": "~2.1.4",
      "model_name": "IntTextModel",
      "state": {
       "_model_module_version": "~2.1.4",
       "_view_module_version": "~2.1.4",
       "layout": "IPY_MODEL_d0e934b30a0a40e0985c929ceeb72afd"
      }
     },
     "b16ead1566ba41058ae068de66c97bf2": {
      "model_module": "jupyter-js-widgets",
      "model_module_version": "~2.1.4",
      "model_name": "IntTextModel",
      "state": {
       "_model_module_version": "~2.1.4",
       "_view_module_version": "~2.1.4",
       "layout": "IPY_MODEL_e990d9afdcf94d5db69ffc610822fccc",
       "value": 3
      }
     },
     "b1ce9ca5c0244e78850e611c9d680a63": {
      "model_module": "jupyter-js-widgets",
      "model_module_version": "~2.1.4",
      "model_name": "LayoutModel",
      "state": {
       "_model_module_version": "~2.1.4",
       "_view_module_version": "~2.1.4"
      }
     },
     "b2f9ae08750048e0b59ca66a9e8ebe2b": {
      "model_module": "jupyter-js-widgets",
      "model_module_version": "~2.1.4",
      "model_name": "LayoutModel",
      "state": {
       "_model_module_version": "~2.1.4",
       "_view_module_version": "~2.1.4",
       "width": "3%"
      }
     },
     "b3a53c52f016433db1d2572234ce189b": {
      "model_module": "jupyter-js-widgets",
      "model_module_version": "~2.1.4",
      "model_name": "IntTextModel",
      "state": {
       "_model_module_version": "~2.1.4",
       "_view_module_version": "~2.1.4",
       "layout": "IPY_MODEL_1f402c5b0a33419a945a5de081056bae",
       "value": 16
      }
     },
     "b3c0ae344b254623801cc794fd0ca5b4": {
      "model_module": "jupyter-js-widgets",
      "model_module_version": "~2.1.4",
      "model_name": "LayoutModel",
      "state": {
       "_model_module_version": "~2.1.4",
       "_view_module_version": "~2.1.4",
       "width": "15%"
      }
     },
     "b3dcc90c664745f4a9920e1724c0cbb4": {
      "model_module": "jupyter-js-widgets",
      "model_module_version": "~2.1.4",
      "model_name": "LayoutModel",
      "state": {
       "_model_module_version": "~2.1.4",
       "_view_module_version": "~2.1.4",
       "width": "15%"
      }
     },
     "b446580327d949088db464a7fec42819": {
      "model_module": "jupyter-js-widgets",
      "model_module_version": "~2.1.4",
      "model_name": "IntTextModel",
      "state": {
       "_model_module_version": "~2.1.4",
       "_view_module_version": "~2.1.4",
       "layout": "IPY_MODEL_79482a661b1d446dbedf0315e34a9613"
      }
     },
     "b4df510e561d4fc5b19cbc49d26f91eb": {
      "model_module": "jupyter-js-widgets",
      "model_module_version": "~2.1.4",
      "model_name": "IntTextModel",
      "state": {
       "_model_module_version": "~2.1.4",
       "_view_module_version": "~2.1.4",
       "layout": "IPY_MODEL_1c56abd1076640a1b82575dfe4337939",
       "value": 10
      }
     },
     "b5a940a035da4b50bdba8e33138b8f4d": {
      "model_module": "jupyter-js-widgets",
      "model_module_version": "~2.1.4",
      "model_name": "LayoutModel",
      "state": {
       "_model_module_version": "~2.1.4",
       "_view_module_version": "~2.1.4"
      }
     },
     "b5b5620cf0474f25a6b664ed7da70009": {
      "model_module": "jupyter-js-widgets",
      "model_module_version": "~2.1.4",
      "model_name": "LayoutModel",
      "state": {
       "_model_module_version": "~2.1.4",
       "_view_module_version": "~2.1.4"
      }
     },
     "b5dc2ef19fc44cdc84e193bb03238da7": {
      "model_module": "jupyter-js-widgets",
      "model_module_version": "~2.1.4",
      "model_name": "IntTextModel",
      "state": {
       "_model_module_version": "~2.1.4",
       "_view_module_version": "~2.1.4",
       "layout": "IPY_MODEL_1416030059ae47d999ef0c182696d583"
      }
     },
     "b60d75bea0494e31868f619711e35bda": {
      "model_module": "jupyter-js-widgets",
      "model_module_version": "~2.1.4",
      "model_name": "LayoutModel",
      "state": {
       "_model_module_version": "~2.1.4",
       "_view_module_version": "~2.1.4",
       "width": "15%"
      }
     },
     "b68e1c99f6ba430895456856524245b6": {
      "model_module": "jupyter-js-widgets",
      "model_module_version": "~2.1.4",
      "model_name": "IntTextModel",
      "state": {
       "_model_module_version": "~2.1.4",
       "_view_module_version": "~2.1.4",
       "layout": "IPY_MODEL_d5166a9f86624cf09774a0914a682019"
      }
     },
     "b696b1e62bf24ef795b332e0f9337723": {
      "model_module": "jupyter-js-widgets",
      "model_module_version": "~2.1.4",
      "model_name": "LayoutModel",
      "state": {
       "_model_module_version": "~2.1.4",
       "_view_module_version": "~2.1.4"
      }
     },
     "b6b71a93c4f04b94a724004e6910236f": {
      "model_module": "jupyter-js-widgets",
      "model_module_version": "~2.1.4",
      "model_name": "LayoutModel",
      "state": {
       "_model_module_version": "~2.1.4",
       "_view_module_version": "~2.1.4",
       "width": "3%"
      }
     },
     "b6d4ac23aab64eaca78406f416608382": {
      "model_module": "jupyter-js-widgets",
      "model_module_version": "~2.1.4",
      "model_name": "IntTextModel",
      "state": {
       "_model_module_version": "~2.1.4",
       "_view_module_version": "~2.1.4",
       "layout": "IPY_MODEL_7144302cce4e408f8aae2fecd49ed5af",
       "value": 10
      }
     },
     "b6df48364f6f43fbbce5df483fc13c90": {
      "model_module": "jupyter-js-widgets",
      "model_module_version": "~2.1.4",
      "model_name": "LayoutModel",
      "state": {
       "_model_module_version": "~2.1.4",
       "_view_module_version": "~2.1.4",
       "width": "15%"
      }
     },
     "b747bb5aaebf4389996385103dc81f6d": {
      "model_module": "jupyter-js-widgets",
      "model_module_version": "~2.1.4",
      "model_name": "LabelModel",
      "state": {
       "_model_module_version": "~2.1.4",
       "_view_module_version": "~2.1.4",
       "layout": "IPY_MODEL_8c3f3a3cbcbf43648c5bdbd9476be4b7",
       "value": " E "
      }
     },
     "b74be18d479046729af1ba0875cd7aad": {
      "model_module": "jupyter-js-widgets",
      "model_module_version": "~2.1.4",
      "model_name": "IntTextModel",
      "state": {
       "_model_module_version": "~2.1.4",
       "_view_module_version": "~2.1.4",
       "layout": "IPY_MODEL_09968198f53b44be80fa5528d1c8ff55"
      }
     },
     "b7549e254f84481bbf65670127578e10": {
      "model_module": "jupyter-js-widgets",
      "model_module_version": "~2.1.4",
      "model_name": "LabelModel",
      "state": {
       "_model_module_version": "~2.1.4",
       "_view_module_version": "~2.1.4",
       "layout": "IPY_MODEL_78b14a2ba4bb4cc3aae926a2f1dd3398",
       "value": " E "
      }
     },
     "b7a1ce4e6f604909894608d46de352fb": {
      "model_module": "jupyter-js-widgets",
      "model_module_version": "~2.1.4",
      "model_name": "BoxModel",
      "state": {
       "_model_module_version": "~2.1.4",
       "_view_module_version": "~2.1.4",
       "children": [
        "IPY_MODEL_db3c9b0e37c44536979175169cb78363"
       ],
       "layout": "IPY_MODEL_c27518abc8874a9d961af19a84bddab8"
      }
     },
     "b7e4e4e22eba41c4a899d22bb5abee43": {
      "model_module": "jupyter-js-widgets",
      "model_module_version": "~2.1.4",
      "model_name": "IntTextModel",
      "state": {
       "_model_module_version": "~2.1.4",
       "_view_module_version": "~2.1.4",
       "layout": "IPY_MODEL_597eac8e83a24e10a0eb5efecf4961fa"
      }
     },
     "b9f432bdf6234acebe7163b16bf10f83": {
      "model_module": "jupyter-js-widgets",
      "model_module_version": "~2.1.4",
      "model_name": "LabelModel",
      "state": {
       "_model_module_version": "~2.1.4",
       "_view_module_version": "~2.1.4",
       "layout": "IPY_MODEL_008a877f41324e8b859b4251ded75668",
       "value": " A "
      }
     },
     "ba804677c85a4dd39a3c1bece0a40937": {
      "model_module": "jupyter-js-widgets",
      "model_module_version": "~2.1.4",
      "model_name": "LayoutModel",
      "state": {
       "_model_module_version": "~2.1.4",
       "_view_module_version": "~2.1.4",
       "width": "7%"
      }
     },
     "bb05e2eca65c467cb836b8929974f392": {
      "model_module": "jupyter-js-widgets",
      "model_module_version": "~2.1.4",
      "model_name": "BoxModel",
      "state": {
       "_model_module_version": "~2.1.4",
       "_view_module_version": "~2.1.4",
       "children": [
        "IPY_MODEL_00e08988f73b4cfcb52ea11d74c40156"
       ],
       "layout": "IPY_MODEL_7939ec63ac2649ea9c7892e4da982154"
      }
     },
     "bb0e5629d0554ca99a5e0edc0e6c03c0": {
      "model_module": "jupyter-js-widgets",
      "model_module_version": "~2.1.4",
      "model_name": "IntTextModel",
      "state": {
       "_model_module_version": "~2.1.4",
       "_view_module_version": "~2.1.4",
       "layout": "IPY_MODEL_ffe9a25ec81d4a248bc70641a8d39152"
      }
     },
     "bbadaf56454a4768aeea35f5c3d332e3": {
      "model_module": "jupyter-js-widgets",
      "model_module_version": "~2.1.4",
      "model_name": "IntTextModel",
      "state": {
       "_model_module_version": "~2.1.4",
       "_view_module_version": "~2.1.4",
       "layout": "IPY_MODEL_0d8c26ad45ec427ea26e5998796947ad"
      }
     },
     "bbb94bac9db24512b2ca193455f3c4cc": {
      "model_module": "jupyter-js-widgets",
      "model_module_version": "~2.1.4",
      "model_name": "LayoutModel",
      "state": {
       "_model_module_version": "~2.1.4",
       "_view_module_version": "~2.1.4"
      }
     },
     "bc68e8c7ca7c47d786d04e96e643b89e": {
      "model_module": "jupyter-js-widgets",
      "model_module_version": "~2.1.4",
      "model_name": "BoxModel",
      "state": {
       "_model_module_version": "~2.1.4",
       "_view_module_version": "~2.1.4",
       "children": [
        "IPY_MODEL_b9f432bdf6234acebe7163b16bf10f83"
       ],
       "layout": "IPY_MODEL_5e208473adeb465a8d95513e8730a410"
      }
     },
     "bc9e6813af534de4954201243bc3e04f": {
      "model_module": "jupyter-js-widgets",
      "model_module_version": "~2.1.4",
      "model_name": "BoxModel",
      "state": {
       "_model_module_version": "~2.1.4",
       "_view_module_version": "~2.1.4",
       "children": [
        "IPY_MODEL_6ca5f919bc6045c9bbb910b31cd89cfa"
       ],
       "layout": "IPY_MODEL_770edfaf9dfe4ae49e2604887ebb37bb"
      }
     },
     "bcfd805c187a4e75ab9a7fa04407abb4": {
      "model_module": "jupyter-js-widgets",
      "model_module_version": "~2.1.4",
      "model_name": "LabelModel",
      "state": {
       "_model_module_version": "~2.1.4",
       "_view_module_version": "~2.1.4",
       "layout": "IPY_MODEL_99e559728e8b45e38cf904df64788e6a",
       "value": " D "
      }
     },
     "bd2c6c6f6aee459ca974afeec34b3a00": {
      "model_module": "jupyter-js-widgets",
      "model_module_version": "~2.1.4",
      "model_name": "LayoutModel",
      "state": {
       "_model_module_version": "~2.1.4",
       "_view_module_version": "~2.1.4",
       "width": "15%"
      }
     },
     "bd2d45bf0db64d889ae8db7f05bbb486": {
      "model_module": "jupyter-js-widgets",
      "model_module_version": "~2.1.4",
      "model_name": "LayoutModel",
      "state": {
       "_model_module_version": "~2.1.4",
       "_view_module_version": "~2.1.4"
      }
     },
     "bd801a601846489fb5e4c550d71841cb": {
      "model_module": "jupyter-js-widgets",
      "model_module_version": "~2.1.4",
      "model_name": "LayoutModel",
      "state": {
       "_model_module_version": "~2.1.4",
       "_view_module_version": "~2.1.4",
       "width": "15%"
      }
     },
     "bd92f32460cf4055b61e04b8caa57542": {
      "model_module": "jupyter-js-widgets",
      "model_module_version": "~2.1.4",
      "model_name": "BoxModel",
      "state": {
       "_model_module_version": "~2.1.4",
       "_view_module_version": "~2.1.4",
       "children": [
        "IPY_MODEL_09b918e695234a0b9018f94988c3fdf8"
       ],
       "layout": "IPY_MODEL_0a9845d875c8442a911bdc8a607210a6"
      }
     },
     "bd97f2755f2e4e4189b939206628238b": {
      "model_module": "jupyter-js-widgets",
      "model_module_version": "~2.1.4",
      "model_name": "LayoutModel",
      "state": {
       "_model_module_version": "~2.1.4",
       "_view_module_version": "~2.1.4"
      }
     },
     "bdb6b2b008dc4638a28e4ce1375c5819": {
      "model_module": "jupyter-js-widgets",
      "model_module_version": "~2.1.4",
      "model_name": "LayoutModel",
      "state": {
       "_model_module_version": "~2.1.4",
       "_view_module_version": "~2.1.4",
       "width": "3%"
      }
     },
     "bdbdf90d8035464f9ec71e298f7ad521": {
      "model_module": "jupyter-js-widgets",
      "model_module_version": "~2.1.4",
      "model_name": "LayoutModel",
      "state": {
       "_model_module_version": "~2.1.4",
       "_view_module_version": "~2.1.4",
       "width": "15%"
      }
     },
     "bdcd17ed6aac4653bab780b71d507f17": {
      "model_module": "jupyter-js-widgets",
      "model_module_version": "~2.1.4",
      "model_name": "LayoutModel",
      "state": {
       "_model_module_version": "~2.1.4",
       "_view_module_version": "~2.1.4",
       "width": "3%"
      }
     },
     "be376ffe87f84d1388b4cc3f1c2e3741": {
      "model_module": "jupyter-js-widgets",
      "model_module_version": "~2.1.4",
      "model_name": "LayoutModel",
      "state": {
       "_model_module_version": "~2.1.4",
       "_view_module_version": "~2.1.4",
       "width": "15%"
      }
     },
     "be642c5e236f4bb68f5238e5fcd708c3": {
      "model_module": "jupyter-js-widgets",
      "model_module_version": "~2.1.4",
      "model_name": "LayoutModel",
      "state": {
       "_model_module_version": "~2.1.4",
       "_view_module_version": "~2.1.4"
      }
     },
     "bf0e0cbd49bb4de3a027b3455e2b02a6": {
      "model_module": "jupyter-js-widgets",
      "model_module_version": "~2.1.4",
      "model_name": "LabelModel",
      "state": {
       "_model_module_version": "~2.1.4",
       "_view_module_version": "~2.1.4",
       "layout": "IPY_MODEL_1e8d3ad6d8e3428498debc12f8b9a8bf",
       "value": " B "
      }
     },
     "bf201e713d06424394a41a0b63126e62": {
      "model_module": "jupyter-js-widgets",
      "model_module_version": "~2.1.4",
      "model_name": "LayoutModel",
      "state": {
       "_model_module_version": "~2.1.4",
       "_view_module_version": "~2.1.4",
       "width": "15%"
      }
     },
     "bfc2c01e16d747f095c15bfc83dd7c30": {
      "model_module": "jupyter-js-widgets",
      "model_module_version": "~2.1.4",
      "model_name": "IntTextModel",
      "state": {
       "_model_module_version": "~2.1.4",
       "_view_module_version": "~2.1.4",
       "layout": "IPY_MODEL_802d3c62408a41218fc3353cc0c21931"
      }
     },
     "c0f542e7a8334636b3fad4163654318d": {
      "model_module": "jupyter-js-widgets",
      "model_module_version": "~2.1.4",
      "model_name": "VBoxModel",
      "state": {
       "_model_module_version": "~2.1.4",
       "_view_module_version": "~2.1.4",
       "children": [
        "IPY_MODEL_a84e6eb3e81444969af56a3687fe8ba7",
        "IPY_MODEL_42668d37f868468098c51bc01d6624e4",
        "IPY_MODEL_61d3bfae14ca4946b63a6c92138965b1",
        "IPY_MODEL_4e03ada7b9c145cea8d951df900b0e5c",
        "IPY_MODEL_3c053f6f504042c0a23b654e75414ead",
        "IPY_MODEL_7dfbeaeabadf45779aa7981fce8f83dc",
        "IPY_MODEL_dad74bbc91db4e7e96aeea6a89bc8718"
       ],
       "layout": "IPY_MODEL_23526f4e22d4461ebe63000e243b4390"
      }
     },
     "c13757680ebc4de0ba91bdee1a3420f5": {
      "model_module": "jupyter-js-widgets",
      "model_module_version": "~2.1.4",
      "model_name": "LayoutModel",
      "state": {
       "_model_module_version": "~2.1.4",
       "_view_module_version": "~2.1.4"
      }
     },
     "c146069c0fcd4b0bafaf833170e34ca0": {
      "model_module": "jupyter-js-widgets",
      "model_module_version": "~2.1.4",
      "model_name": "LayoutModel",
      "state": {
       "_model_module_version": "~2.1.4",
       "_view_module_version": "~2.1.4",
       "width": "15%"
      }
     },
     "c20fc1bfc8da4e57a8377dd61135d409": {
      "model_module": "jupyter-js-widgets",
      "model_module_version": "~2.1.4",
      "model_name": "LayoutModel",
      "state": {
       "_model_module_version": "~2.1.4",
       "_view_module_version": "~2.1.4"
      }
     },
     "c2545da1c0a2445aa10bb17e35603894": {
      "model_module": "jupyter-js-widgets",
      "model_module_version": "~2.1.4",
      "model_name": "IntTextModel",
      "state": {
       "_model_module_version": "~2.1.4",
       "_view_module_version": "~2.1.4",
       "layout": "IPY_MODEL_b3dcc90c664745f4a9920e1724c0cbb4",
       "value": 45
      }
     },
     "c27518abc8874a9d961af19a84bddab8": {
      "model_module": "jupyter-js-widgets",
      "model_module_version": "~2.1.4",
      "model_name": "LayoutModel",
      "state": {
       "_model_module_version": "~2.1.4",
       "_view_module_version": "~2.1.4",
       "width": "3%"
      }
     },
     "c27b9118414d4f6698e90ebb397246a5": {
      "model_module": "jupyter-js-widgets",
      "model_module_version": "~2.1.4",
      "model_name": "BoxModel",
      "state": {
       "_model_module_version": "~2.1.4",
       "_view_module_version": "~2.1.4",
       "children": [
        "IPY_MODEL_2675fd2ac8de4de8851cf2682a276c1d"
       ],
       "layout": "IPY_MODEL_c2c262af3ec94db4b090872bd0daec92"
      }
     },
     "c2b7f8084c1547f5b6b246a70d1e52d9": {
      "model_module": "jupyter-js-widgets",
      "model_module_version": "~2.1.4",
      "model_name": "LayoutModel",
      "state": {
       "_model_module_version": "~2.1.4",
       "_view_module_version": "~2.1.4",
       "width": "15%"
      }
     },
     "c2c262af3ec94db4b090872bd0daec92": {
      "model_module": "jupyter-js-widgets",
      "model_module_version": "~2.1.4",
      "model_name": "LayoutModel",
      "state": {
       "_model_module_version": "~2.1.4",
       "_view_module_version": "~2.1.4",
       "width": "7%"
      }
     },
     "c3fb302b8cbd435baee0ed75afcaa9c3": {
      "model_module": "jupyter-js-widgets",
      "model_module_version": "~2.1.4",
      "model_name": "HBoxModel",
      "state": {
       "_model_module_version": "~2.1.4",
       "_view_module_version": "~2.1.4",
       "children": [
        "IPY_MODEL_576bb092e243435a9a544210f9518634"
       ],
       "layout": "IPY_MODEL_b5a940a035da4b50bdba8e33138b8f4d"
      }
     },
     "c4133ef0a5f14e8491c05615c5cde163": {
      "model_module": "jupyter-js-widgets",
      "model_module_version": "~2.1.4",
      "model_name": "LayoutModel",
      "state": {
       "_model_module_version": "~2.1.4",
       "_view_module_version": "~2.1.4"
      }
     },
     "c42d09932d0146e996e9670758550f35": {
      "model_module": "jupyter-js-widgets",
      "model_module_version": "~2.1.4",
      "model_name": "LayoutModel",
      "state": {
       "_model_module_version": "~2.1.4",
       "_view_module_version": "~2.1.4",
       "width": "15%"
      }
     },
     "c4472153f63e4ded85183dd7e66184a6": {
      "model_module": "jupyter-js-widgets",
      "model_module_version": "~2.1.4",
      "model_name": "LayoutModel",
      "state": {
       "_model_module_version": "~2.1.4",
       "_view_module_version": "~2.1.4",
       "width": "15%"
      }
     },
     "c467d7862d7e4bb3b8fb8b6866adcf01": {
      "model_module": "jupyter-js-widgets",
      "model_module_version": "~2.1.4",
      "model_name": "LayoutModel",
      "state": {
       "_model_module_version": "~2.1.4",
       "_view_module_version": "~2.1.4",
       "width": "15%"
      }
     },
     "c46a5e3bc51742a4ad0fc9dd3a7725a7": {
      "model_module": "jupyter-js-widgets",
      "model_module_version": "~2.1.4",
      "model_name": "LayoutModel",
      "state": {
       "_model_module_version": "~2.1.4",
       "_view_module_version": "~2.1.4",
       "width": "15%"
      }
     },
     "c5477c30da864592bc98b4917d06915b": {
      "model_module": "jupyter-js-widgets",
      "model_module_version": "~2.1.4",
      "model_name": "LabelModel",
      "state": {
       "_model_module_version": "~2.1.4",
       "_view_module_version": "~2.1.4",
       "layout": "IPY_MODEL_33f96079e69f40318cd5517cc5922470",
       "value": " B "
      }
     },
     "c563ef9fc758433580b0b4a15861d8bb": {
      "model_module": "jupyter-js-widgets",
      "model_module_version": "~2.1.4",
      "model_name": "IntTextModel",
      "state": {
       "_model_module_version": "~2.1.4",
       "_view_module_version": "~2.1.4",
       "layout": "IPY_MODEL_14df8b9aa4ba4b53a14e10b216c9f72f",
       "value": 43
      }
     },
     "c58e83a1bad841ea85bf7f08257ba1ab": {
      "model_module": "jupyter-js-widgets",
      "model_module_version": "~2.1.4",
      "model_name": "LayoutModel",
      "state": {
       "_model_module_version": "~2.1.4",
       "_view_module_version": "~2.1.4"
      }
     },
     "c5f03b8703a74809858d5c19911595fd": {
      "model_module": "jupyter-js-widgets",
      "model_module_version": "~2.1.4",
      "model_name": "LayoutModel",
      "state": {
       "_model_module_version": "~2.1.4",
       "_view_module_version": "~2.1.4"
      }
     },
     "c700ec13065e453bb38fd9bfb341bc78": {
      "model_module": "jupyter-js-widgets",
      "model_module_version": "~2.1.4",
      "model_name": "LayoutModel",
      "state": {
       "_model_module_version": "~2.1.4",
       "_view_module_version": "~2.1.4",
       "width": "15%"
      }
     },
     "c734faa1d629488e97344cbd849b5185": {
      "model_module": "jupyter-js-widgets",
      "model_module_version": "~2.1.4",
      "model_name": "LayoutModel",
      "state": {
       "_model_module_version": "~2.1.4",
       "_view_module_version": "~2.1.4",
       "width": "15%"
      }
     },
     "c745fa89efa9480e988b36533e49d541": {
      "model_module": "jupyter-js-widgets",
      "model_module_version": "~2.1.4",
      "model_name": "IntTextModel",
      "state": {
       "_model_module_version": "~2.1.4",
       "_view_module_version": "~2.1.4",
       "layout": "IPY_MODEL_bd801a601846489fb5e4c550d71841cb"
      }
     },
     "c77a88d762994e91bd00268759f3734f": {
      "model_module": "jupyter-js-widgets",
      "model_module_version": "~2.1.4",
      "model_name": "BoxModel",
      "state": {
       "_model_module_version": "~2.1.4",
       "_view_module_version": "~2.1.4",
       "children": [
        "IPY_MODEL_b747bb5aaebf4389996385103dc81f6d"
       ],
       "layout": "IPY_MODEL_99ce4d73dc944e4c905a56d984efa3aa"
      }
     },
     "c789b5c32bf74750a40b964ccd557218": {
      "model_module": "jupyter-js-widgets",
      "model_module_version": "~2.1.4",
      "model_name": "LayoutModel",
      "state": {
       "_model_module_version": "~2.1.4",
       "_view_module_version": "~2.1.4",
       "width": "15%"
      }
     },
     "c7a02ddd28da4847b9d87260e13b49e9": {
      "model_module": "jupyter-js-widgets",
      "model_module_version": "~2.1.4",
      "model_name": "LayoutModel",
      "state": {
       "_model_module_version": "~2.1.4",
       "_view_module_version": "~2.1.4"
      }
     },
     "c7af51756b7548ac8040174db969d071": {
      "model_module": "jupyter-js-widgets",
      "model_module_version": "~2.1.4",
      "model_name": "HBoxModel",
      "state": {
       "_model_module_version": "~2.1.4",
       "_view_module_version": "~2.1.4",
       "children": [
        "IPY_MODEL_8bbbcd0e8dc34568a4bc3c73224fb84f",
        "IPY_MODEL_5bf19f89694d451da1c52f0d38e2bef3",
        "IPY_MODEL_4d99535c378442d786b7ae08595f50dc",
        "IPY_MODEL_a4d9ccb81bbc483d809a541a7ea967fa",
        "IPY_MODEL_2d6f6376473a412aa921fe3a419306df",
        "IPY_MODEL_1151c76ea7434891abc21ba8118c4c5c",
        "IPY_MODEL_246da950be414fc5a551abe91edfc2e0"
       ],
       "layout": "IPY_MODEL_833f6c02847e425b9526a27b83f56c46"
      }
     },
     "c8774504ee0d488da100faf97b41cf18": {
      "model_module": "jupyter-js-widgets",
      "model_module_version": "~2.1.4",
      "model_name": "LayoutModel",
      "state": {
       "_model_module_version": "~2.1.4",
       "_view_module_version": "~2.1.4",
       "width": "15%"
      }
     },
     "c899a24465b74bffb054dbf6418678fa": {
      "model_module": "jupyter-js-widgets",
      "model_module_version": "~2.1.4",
      "model_name": "HBoxModel",
      "state": {
       "_model_module_version": "~2.1.4",
       "_view_module_version": "~2.1.4",
       "children": [
        "IPY_MODEL_9b4db4b9803c4f93a8e9975b57bfa38e",
        "IPY_MODEL_e44d6743a0dc4242b62f24f5ed6d857a",
        "IPY_MODEL_4810fa7d04f84013bc1b6c99a8937b2c",
        "IPY_MODEL_b4df510e561d4fc5b19cbc49d26f91eb",
        "IPY_MODEL_76ce698729d643028762a61b1725c1c4",
        "IPY_MODEL_3aee8ea4e51745fc8836cfa3424445f2"
       ],
       "layout": "IPY_MODEL_3a4f9a62296e405b8b10401a40db0e3a"
      }
     },
     "c8de4034d3254c8a99e296c7f0ac0640": {
      "model_module": "jupyter-js-widgets",
      "model_module_version": "~2.1.4",
      "model_name": "LabelModel",
      "state": {
       "_model_module_version": "~2.1.4",
       "_view_module_version": "~2.1.4",
       "layout": "IPY_MODEL_be642c5e236f4bb68f5238e5fcd708c3",
       "value": " A "
      }
     },
     "c90f6cca24434612898b94b8ae219e9f": {
      "model_module": "jupyter-js-widgets",
      "model_module_version": "~2.1.4",
      "model_name": "ButtonStyleModel",
      "state": {
       "_model_module_version": "~2.1.4",
       "_view_module_version": "~2.1.4",
       "button_color": "lightblue"
      }
     },
     "ca1c5be522c7401c91c73d866222ee96": {
      "model_module": "jupyter-js-widgets",
      "model_module_version": "~2.1.4",
      "model_name": "IntTextModel",
      "state": {
       "_model_module_version": "~2.1.4",
       "_view_module_version": "~2.1.4",
       "layout": "IPY_MODEL_8f95166499e94ab7a7c2bff73864af6b"
      }
     },
     "ca31caa8edc942bcb09706f8d3d5a544": {
      "model_module": "jupyter-js-widgets",
      "model_module_version": "~2.1.4",
      "model_name": "LayoutModel",
      "state": {
       "_model_module_version": "~2.1.4",
       "_view_module_version": "~2.1.4"
      }
     },
     "ca5877b857bb4ef5b4abe5110a0a25a5": {
      "model_module": "jupyter-js-widgets",
      "model_module_version": "~2.1.4",
      "model_name": "BoxModel",
      "state": {
       "_model_module_version": "~2.1.4",
       "_view_module_version": "~2.1.4",
       "children": [
        "IPY_MODEL_bf0e0cbd49bb4de3a027b3455e2b02a6"
       ],
       "layout": "IPY_MODEL_c42d09932d0146e996e9670758550f35"
      }
     },
     "caea2bfbb149483c94e5bdb39396e685": {
      "model_module": "jupyter-js-widgets",
      "model_module_version": "~2.1.4",
      "model_name": "LayoutModel",
      "state": {
       "_model_module_version": "~2.1.4",
       "_view_module_version": "~2.1.4",
       "width": "15%"
      }
     },
     "ccba22694fc344ea990dd8c7ed87f387": {
      "model_module": "jupyter-js-widgets",
      "model_module_version": "~2.1.4",
      "model_name": "IntTextModel",
      "state": {
       "_model_module_version": "~2.1.4",
       "_view_module_version": "~2.1.4",
       "layout": "IPY_MODEL_9196de1c16714d318766a4d553b8b52d"
      }
     },
     "cceef44d0854401caf2f91ad27e00bd3": {
      "model_module": "jupyter-js-widgets",
      "model_module_version": "~2.1.4",
      "model_name": "LayoutModel",
      "state": {
       "_model_module_version": "~2.1.4",
       "_view_module_version": "~2.1.4",
       "width": "15%"
      }
     },
     "ccf59c17afea441f930273860744eeb7": {
      "model_module": "jupyter-js-widgets",
      "model_module_version": "~2.1.4",
      "model_name": "BoxModel",
      "state": {
       "_model_module_version": "~2.1.4",
       "_view_module_version": "~2.1.4",
       "children": [
        "IPY_MODEL_7400db4bf12d4260a5b2853834d80e3c"
       ],
       "layout": "IPY_MODEL_868ab48f37e94a8ba0a29c648b636f11"
      }
     },
     "cd5b45211f9b437ea39ec25f10121576": {
      "model_module": "jupyter-js-widgets",
      "model_module_version": "~2.1.4",
      "model_name": "IntTextModel",
      "state": {
       "_model_module_version": "~2.1.4",
       "_view_module_version": "~2.1.4",
       "layout": "IPY_MODEL_12d9dd9c9c6c4de3aeb13b9cd2a93d35"
      }
     },
     "ceb3597543ee40d9987528f7650f6924": {
      "model_module": "jupyter-js-widgets",
      "model_module_version": "~2.1.4",
      "model_name": "IntTextModel",
      "state": {
       "_model_module_version": "~2.1.4",
       "_view_module_version": "~2.1.4",
       "layout": "IPY_MODEL_98195f389c704839a382463cadeed822"
      }
     },
     "ceb94de1827849f48e64914b2a0ae798": {
      "model_module": "jupyter-js-widgets",
      "model_module_version": "~2.1.4",
      "model_name": "LayoutModel",
      "state": {
       "_model_module_version": "~2.1.4",
       "_view_module_version": "~2.1.4"
      }
     },
     "cf12ed3f239e4d7b948d09f1948c0a54": {
      "model_module": "jupyter-js-widgets",
      "model_module_version": "~2.1.4",
      "model_name": "LayoutModel",
      "state": {
       "_model_module_version": "~2.1.4",
       "_view_module_version": "~2.1.4"
      }
     },
     "d0daddb7e2be4d929977bfc1d3084db3": {
      "model_module": "jupyter-js-widgets",
      "model_module_version": "~2.1.4",
      "model_name": "HBoxModel",
      "state": {
       "_model_module_version": "~2.1.4",
       "_view_module_version": "~2.1.4",
       "children": [
        "IPY_MODEL_50d9d3e9e0834004bb2d9eb733952b7b",
        "IPY_MODEL_3328f3b0cbf54a248254af70a2bbdb68",
        "IPY_MODEL_6eeaca3ef0394820886f6c055a12ede8",
        "IPY_MODEL_bb0e5629d0554ca99a5e0edc0e6c03c0",
        "IPY_MODEL_4d379b61a2684b6c9332194099d66624",
        "IPY_MODEL_d22d76f5249b4703a801a8e927bfd5ff"
       ],
       "layout": "IPY_MODEL_af5a31356d2e43a5995755a7e473e616"
      }
     },
     "d0e934b30a0a40e0985c929ceeb72afd": {
      "model_module": "jupyter-js-widgets",
      "model_module_version": "~2.1.4",
      "model_name": "LayoutModel",
      "state": {
       "_model_module_version": "~2.1.4",
       "_view_module_version": "~2.1.4",
       "width": "15%"
      }
     },
     "d1098f1d222d490c9ec2147946681842": {
      "model_module": "jupyter-js-widgets",
      "model_module_version": "~2.1.4",
      "model_name": "LabelModel",
      "state": {
       "_model_module_version": "~2.1.4",
       "_view_module_version": "~2.1.4",
       "layout": "IPY_MODEL_daa706790cef47cdba1f0b95833ec751",
       "value": " E "
      }
     },
     "d1bcd5b00b26465a8125a8aab9d80cc7": {
      "model_module": "jupyter-js-widgets",
      "model_module_version": "~2.1.4",
      "model_name": "LayoutModel",
      "state": {
       "_model_module_version": "~2.1.4",
       "_view_module_version": "~2.1.4",
       "width": "15%"
      }
     },
     "d22d76f5249b4703a801a8e927bfd5ff": {
      "model_module": "jupyter-js-widgets",
      "model_module_version": "~2.1.4",
      "model_name": "IntTextModel",
      "state": {
       "_model_module_version": "~2.1.4",
       "_view_module_version": "~2.1.4",
       "layout": "IPY_MODEL_698ac835d3be447399b5fea077d05edf"
      }
     },
     "d28802d04ef74b05aa022a71b2b836db": {
      "model_module": "jupyter-js-widgets",
      "model_module_version": "~2.1.4",
      "model_name": "IntTextModel",
      "state": {
       "_model_module_version": "~2.1.4",
       "_view_module_version": "~2.1.4",
       "layout": "IPY_MODEL_31fbd2115aa242f08571f16d63dab221"
      }
     },
     "d2971958d0c148aa9d4f175b672d639f": {
      "model_module": "jupyter-js-widgets",
      "model_module_version": "~2.1.4",
      "model_name": "LayoutModel",
      "state": {
       "_model_module_version": "~2.1.4",
       "_view_module_version": "~2.1.4"
      }
     },
     "d39e9eca037b450ebccda6db4f364a46": {
      "model_module": "jupyter-js-widgets",
      "model_module_version": "~2.1.4",
      "model_name": "HBoxModel",
      "state": {
       "_model_module_version": "~2.1.4",
       "_view_module_version": "~2.1.4",
       "children": [
        "IPY_MODEL_bd92f32460cf4055b61e04b8caa57542",
        "IPY_MODEL_2015f77203a5473f8c661abe4bfa7c4e",
        "IPY_MODEL_ff8012869ac840cf8108220507ddf1fb",
        "IPY_MODEL_d92d918554c84a4eb0c92249f1a399f1",
        "IPY_MODEL_b6d4ac23aab64eaca78406f416608382",
        "IPY_MODEL_18e5a57349a042668b539a7789ba30f7"
       ],
       "layout": "IPY_MODEL_c4133ef0a5f14e8491c05615c5cde163"
      }
     },
     "d431fdfe066f4de7a010f37cf54bd970": {
      "model_module": "jupyter-js-widgets",
      "model_module_version": "~2.1.4",
      "model_name": "BoxModel",
      "state": {
       "_model_module_version": "~2.1.4",
       "_view_module_version": "~2.1.4",
       "children": [
        "IPY_MODEL_88ffa34d95b84d10a5c5437fc67d690b"
       ],
       "layout": "IPY_MODEL_78ce775072614b3ab1acc7bf3188d009"
      }
     },
     "d45d183d378b45f884124ca877401886": {
      "model_module": "jupyter-js-widgets",
      "model_module_version": "~2.1.4",
      "model_name": "LayoutModel",
      "state": {
       "_model_module_version": "~2.1.4",
       "_view_module_version": "~2.1.4"
      }
     },
     "d46209bd441e4e21bf8614310c8c2d1c": {
      "model_module": "jupyter-js-widgets",
      "model_module_version": "~2.1.4",
      "model_name": "LayoutModel",
      "state": {
       "_model_module_version": "~2.1.4",
       "_view_module_version": "~2.1.4"
      }
     },
     "d4a73f7377df4032924e56b2758f33b4": {
      "model_module": "jupyter-js-widgets",
      "model_module_version": "~2.1.4",
      "model_name": "LayoutModel",
      "state": {
       "_model_module_version": "~2.1.4",
       "_view_module_version": "~2.1.4",
       "width": "15%"
      }
     },
     "d5166a9f86624cf09774a0914a682019": {
      "model_module": "jupyter-js-widgets",
      "model_module_version": "~2.1.4",
      "model_name": "LayoutModel",
      "state": {
       "_model_module_version": "~2.1.4",
       "_view_module_version": "~2.1.4",
       "width": "15%"
      }
     },
     "d5660bb725514a4998a48cc0e02c5952": {
      "model_module": "jupyter-js-widgets",
      "model_module_version": "~2.1.4",
      "model_name": "LayoutModel",
      "state": {
       "_model_module_version": "~2.1.4",
       "_view_module_version": "~2.1.4"
      }
     },
     "d5a99c6414e54ed396a5828f4a0a91a7": {
      "model_module": "jupyter-js-widgets",
      "model_module_version": "~2.1.4",
      "model_name": "LayoutModel",
      "state": {
       "_model_module_version": "~2.1.4",
       "_view_module_version": "~2.1.4"
      }
     },
     "d5b1cf3e041341aba0e6f14b281c25e7": {
      "model_module": "jupyter-js-widgets",
      "model_module_version": "~2.1.4",
      "model_name": "LabelModel",
      "state": {
       "_model_module_version": "~2.1.4",
       "_view_module_version": "~2.1.4",
       "layout": "IPY_MODEL_d5a99c6414e54ed396a5828f4a0a91a7",
       "value": " C "
      }
     },
     "d7a82c328cc7438fb984719bbae945cb": {
      "model_module": "jupyter-js-widgets",
      "model_module_version": "~2.1.4",
      "model_name": "BoxModel",
      "state": {
       "_model_module_version": "~2.1.4",
       "_view_module_version": "~2.1.4",
       "children": [
        "IPY_MODEL_930431f551784edda59491d6158d8193"
       ],
       "layout": "IPY_MODEL_75b16e84e2714e1fb7fed31077033b91"
      }
     },
     "d850d022747948afa8557760e6b82b24": {
      "model_module": "jupyter-js-widgets",
      "model_module_version": "~2.1.4",
      "model_name": "LayoutModel",
      "state": {
       "_model_module_version": "~2.1.4",
       "_view_module_version": "~2.1.4"
      }
     },
     "d870994170194a8c979d1f08ec87399d": {
      "model_module": "jupyter-js-widgets",
      "model_module_version": "~2.1.4",
      "model_name": "LabelModel",
      "state": {
       "_model_module_version": "~2.1.4",
       "_view_module_version": "~2.1.4",
       "layout": "IPY_MODEL_792071b687aa4b8cadd5a2e64ba76c6e",
       "value": "  "
      }
     },
     "d8b9001ad2d3456f9dcd1a9ba269a5c0": {
      "model_module": "jupyter-js-widgets",
      "model_module_version": "~2.1.4",
      "model_name": "LayoutModel",
      "state": {
       "_model_module_version": "~2.1.4",
       "_view_module_version": "~2.1.4"
      }
     },
     "d91f99ba2c534b63aa10c61f9627535e": {
      "model_module": "jupyter-js-widgets",
      "model_module_version": "~2.1.4",
      "model_name": "LayoutModel",
      "state": {
       "_model_module_version": "~2.1.4",
       "_view_module_version": "~2.1.4",
       "width": "15%"
      }
     },
     "d92d918554c84a4eb0c92249f1a399f1": {
      "model_module": "jupyter-js-widgets",
      "model_module_version": "~2.1.4",
      "model_name": "IntTextModel",
      "state": {
       "_model_module_version": "~2.1.4",
       "_view_module_version": "~2.1.4",
       "layout": "IPY_MODEL_48eb5cc121844b1cb099b4102645005b",
       "value": 10
      }
     },
     "d9868d10d12142578b8cf822530ac938": {
      "model_module": "jupyter-js-widgets",
      "model_module_version": "~2.1.4",
      "model_name": "LayoutModel",
      "state": {
       "_model_module_version": "~2.1.4",
       "_view_module_version": "~2.1.4",
       "width": "15%"
      }
     },
     "d9c2bf4c1e15435f85f0ade0ce626ec5": {
      "model_module": "jupyter-js-widgets",
      "model_module_version": "~2.1.4",
      "model_name": "LayoutModel",
      "state": {
       "_model_module_version": "~2.1.4",
       "_view_module_version": "~2.1.4",
       "width": "15%"
      }
     },
     "d9c3b6dcd7384ca0b6fdd22337bdca2e": {
      "model_module": "jupyter-js-widgets",
      "model_module_version": "~2.1.4",
      "model_name": "LayoutModel",
      "state": {
       "_model_module_version": "~2.1.4",
       "_view_module_version": "~2.1.4",
       "width": "15%"
      }
     },
     "da00ccbdfade43df9fea1d6cec5fcbe3": {
      "model_module": "jupyter-js-widgets",
      "model_module_version": "~2.1.4",
      "model_name": "BoxModel",
      "state": {
       "_model_module_version": "~2.1.4",
       "_view_module_version": "~2.1.4",
       "children": [
        "IPY_MODEL_e9504198f4f145d39c37db65169050be"
       ],
       "layout": "IPY_MODEL_9696edf7e9ec4e488f302f979c133283"
      }
     },
     "da1d4bce3df64492a85676272b2857a6": {
      "model_module": "jupyter-js-widgets",
      "model_module_version": "~2.1.4",
      "model_name": "LayoutModel",
      "state": {
       "_model_module_version": "~2.1.4",
       "_view_module_version": "~2.1.4"
      }
     },
     "daa706790cef47cdba1f0b95833ec751": {
      "model_module": "jupyter-js-widgets",
      "model_module_version": "~2.1.4",
      "model_name": "LayoutModel",
      "state": {
       "_model_module_version": "~2.1.4",
       "_view_module_version": "~2.1.4"
      }
     },
     "dad74bbc91db4e7e96aeea6a89bc8718": {
      "model_module": "jupyter-js-widgets",
      "model_module_version": "~2.1.4",
      "model_name": "HBoxModel",
      "state": {
       "_model_module_version": "~2.1.4",
       "_view_module_version": "~2.1.4",
       "children": [
        "IPY_MODEL_3c92e8362bc645929be13c5d5c871cad"
       ],
       "layout": "IPY_MODEL_949e748e26b145e1aaa8be56e3e7c4c5"
      }
     },
     "daf7df2478224c118e083b33c883d9b7": {
      "model_module": "jupyter-js-widgets",
      "model_module_version": "~2.1.4",
      "model_name": "IntTextModel",
      "state": {
       "_model_module_version": "~2.1.4",
       "_view_module_version": "~2.1.4",
       "layout": "IPY_MODEL_eff5a235e2434a079fd4fb1fd6b1387f"
      }
     },
     "db3c9b0e37c44536979175169cb78363": {
      "model_module": "jupyter-js-widgets",
      "model_module_version": "~2.1.4",
      "model_name": "LabelModel",
      "state": {
       "_model_module_version": "~2.1.4",
       "_view_module_version": "~2.1.4",
       "layout": "IPY_MODEL_36a3c5f53e8b4e0eb447b209d831fac7",
       "value": " C "
      }
     },
     "db778644f2f24bb38abbc17032072788": {
      "model_module": "jupyter-js-widgets",
      "model_module_version": "~2.1.4",
      "model_name": "LayoutModel",
      "state": {
       "_model_module_version": "~2.1.4",
       "_view_module_version": "~2.1.4"
      }
     },
     "dba5ac3208624924b6f8a79cd3bfa34d": {
      "model_module": "jupyter-js-widgets",
      "model_module_version": "~2.1.4",
      "model_name": "LayoutModel",
      "state": {
       "_model_module_version": "~2.1.4",
       "_view_module_version": "~2.1.4",
       "width": "15%"
      }
     },
     "dcaf171a7dfe48f99fda201df87c3747": {
      "model_module": "jupyter-js-widgets",
      "model_module_version": "~2.1.4",
      "model_name": "LayoutModel",
      "state": {
       "_model_module_version": "~2.1.4",
       "_view_module_version": "~2.1.4",
       "width": "15%"
      }
     },
     "dd0db5f0bc614d09a086b8de62dc1017": {
      "model_module": "jupyter-js-widgets",
      "model_module_version": "~2.1.4",
      "model_name": "IntTextModel",
      "state": {
       "_model_module_version": "~2.1.4",
       "_view_module_version": "~2.1.4",
       "layout": "IPY_MODEL_77184a719d4742278d84f1c5b0f46289"
      }
     },
     "ddfebbe32ca84712ad450c12e3286d99": {
      "model_module": "jupyter-js-widgets",
      "model_module_version": "~2.1.4",
      "model_name": "IntTextModel",
      "state": {
       "_model_module_version": "~2.1.4",
       "_view_module_version": "~2.1.4",
       "layout": "IPY_MODEL_81a4933c017342eeba430e03df4de672"
      }
     },
     "de190d1e118f4974ae8fb7a6c0b2dfe1": {
      "model_module": "jupyter-js-widgets",
      "model_module_version": "~2.1.4",
      "model_name": "IntTextModel",
      "state": {
       "_model_module_version": "~2.1.4",
       "_view_module_version": "~2.1.4",
       "layout": "IPY_MODEL_7b74637d94aa46d8ac7689e46b0376e0"
      }
     },
     "deb0c659c0f2479086879242a7673a56": {
      "model_module": "jupyter-js-widgets",
      "model_module_version": "~2.1.4",
      "model_name": "IntTextModel",
      "state": {
       "_model_module_version": "~2.1.4",
       "_view_module_version": "~2.1.4",
       "layout": "IPY_MODEL_555da81a51b54967a96e8af86b265208"
      }
     },
     "dece1609d78c4bc883dc11d4d8088aff": {
      "model_module": "jupyter-js-widgets",
      "model_module_version": "~2.1.4",
      "model_name": "LayoutModel",
      "state": {
       "_model_module_version": "~2.1.4",
       "_view_module_version": "~2.1.4",
       "width": "15%"
      }
     },
     "e02d6ee65ed0492eb40bd49f81808d24": {
      "model_module": "jupyter-js-widgets",
      "model_module_version": "~2.1.4",
      "model_name": "LayoutModel",
      "state": {
       "_model_module_version": "~2.1.4",
       "_view_module_version": "~2.1.4",
       "width": "3%"
      }
     },
     "e16e48b0a9cb4b4792de4338da96cb39": {
      "model_module": "jupyter-js-widgets",
      "model_module_version": "~2.1.4",
      "model_name": "LayoutModel",
      "state": {
       "_model_module_version": "~2.1.4",
       "_view_module_version": "~2.1.4",
       "width": "15%"
      }
     },
     "e26dff42236e4c3e82e4f47df0d21e5d": {
      "model_module": "jupyter-js-widgets",
      "model_module_version": "~2.1.4",
      "model_name": "LayoutModel",
      "state": {
       "_model_module_version": "~2.1.4",
       "_view_module_version": "~2.1.4",
       "width": "7%"
      }
     },
     "e2701a6db478451698dd56dffbc17f2c": {
      "model_module": "jupyter-js-widgets",
      "model_module_version": "~2.1.4",
      "model_name": "LayoutModel",
      "state": {
       "_model_module_version": "~2.1.4",
       "_view_module_version": "~2.1.4",
       "width": "3%"
      }
     },
     "e2b8c3bc5e154feb93e6de1405db6772": {
      "model_module": "jupyter-js-widgets",
      "model_module_version": "~2.1.4",
      "model_name": "IntTextModel",
      "state": {
       "_model_module_version": "~2.1.4",
       "_view_module_version": "~2.1.4",
       "layout": "IPY_MODEL_8117432d51e64ae6b5fd23e641fe8910"
      }
     },
     "e2dfb0c160854927be8741de81964851": {
      "model_module": "jupyter-js-widgets",
      "model_module_version": "~2.1.4",
      "model_name": "BoxModel",
      "state": {
       "_model_module_version": "~2.1.4",
       "_view_module_version": "~2.1.4",
       "children": [
        "IPY_MODEL_275848b70e134a21a0b48fe25de5f35d"
       ],
       "layout": "IPY_MODEL_bdb6b2b008dc4638a28e4ce1375c5819"
      }
     },
     "e2e2c033ba56493286c746ad6931a7c5": {
      "model_module": "jupyter-js-widgets",
      "model_module_version": "~2.1.4",
      "model_name": "LabelModel",
      "state": {
       "_model_module_version": "~2.1.4",
       "_view_module_version": "~2.1.4",
       "layout": "IPY_MODEL_5f1d2f8534f54a279644005883179b4b",
       "value": " E "
      }
     },
     "e3728743f8af4113ae9a86e653f37bfc": {
      "model_module": "jupyter-js-widgets",
      "model_module_version": "~2.1.4",
      "model_name": "LayoutModel",
      "state": {
       "_model_module_version": "~2.1.4",
       "_view_module_version": "~2.1.4"
      }
     },
     "e39b1046f3474a8ea87ebdfaab29d67f": {
      "model_module": "jupyter-js-widgets",
      "model_module_version": "~2.1.4",
      "model_name": "LayoutModel",
      "state": {
       "_model_module_version": "~2.1.4",
       "_view_module_version": "~2.1.4",
       "width": "15%"
      }
     },
     "e3f2dbd1089f4d5d84bffcc2271163d0": {
      "model_module": "jupyter-js-widgets",
      "model_module_version": "~2.1.4",
      "model_name": "HBoxModel",
      "state": {
       "_model_module_version": "~2.1.4",
       "_view_module_version": "~2.1.4",
       "children": [
        "IPY_MODEL_43375ab3fb3e463b95cfa42e9dfc9084",
        "IPY_MODEL_3690d977518e4c3291be68fd7c607797",
        "IPY_MODEL_40e4043ad58f490cad3b74b34132ba0a",
        "IPY_MODEL_0518d4bf5a5a42aab4b0c1b1dfda7051",
        "IPY_MODEL_60273553e09a4d0dadfa300665352d7b",
        "IPY_MODEL_80a19c65b6514443a60577bbcc9d2ee9"
       ],
       "layout": "IPY_MODEL_0fc7898f06a1483c8ec1a4891dff831d"
      }
     },
     "e42298c94a2647c7bd70a28eaa31b8b2": {
      "model_module": "jupyter-js-widgets",
      "model_module_version": "~2.1.4",
      "model_name": "LayoutModel",
      "state": {
       "_model_module_version": "~2.1.4",
       "_view_module_version": "~2.1.4",
       "width": "15%"
      }
     },
     "e44d6743a0dc4242b62f24f5ed6d857a": {
      "model_module": "jupyter-js-widgets",
      "model_module_version": "~2.1.4",
      "model_name": "IntTextModel",
      "state": {
       "_model_module_version": "~2.1.4",
       "_view_module_version": "~2.1.4",
       "layout": "IPY_MODEL_30e2e52f079e43ccaa6b44dff37cc1de"
      }
     },
     "e47a972bb911487ca940ef2fabce3a20": {
      "model_module": "jupyter-js-widgets",
      "model_module_version": "~2.1.4",
      "model_name": "IntTextModel",
      "state": {
       "_model_module_version": "~2.1.4",
       "_view_module_version": "~2.1.4",
       "layout": "IPY_MODEL_c146069c0fcd4b0bafaf833170e34ca0"
      }
     },
     "e4d2a0c67d9f499a9efd155939ff06c8": {
      "model_module": "jupyter-js-widgets",
      "model_module_version": "~2.1.4",
      "model_name": "LayoutModel",
      "state": {
       "_model_module_version": "~2.1.4",
       "_view_module_version": "~2.1.4",
       "width": "15%"
      }
     },
     "e51489fb1662498586db9cc5da9aedf1": {
      "model_module": "jupyter-js-widgets",
      "model_module_version": "~2.1.4",
      "model_name": "LayoutModel",
      "state": {
       "_model_module_version": "~2.1.4",
       "_view_module_version": "~2.1.4"
      }
     },
     "e77c92add0d545068f82a391a5e48dec": {
      "model_module": "jupyter-js-widgets",
      "model_module_version": "~2.1.4",
      "model_name": "LayoutModel",
      "state": {
       "_model_module_version": "~2.1.4",
       "_view_module_version": "~2.1.4",
       "width": "3%"
      }
     },
     "e78db7b1405f48acb13ce61c04b23328": {
      "model_module": "jupyter-js-widgets",
      "model_module_version": "~2.1.4",
      "model_name": "LayoutModel",
      "state": {
       "_model_module_version": "~2.1.4",
       "_view_module_version": "~2.1.4"
      }
     },
     "e820940bf0224203ad4351520b9d6f8a": {
      "model_module": "jupyter-js-widgets",
      "model_module_version": "~2.1.4",
      "model_name": "IntTextModel",
      "state": {
       "_model_module_version": "~2.1.4",
       "_view_module_version": "~2.1.4",
       "layout": "IPY_MODEL_2e718c343c3743608b19578f96382a17"
      }
     },
     "e8646e744432447e9863562b57c7d232": {
      "model_module": "jupyter-js-widgets",
      "model_module_version": "~2.1.4",
      "model_name": "IntTextModel",
      "state": {
       "_model_module_version": "~2.1.4",
       "_view_module_version": "~2.1.4",
       "layout": "IPY_MODEL_c46a5e3bc51742a4ad0fc9dd3a7725a7"
      }
     },
     "e896fc7a83e1493b8a79018cba504ca1": {
      "model_module": "jupyter-js-widgets",
      "model_module_version": "~2.1.4",
      "model_name": "LayoutModel",
      "state": {
       "_model_module_version": "~2.1.4",
       "_view_module_version": "~2.1.4"
      }
     },
     "e94df64d525440aa8788a8e62d5fb76c": {
      "model_module": "jupyter-js-widgets",
      "model_module_version": "~2.1.4",
      "model_name": "LayoutModel",
      "state": {
       "_model_module_version": "~2.1.4",
       "_view_module_version": "~2.1.4"
      }
     },
     "e9504198f4f145d39c37db65169050be": {
      "model_module": "jupyter-js-widgets",
      "model_module_version": "~2.1.4",
      "model_name": "LabelModel",
      "state": {
       "_model_module_version": "~2.1.4",
       "_view_module_version": "~2.1.4",
       "layout": "IPY_MODEL_3680e526834440a6ae7f6927c5f675ec",
       "value": " A "
      }
     },
     "e984e5ec10b44cccb41407e40766df55": {
      "model_module": "jupyter-js-widgets",
      "model_module_version": "~2.1.4",
      "model_name": "LabelModel",
      "state": {
       "_model_module_version": "~2.1.4",
       "_view_module_version": "~2.1.4",
       "layout": "IPY_MODEL_34dd6aa650c64688978d304e2c8569e8",
       "value": " B "
      }
     },
     "e990d9afdcf94d5db69ffc610822fccc": {
      "model_module": "jupyter-js-widgets",
      "model_module_version": "~2.1.4",
      "model_name": "LayoutModel",
      "state": {
       "_model_module_version": "~2.1.4",
       "_view_module_version": "~2.1.4",
       "width": "15%"
      }
     },
     "e9feac53285f4f6badf66cf6dbf19275": {
      "model_module": "jupyter-js-widgets",
      "model_module_version": "~2.1.4",
      "model_name": "BoxModel",
      "state": {
       "_model_module_version": "~2.1.4",
       "_view_module_version": "~2.1.4",
       "children": [
        "IPY_MODEL_f836fb21179c4af180f82cd089887e00"
       ],
       "layout": "IPY_MODEL_3577c860539e4c63b250348d813ded7f"
      }
     },
     "ea4d0f5f5254478298c801a70fb451ad": {
      "model_module": "jupyter-js-widgets",
      "model_module_version": "~2.1.4",
      "model_name": "LayoutModel",
      "state": {
       "_model_module_version": "~2.1.4",
       "_view_module_version": "~2.1.4",
       "width": "3%"
      }
     },
     "ec71e65d3d88481ea1b9593679e45749": {
      "model_module": "jupyter-js-widgets",
      "model_module_version": "~2.1.4",
      "model_name": "LabelModel",
      "state": {
       "_model_module_version": "~2.1.4",
       "_view_module_version": "~2.1.4",
       "layout": "IPY_MODEL_9cad566a11524957a0f87b9169000a9f",
       "value": " D "
      }
     },
     "ecd6abde10cf4900912cbc6e9178ebaf": {
      "model_module": "jupyter-js-widgets",
      "model_module_version": "~2.1.4",
      "model_name": "HBoxModel",
      "state": {
       "_model_module_version": "~2.1.4",
       "_view_module_version": "~2.1.4",
       "children": [
        "IPY_MODEL_d7a82c328cc7438fb984719bbae945cb",
        "IPY_MODEL_3e53f5abadb14bd1bb901f29eab6016f",
        "IPY_MODEL_1a91002c937d4a7ea96c27123f0d236b",
        "IPY_MODEL_2bdcc438e7424b368147db613092ce26",
        "IPY_MODEL_5a67b302289f43c2bffd806b009e9987",
        "IPY_MODEL_198d55114ba641a48fc83f0bc3d417c2"
       ],
       "layout": "IPY_MODEL_b1ce9ca5c0244e78850e611c9d680a63"
      }
     },
     "ed3b76467d3c4152a4f5c1036ceb6d23": {
      "model_module": "jupyter-js-widgets",
      "model_module_version": "~2.1.4",
      "model_name": "VBoxModel",
      "state": {
       "_model_module_version": "~2.1.4",
       "_view_module_version": "~2.1.4",
       "children": [
        "IPY_MODEL_c7af51756b7548ac8040174db969d071",
        "IPY_MODEL_2036320f929a4749b4fd8c7525dd6c78",
        "IPY_MODEL_ecd6abde10cf4900912cbc6e9178ebaf",
        "IPY_MODEL_2ad8167ccad44a86a24bd5594da28e77",
        "IPY_MODEL_d0daddb7e2be4d929977bfc1d3084db3",
        "IPY_MODEL_78c342ce8a5b4d17ab6be152024af49b",
        "IPY_MODEL_00638532af014fb6a3322f428042e8e3"
       ],
       "layout": "IPY_MODEL_707bc4268f1f4a8dbfcc8d1f81777d15"
      }
     },
     "ed6221def4644e88b5a2b0b669760e38": {
      "model_module": "jupyter-js-widgets",
      "model_module_version": "~2.1.4",
      "model_name": "LayoutModel",
      "state": {
       "_model_module_version": "~2.1.4",
       "_view_module_version": "~2.1.4",
       "width": "15%"
      }
     },
     "edd1ea91329d47f3b1f3a0a2935dfb81": {
      "model_module": "jupyter-js-widgets",
      "model_module_version": "~2.1.4",
      "model_name": "LayoutModel",
      "state": {
       "_model_module_version": "~2.1.4",
       "_view_module_version": "~2.1.4"
      }
     },
     "ee452381719747f2a15935cff1770997": {
      "model_module": "jupyter-js-widgets",
      "model_module_version": "~2.1.4",
      "model_name": "LayoutModel",
      "state": {
       "_model_module_version": "~2.1.4",
       "_view_module_version": "~2.1.4"
      }
     },
     "ee66a9e27e594cad94af052cf2ec6ac9": {
      "model_module": "jupyter-js-widgets",
      "model_module_version": "~2.1.4",
      "model_name": "LayoutModel",
      "state": {
       "_model_module_version": "~2.1.4",
       "_view_module_version": "~2.1.4",
       "width": "15%"
      }
     },
     "ee82f7a295c847f7a0b501c5b15f751b": {
      "model_module": "jupyter-js-widgets",
      "model_module_version": "~2.1.4",
      "model_name": "LayoutModel",
      "state": {
       "_model_module_version": "~2.1.4",
       "_view_module_version": "~2.1.4",
       "width": "3%"
      }
     },
     "eef37487986346d7b794533de84bf47a": {
      "model_module": "jupyter-js-widgets",
      "model_module_version": "~2.1.4",
      "model_name": "LayoutModel",
      "state": {
       "_model_module_version": "~2.1.4",
       "_view_module_version": "~2.1.4"
      }
     },
     "eff5a235e2434a079fd4fb1fd6b1387f": {
      "model_module": "jupyter-js-widgets",
      "model_module_version": "~2.1.4",
      "model_name": "LayoutModel",
      "state": {
       "_model_module_version": "~2.1.4",
       "_view_module_version": "~2.1.4",
       "width": "15%"
      }
     },
     "f00e4c622b7c4bc29f2ed02d9cc7fe50": {
      "model_module": "jupyter-js-widgets",
      "model_module_version": "~2.1.4",
      "model_name": "BoxModel",
      "state": {
       "_model_module_version": "~2.1.4",
       "_view_module_version": "~2.1.4",
       "children": [
        "IPY_MODEL_8a860dca81684f26985dbdb834db31c2"
       ],
       "layout": "IPY_MODEL_ee82f7a295c847f7a0b501c5b15f751b"
      }
     },
     "f1375ce2ac484064b187aa53e4fa809e": {
      "model_module": "jupyter-js-widgets",
      "model_module_version": "~2.1.4",
      "model_name": "LayoutModel",
      "state": {
       "_model_module_version": "~2.1.4",
       "_view_module_version": "~2.1.4",
       "width": "15%"
      }
     },
     "f159ad244a8f46a7a434d0dcf1baf3ac": {
      "model_module": "jupyter-js-widgets",
      "model_module_version": "~2.1.4",
      "model_name": "LayoutModel",
      "state": {
       "_model_module_version": "~2.1.4",
       "_view_module_version": "~2.1.4",
       "width": "15%"
      }
     },
     "f17503925dc44b9a8d4b75aa89aabac3": {
      "model_module": "jupyter-js-widgets",
      "model_module_version": "~2.1.4",
      "model_name": "LayoutModel",
      "state": {
       "_model_module_version": "~2.1.4",
       "_view_module_version": "~2.1.4",
       "width": "3%"
      }
     },
     "f1c733d05749406dae9fa5946f5ea968": {
      "model_module": "jupyter-js-widgets",
      "model_module_version": "~2.1.4",
      "model_name": "HBoxModel",
      "state": {
       "_model_module_version": "~2.1.4",
       "_view_module_version": "~2.1.4",
       "children": [
        "IPY_MODEL_e2dfb0c160854927be8741de81964851",
        "IPY_MODEL_3813de5258cf4eca982acd36547c2601",
        "IPY_MODEL_e47a972bb911487ca940ef2fabce3a20",
        "IPY_MODEL_af16d163f9854102b3e5d05fd5674dc8",
        "IPY_MODEL_0be2e339ed0a43d1ab70d4ed5f8d0248",
        "IPY_MODEL_73989483be2e468c8913f8d24bb3ebad"
       ],
       "layout": "IPY_MODEL_ca31caa8edc942bcb09706f8d3d5a544"
      }
     },
     "f23c49044b5348adaa45c536bb7cf39c": {
      "model_module": "jupyter-js-widgets",
      "model_module_version": "~2.1.4",
      "model_name": "IntTextModel",
      "state": {
       "_model_module_version": "~2.1.4",
       "_view_module_version": "~2.1.4",
       "layout": "IPY_MODEL_0ef62c9af03e4118b2ee8281be42dc3d"
      }
     },
     "f26b6146fdda4f3794b41e151f367b61": {
      "model_module": "jupyter-js-widgets",
      "model_module_version": "~2.1.4",
      "model_name": "IntTextModel",
      "state": {
       "_model_module_version": "~2.1.4",
       "_view_module_version": "~2.1.4",
       "layout": "IPY_MODEL_718a213d920e46b6ae84bf67f5de91aa"
      }
     },
     "f2b6f4abc6734113bd1941ef7a44af8c": {
      "model_module": "jupyter-js-widgets",
      "model_module_version": "~2.1.4",
      "model_name": "IntTextModel",
      "state": {
       "_model_module_version": "~2.1.4",
       "_view_module_version": "~2.1.4",
       "layout": "IPY_MODEL_5a07e65a917044008e7648ca87220602"
      }
     },
     "f2fec4a967c04128a256ff4a8bfcb21e": {
      "model_module": "jupyter-js-widgets",
      "model_module_version": "~2.1.4",
      "model_name": "LayoutModel",
      "state": {
       "_model_module_version": "~2.1.4",
       "_view_module_version": "~2.1.4",
       "width": "3%"
      }
     },
     "f3b4b6527ea1458e925c4b04994919fa": {
      "model_module": "jupyter-js-widgets",
      "model_module_version": "~2.1.4",
      "model_name": "LabelModel",
      "state": {
       "_model_module_version": "~2.1.4",
       "_view_module_version": "~2.1.4",
       "layout": "IPY_MODEL_a0891391780d4f2d9cac8af4ac320b74",
       "value": " Y\\X "
      }
     },
     "f43a9118945c442f86ac467d6e908902": {
      "model_module": "jupyter-js-widgets",
      "model_module_version": "~2.1.4",
      "model_name": "BoxModel",
      "state": {
       "_model_module_version": "~2.1.4",
       "_view_module_version": "~2.1.4",
       "children": [
        "IPY_MODEL_d1098f1d222d490c9ec2147946681842"
       ],
       "layout": "IPY_MODEL_41a55a41bbe14ac2a47a06931490b2bb"
      }
     },
     "f4b229f41fa84c3b85468cbff2a95fe6": {
      "model_module": "jupyter-js-widgets",
      "model_module_version": "~2.1.4",
      "model_name": "LayoutModel",
      "state": {
       "_model_module_version": "~2.1.4",
       "_view_module_version": "~2.1.4",
       "width": "15%"
      }
     },
     "f5bfa28931c74e9f91d24366a31deffd": {
      "model_module": "jupyter-js-widgets",
      "model_module_version": "~2.1.4",
      "model_name": "IntTextModel",
      "state": {
       "_model_module_version": "~2.1.4",
       "_view_module_version": "~2.1.4",
       "layout": "IPY_MODEL_5cd1fb74c1574995b1d9f7aa34691c55"
      }
     },
     "f5d86fc598674a2ba55a4368b05acd38": {
      "model_module": "jupyter-js-widgets",
      "model_module_version": "~2.1.4",
      "model_name": "LayoutModel",
      "state": {
       "_model_module_version": "~2.1.4",
       "_view_module_version": "~2.1.4",
       "width": "15%"
      }
     },
     "f630994d707845b9b30b79fdef93bb85": {
      "model_module": "jupyter-js-widgets",
      "model_module_version": "~2.1.4",
      "model_name": "HBoxModel",
      "state": {
       "_model_module_version": "~2.1.4",
       "_view_module_version": "~2.1.4",
       "children": [
        "IPY_MODEL_8317e8267781429eae86c896cb5b0d5f"
       ],
       "layout": "IPY_MODEL_9686ef1fcc4849b498a320916071f722"
      }
     },
     "f646064c7251488f844018d14707e4b5": {
      "model_module": "jupyter-js-widgets",
      "model_module_version": "~2.1.4",
      "model_name": "LabelModel",
      "state": {
       "_model_module_version": "~2.1.4",
       "_view_module_version": "~2.1.4",
       "layout": "IPY_MODEL_edd1ea91329d47f3b1f3a0a2935dfb81",
       "value": " E "
      }
     },
     "f67037e07920433191b4978af31d7e78": {
      "model_module": "jupyter-js-widgets",
      "model_module_version": "~2.1.4",
      "model_name": "LayoutModel",
      "state": {
       "_model_module_version": "~2.1.4",
       "_view_module_version": "~2.1.4",
       "width": "3%"
      }
     },
     "f6ab21a6063c4d84b90ccb3e771680f2": {
      "model_module": "jupyter-js-widgets",
      "model_module_version": "~2.1.4",
      "model_name": "BoxModel",
      "state": {
       "_model_module_version": "~2.1.4",
       "_view_module_version": "~2.1.4",
       "children": [
        "IPY_MODEL_a3deb95911ad4df2baae0e410f56a742"
       ],
       "layout": "IPY_MODEL_215c67be5bfa44078d6049afec3f3c11"
      }
     },
     "f6ce15fda0a84c948c8e0a8c7ae72488": {
      "model_module": "jupyter-js-widgets",
      "model_module_version": "~2.1.4",
      "model_name": "LabelModel",
      "state": {
       "_model_module_version": "~2.1.4",
       "_view_module_version": "~2.1.4",
       "layout": "IPY_MODEL_c13757680ebc4de0ba91bdee1a3420f5",
       "value": " Y\\X "
      }
     },
     "f8137e727dc54f249f67fc986660d34f": {
      "model_module": "jupyter-js-widgets",
      "model_module_version": "~2.1.4",
      "model_name": "LayoutModel",
      "state": {
       "_model_module_version": "~2.1.4",
       "_view_module_version": "~2.1.4"
      }
     },
     "f836fb21179c4af180f82cd089887e00": {
      "model_module": "jupyter-js-widgets",
      "model_module_version": "~2.1.4",
      "model_name": "LabelModel",
      "state": {
       "_model_module_version": "~2.1.4",
       "_view_module_version": "~2.1.4",
       "layout": "IPY_MODEL_9de6cbaf845648abafd4a63a277b6e54",
       "value": " D "
      }
     },
     "f8ede78f2b7e4b16943f534d765cc7a6": {
      "model_module": "jupyter-js-widgets",
      "model_module_version": "~2.1.4",
      "model_name": "IntTextModel",
      "state": {
       "_model_module_version": "~2.1.4",
       "_view_module_version": "~2.1.4",
       "layout": "IPY_MODEL_66ef9667a2af4178a58b1680e52666a0"
      }
     },
     "f98f2634407e4918a9f709e8cb254e86": {
      "model_module": "jupyter-js-widgets",
      "model_module_version": "~2.1.4",
      "model_name": "BoxModel",
      "state": {
       "_model_module_version": "~2.1.4",
       "_view_module_version": "~2.1.4",
       "children": [
        "IPY_MODEL_460a1c6c74124b49950828df049c0028"
       ],
       "layout": "IPY_MODEL_c8774504ee0d488da100faf97b41cf18"
      }
     },
     "f9c3d37659a449b4a5d816d193a078a4": {
      "model_module": "jupyter-js-widgets",
      "model_module_version": "~2.1.4",
      "model_name": "IntTextModel",
      "state": {
       "_model_module_version": "~2.1.4",
       "_view_module_version": "~2.1.4",
       "layout": "IPY_MODEL_c2b7f8084c1547f5b6b246a70d1e52d9",
       "value": 16
      }
     },
     "fa8d380411574c668dfd2504d21d582e": {
      "model_module": "jupyter-js-widgets",
      "model_module_version": "~2.1.4",
      "model_name": "LayoutModel",
      "state": {
       "_model_module_version": "~2.1.4",
       "_view_module_version": "~2.1.4",
       "width": "3%"
      }
     },
     "facd191c3c904fb094cd7f402c17b3d5": {
      "model_module": "jupyter-js-widgets",
      "model_module_version": "~2.1.4",
      "model_name": "LayoutModel",
      "state": {
       "_model_module_version": "~2.1.4",
       "_view_module_version": "~2.1.4",
       "width": "15%"
      }
     },
     "fae9a7b0fa4d4afb814a820a413d554d": {
      "model_module": "jupyter-js-widgets",
      "model_module_version": "~2.1.4",
      "model_name": "LayoutModel",
      "state": {
       "_model_module_version": "~2.1.4",
       "_view_module_version": "~2.1.4"
      }
     },
     "fb194dae85354175a9c807c8d21ef971": {
      "model_module": "jupyter-js-widgets",
      "model_module_version": "~2.1.4",
      "model_name": "IntTextModel",
      "state": {
       "_model_module_version": "~2.1.4",
       "_view_module_version": "~2.1.4",
       "layout": "IPY_MODEL_9a92e6db30b445e8b04e12cb3f04755d",
       "value": 62
      }
     },
     "fbbfd9639e4c4780ad0959c67ec2dfd3": {
      "model_module": "jupyter-js-widgets",
      "model_module_version": "~2.1.4",
      "model_name": "LayoutModel",
      "state": {
       "_model_module_version": "~2.1.4",
       "_view_module_version": "~2.1.4",
       "width": "15%"
      }
     },
     "fbc12500a04c4d1b9c6b8d241afcc4f1": {
      "model_module": "jupyter-js-widgets",
      "model_module_version": "~2.1.4",
      "model_name": "LayoutModel",
      "state": {
       "_model_module_version": "~2.1.4",
       "_view_module_version": "~2.1.4",
       "width": "15%"
      }
     },
     "fc9351ebb2ec4688972a9979486cb945": {
      "model_module": "jupyter-js-widgets",
      "model_module_version": "~2.1.4",
      "model_name": "LayoutModel",
      "state": {
       "_model_module_version": "~2.1.4",
       "_view_module_version": "~2.1.4",
       "width": "15%"
      }
     },
     "fcf3054a4ea34cd98e079bacb1c630b2": {
      "model_module": "jupyter-js-widgets",
      "model_module_version": "~2.1.4",
      "model_name": "IntTextModel",
      "state": {
       "_model_module_version": "~2.1.4",
       "_view_module_version": "~2.1.4",
       "layout": "IPY_MODEL_31493a66d7e343d6910bd53f52832557",
       "value": 3
      }
     },
     "fd03f4921c484556b76bd7956463fe87": {
      "model_module": "jupyter-js-widgets",
      "model_module_version": "~2.1.4",
      "model_name": "ButtonStyleModel",
      "state": {
       "_model_module_version": "~2.1.4",
       "_view_module_version": "~2.1.4",
       "button_color": "lightblue"
      }
     },
     "feb40acda6954e258ef28c7fb11efbac": {
      "model_module": "jupyter-js-widgets",
      "model_module_version": "~2.1.4",
      "model_name": "IntTextModel",
      "state": {
       "_model_module_version": "~2.1.4",
       "_view_module_version": "~2.1.4",
       "layout": "IPY_MODEL_6e14b9aca08345028bd693f20ca1a3a9"
      }
     },
     "fec7ccbd18f34b43873c9b76fdb1521b": {
      "model_module": "jupyter-js-widgets",
      "model_module_version": "~2.1.4",
      "model_name": "LayoutModel",
      "state": {
       "_model_module_version": "~2.1.4",
       "_view_module_version": "~2.1.4"
      }
     },
     "ff8012869ac840cf8108220507ddf1fb": {
      "model_module": "jupyter-js-widgets",
      "model_module_version": "~2.1.4",
      "model_name": "IntTextModel",
      "state": {
       "_model_module_version": "~2.1.4",
       "_view_module_version": "~2.1.4",
       "layout": "IPY_MODEL_9461ab2d33e34119886d45d5d0319ff8"
      }
     },
     "ffe9a25ec81d4a248bc70641a8d39152": {
      "model_module": "jupyter-js-widgets",
      "model_module_version": "~2.1.4",
      "model_name": "LayoutModel",
      "state": {
       "_model_module_version": "~2.1.4",
       "_view_module_version": "~2.1.4",
       "width": "15%"
      }
     }
    },
    "version_major": 1,
    "version_minor": 0
   }
  }
 },
 "nbformat": 4,
 "nbformat_minor": 2
}
