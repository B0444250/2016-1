{
 "cells": [
  {
   "cell_type": "markdown",
   "metadata": {},
   "source": [
    "7. Multi-variable Calculus\n",
    "===\n",
    "[13.1 Functions of Several Variables](6%20Multi-variable%20Calculus-Differentiation-1.ipynb#Functions-of-Several-Variables)<br>\n",
    "[13.2 Limits and Continuuity](6%20Multi-variable%20Calculus-Differentiation-1.ipynb#Limit-and-Continuity)<br>\n",
    "[13.3 Partial Differentiation](#Partial-Differentiation)<br>\n",
    "[13.4 Chain Rule](#Chain-Rule)<br>\n",
    "[13.5 Tangent Plane](#Tangent-Plane)<br>\n",
    "[13.6 Relative Extrema](6%20Multi-variable%20Calculus-Differentiation-3.ipynb#Relative-Maxima-and-Minima)<br>\n",
    "[13.7 Lagrange Multiplier](6%20Multi-variable%20Calculus-Differentiation-3.ipynb#Optimization-Problem-with-Constraints)\n",
    "[13.8 Method of Least Squares](6%20Multi-variable%20Calculus-Differentiation-3.ipynb#The-Method-of-Least-Squares)"
   ]
  },
  {
   "cell_type": "code",
   "execution_count": 1,
   "metadata": {
    "collapsed": true
   },
   "outputs": [],
   "source": [
    "%matplotlib inline\n",
    "\n",
    "#rcParams['figure.figsize'] = (10,3) #wide graphs by default\n",
    "import scipy\n",
    "import numpy as np\n",
    "import time\n",
    "from mpl_toolkits.mplot3d import Axes3D\n",
    "from IPython.display import clear_output,display\n",
    "import matplotlib.pylab as plt"
   ]
  },
  {
   "cell_type": "markdown",
   "metadata": {},
   "source": [
    "Partial Differentiation\n",
    "---\n",
    "Definition\n",
    "---\n",
    "  Suppose that $(x_0, y_0)$ is in the domain of $z = f (x, y)$\n",
    "**1.** the partial derivative with respect to $x$ at $(x_0, y_0)$ is the\n",
    "    limit\n",
    "\n",
    "$$ \\frac{\\partial f}{\\partial x} (x_0, y_0) = \\lim_{h \\rightarrow 0}\n",
    "       \\frac{f (x_0 + h, y_0) - f (x_0, y_0)}{h} $$\n",
    "\n",
    "Geometrically, the value of this limit is the slope of the tangent line of\n",
    "    $z = f (x, y)$ in the plane $y = y_0$. And this quantity is the rate of\n",
    "    change of $f (x, y)$ at $(x_0, y_0)$ along the $x$-direction.\n",
    "\n",
    "**2.** the partial derivative with respect to $y$ at $(x_0, y_0)$ is the\n",
    "    limit\n",
    "\n",
    "$$ \\frac{\\partial f}{\\partial y} (x_0, y_0) = \\lim_{k \\rightarrow 0}\n",
    "       \\frac{f (x_0, y_0 + k) - f (x_0, y_0)}{k} $$\n",
    "\n",
    "Geometrically, the value of this limit is the slope of the tangent line of\n",
    "    $z = f (x, y)$ in the plane $x = x_0$. And this quantity is the rate of\n",
    "    change of $f (x, y)$ at $(x_0, y_0)$ along the $y$-direction. \n",
    "\n",
    "Here is a geometric meaning about partial derivative:\n",
    "\n",
    "<img src=\"imgs/8/cal7-11.png\" width=80% />\n",
    "  "
   ]
  },
  {
   "cell_type": "markdown",
   "metadata": {},
   "source": [
    "\n",
    "\n",
    "The same definition can be also applied to the functions with more than two\n",
    "variables.\n",
    "\n",
    "Definition\n",
    "---\n",
    "  Suppose that $(x^i_0) = (x_0^1, x_0^2, \\cdots, x_0^n)$ in the domain of $f\n",
    "  (\\mathbf{x}) = f (x^1, x^2, \\cdots, x^n)$. The partial derivative \\ with\n",
    "  respect to $x^i$ at $(x^i_0)$ is defined as\n",
    "  $$ f_i = \\frac{\\partial f}{\\partial x^i} = \\lim_{k \\rightarrow 0} \\frac{f\n",
    "     (x_0^1, \\cdots, x_0^{i - 1}, x_0^i + k, x_0^{i + 1}, \\cdots, x_0^n) - f\n",
    "     (x_0^1, x_0^2, \\cdots, x_0^n)}{k} $$\n",
    "\n",
    "\n",
    "Definition\n",
    "---\n",
    "  $(f_1, \\cdots, f_n)$ is called gradient of $f (\\vec{x})$, denoted as $\\nabla\n",
    "  f$.\n",
    "\n"
   ]
  },
  {
   "cell_type": "markdown",
   "metadata": {},
   "source": [
    "Example\n",
    "---\n",
    "\n",
    "  Find the $\\frac{\\partial f}{\\partial x}, \\frac{\\partial f}{\\partial y},\n",
    "  \\frac{\\partial f}{\\partial x} (1, 3), \\frac{\\partial f}{\\partial y} (2, -\n",
    "  4)$ if $f (x, y) = x^3 + 4 x^2 y^3 + y^2$."
   ]
  },
  {
   "cell_type": "code",
   "execution_count": 1,
   "metadata": {},
   "outputs": [
    {
     "name": "stdout",
     "output_type": "stream",
     "text": [
      "⎡   2        3      2  2      ⎤\n",
      "⎣3⋅x  + 8⋅x⋅y , 12⋅x ⋅y  + 2⋅y⎦\n"
     ]
    }
   ],
   "source": [
    "from sympy import symbols, diff,pprint,sqrt\n",
    "x,y=symbols('x y')\n",
    "f=x**3+4*x*x*y**3+y*y\n",
    "\n",
    "grad = lambda func, vars :[diff(func,var) for var in vars]\n",
    "\n",
    "df=grad(f,[x,y])\n",
    "pprint(df)\n",
    "        "
   ]
  },
  {
   "cell_type": "code",
   "execution_count": 2,
   "metadata": {},
   "outputs": [
    {
     "data": {
      "text/plain": [
       "[219, 114]"
      ]
     },
     "execution_count": 2,
     "metadata": {},
     "output_type": "execute_result"
    }
   ],
   "source": [
    "def df_val(f,val):\n",
    "    return [ff.subs({x:val[0],y:val[1]}) for ff in f]\n",
    "df_val(df,[1,3])"
   ]
  },
  {
   "cell_type": "code",
   "execution_count": 3,
   "metadata": {},
   "outputs": [
    {
     "data": {
      "text/plain": [
       "[-1012, 760]"
      ]
     },
     "execution_count": 3,
     "metadata": {},
     "output_type": "execute_result"
    }
   ],
   "source": [
    "df_val(df,[2,-4])"
   ]
  },
  {
   "cell_type": "markdown",
   "metadata": {},
   "source": [
    "Example\n",
    "---\n",
    "\n",
    "  Find the $\\frac{\\partial f}{\\partial x}$ if $f (x, y) = x^3 + 4 x^2 y^3 + y^2$."
   ]
  },
  {
   "cell_type": "code",
   "execution_count": 5,
   "metadata": {},
   "outputs": [
    {
     "name": "stdout",
     "output_type": "stream",
     "text": [
      "⎡     3            2     2  2              ⎤\n",
      "⎣4⋅x⋅y  + 4⋅x - 3⋅y , 6⋅x ⋅y  - 6⋅x⋅y + 6⋅y⎦\n"
     ]
    }
   ],
   "source": [
    "f=2*x**2*y**3-3*x*y**2+2*x**2+3*y*y*1\n",
    "\n",
    "grad = lambda func, vars :[diff(func,var) for var in vars]\n",
    "\n",
    "df=grad(f,[x,y])\n",
    "pprint(df)\n",
    "        "
   ]
  },
  {
   "cell_type": "markdown",
   "metadata": {},
   "source": [
    "Example\n",
    "---\n",
    "\n",
    "  Find the $\\frac{\\partial f}{\\partial x}$ if $f (x, y) = x \\cos xy^2$."
   ]
  },
  {
   "cell_type": "code",
   "execution_count": 6,
   "metadata": {},
   "outputs": [
    {
     "name": "stdout",
     "output_type": "stream",
     "text": [
      "⎡     2    ⎛   2⎞      ⎛   2⎞      2      ⎛   2⎞⎤\n",
      "⎣- x⋅y ⋅sin⎝x⋅y ⎠ + cos⎝x⋅y ⎠, -2⋅x ⋅y⋅sin⎝x⋅y ⎠⎦\n"
     ]
    }
   ],
   "source": [
    "from sympy import cos\n",
    "f=x*cos(x*y**2)\n",
    "\n",
    "grad = lambda func, vars :[diff(func,var) for var in vars]\n",
    "\n",
    "df=grad(f,[x,y])\n",
    "pprint(df)\n",
    "        "
   ]
  },
  {
   "cell_type": "markdown",
   "metadata": {},
   "source": [
    "Example\n",
    "---\n",
    "  Find all the first partial derivatives of Cobb-Douglas function with $n$\n",
    "  inputs,\n",
    "  $$ f (x_1, \\cdots, x_n) = A x_1^{\\alpha_1} \\cdots x_n^{\\alpha_n}\n",
    "     \\text{ where } A > 0, 0 < \\alpha_1, \\cdots \\alpha_n < 1 $$\n",
    "  Sol:\n",
    "\n",
    "\\begin{eqnarray*}\n",
    "      \\frac{\\partial f}{\\partial x_i} & = & A x_1^{\\alpha_1} \\cdots x_{i -\n",
    "      1}^{\\alpha_{i - 1}}  \\color{brown}{\\alpha_i x_i^{\\alpha_i - 1}} x_{i +\n",
    "      1}^{\\alpha_{i + 1}} \\cdots x_n^{\\alpha_n}\\\\\n",
    "      & = & A \\alpha_i x_1^{\\alpha_1} \\cdots x_{i - 1}^{\\alpha_{i - 1}}\n",
    "      x_i^{\\alpha_i} x_{i + 1}^{\\alpha_{i + 1}} \\cdots x_n^{\\alpha_n} / x_i\\\\\n",
    "      & = & \\alpha_i \\frac{f (x_1, \\cdots, x_n)}{x_i} \\text{for} i = 1,\n",
    "      \\cdots, n\n",
    "    \\end{eqnarray*}\n"
   ]
  },
  {
   "cell_type": "markdown",
   "metadata": {},
   "source": [
    "Eexample\n",
    "---\n",
    "  A factory produces two kinds of machine parts, says A and B. If the totally\n",
    "  daily cost function of production of $x$ hundred units of A and $y$ hundred\n",
    "  units of B is: \n",
    "  $$ C (x, y) = 200 + 10 x + 20 y - \\sqrt{x + y} $$"
   ]
  },
  {
   "cell_type": "code",
   "execution_count": 13,
   "metadata": {},
   "outputs": [
    {
     "data": {
      "text/plain": [
       "[-sqrt(11)/22 + 10, -sqrt(11)/22 + 20]"
      ]
     },
     "execution_count": 13,
     "metadata": {},
     "output_type": "execute_result"
    }
   ],
   "source": [
    "C = 200+10*x+20*y-sqrt(x+y)\n",
    "Cxy=grad(C,[x,y])\n",
    "df_val(Cxy,[5,6])"
   ]
  },
  {
   "cell_type": "markdown",
   "metadata": {},
   "source": [
    " $\\frac{\\partial C}{\\partial x} (5, 6) = 10 - \\frac{1}{22} \\sqrt{11}$,i.e.\n",
    "  an increase for $x$ from 5 to 6 while y kept at 6 will result in an increase\n",
    "  in daily cost function approximately $9.85$. And\n",
    "  $\\frac{\\partial C}{\\partial y} (5, 6) = 20 - \\sqrt{11} /\n",
    "  22$, i.e. an increase for $y$ from 6 to 7 while $x$ kept at 5 will result in\n",
    "  an increase in daily cost function approximately $19.85$.\n",
    "  "
   ]
  },
  {
   "cell_type": "markdown",
   "metadata": {},
   "source": [
    "Example\n",
    "---\n",
    "  If $f (x, y) = x^2 e^{y^3} + \\sqrt{2 x + 3 y}$, $\\frac{\\partial f}{\\partial\n",
    "  x} = 2 x e^{y^3} + (2 x + 3 y)^{- 1 / 2}$ and $\\frac{\\partial f}{\\partial y}\n",
    "  = 3 x^2 y^2 e^{y^3} + \\frac{3}{2} (2 x + 3 y)^{- 1 / 2}$\n",
    "  \n",
    "Solution\n",
    "---\n",
    "  \n",
    "Since the partial differentiation only works for the defaulted variables, in\n",
    "other words, the left variables are treated as constants in such operation. Therefore\n",
    "\n",
    "\\begin{eqnarray*}\n",
    "    \\frac{\\partial}{\\partial x} \\left( x^2 e^{y^3} + \\sqrt{2 x + 3 y} \\right)\n",
    "    & = & e^{y^3} \\frac{\\partial}{\\partial x} x^2 + \\frac{\\partial}{\\partial\n",
    "    x} \\sqrt{2 x + 3 y}\\\\\n",
    "    & = & e^{y^3} \\cdot 2 x + 2 \\cdot \\frac{1}{2 \\sqrt{2 x + 3 y}}\\\\\n",
    "    & = & 2 x e^{y^3} + \\frac{1}{\\sqrt{2 x + 3 y}}\n",
    "  \\end{eqnarray*}\n",
    "  Note that the last result comes from the {\\tmstrong{Chain Rule}} as follows:\n",
    "  \n",
    "<img src=\"imgs/8/cal7-12.png\" width=80% />\n",
    "\n",
    "As the same reason, we also have the result for partial derivative with\n",
    "  respect to $y$:\n",
    "\n",
    "\\begin{eqnarray*}\n",
    "    \\frac{\\partial}{\\partial y} \\left( x^2 e^{y^3} + \\sqrt{2 x + 3 y} \\right)\n",
    "    & = & x^2 \\frac{\\partial}{\\partial y} e^{y^3} + \\frac{\\partial}{\\partial\n",
    "    y} \\sqrt{2 x + 3 y}\\\\\n",
    "    & = & 3 x^2 y^2 e^{y^3} + \\frac{3}{2 \\sqrt{2 x + 3 y}}\n",
    "  \\end{eqnarray*}  \n",
    "  "
   ]
  },
  {
   "cell_type": "markdown",
   "metadata": {},
   "source": [
    "Example\n",
    "---\n",
    "Find out the first order derivatives for $f (x, y) = x \\sqrt{y} - y\n",
    "  \\sqrt{x}$."
   ]
  },
  {
   "cell_type": "code",
   "execution_count": 19,
   "metadata": {},
   "outputs": [
    {
     "data": {
      "text/plain": [
       "[sqrt(y) - y/(2*sqrt(x)), -sqrt(x) + x/(2*sqrt(y))]"
      ]
     },
     "execution_count": 19,
     "metadata": {},
     "output_type": "execute_result"
    }
   ],
   "source": [
    "f=x*sqrt(y)-y*sqrt(x)\n",
    "grad(f,[x,y])"
   ]
  },
  {
   "cell_type": "markdown",
   "metadata": {},
   "source": [
    "Example\n",
    "---\n",
    "\n",
    "  For Cobb-Douglas production function, $f (K, L) = 20 K^{1 / 4} L^{3 / 4}$\n",
    "1. **The marginal productivity of capital** when $K = 16$ and $L =81$ is \n",
    "$\\frac{\\partial f}{\\partial K} (16, 81) = \\frac{135}{8},$ i.e. an\n",
    "    increase in $K$ from 16 to 17 will result in an increase of approximately\n",
    "    ${\\frac{135}{8}}$ units of productions.\n",
    "- **The marginal productivity of labor** when $K = 16$ and $L =\n",
    "    81$ is $\\frac{\\partial f}{\\partial L} (16, 81) = 10,$ i.e. an increase in\n",
    "    $L$ from 81 to 82 will result in an increase of approximately 10 units of\n",
    "    productions.\n",
    "\n",
    "**Description**\n",
    "  \n",
    "Note the partial derivatives are as follows:\n",
    "\n",
    "\\begin{eqnarray*}\n",
    "    \\frac{\\partial f}{\\partial K} & = & 5 \\left( \\frac{L}{K} \\right)^{3 / 4}\\\\\n",
    "    \\frac{\\partial f}{\\partial L} & = & 15 \\left( \\frac{K}{L} \\right)^{1 / 4}\n",
    "  \\end{eqnarray*}"
   ]
  },
  {
   "cell_type": "markdown",
   "metadata": {},
   "source": [
    "\n",
    "Two products are said to be **competitive** with each other if an\n",
    "increase in demand for one results in a decrease in demand for the other.\n",
    "**Complementary** products have just the opposite relation to each other.\n",
    "Suppose that $f (p, q)$ and $g (p, q)$ are the demand for products, $A$ and\n",
    "$B$, at respective price $p$ and $q$. We have\n",
    "\n",
    "1. $\\frac{\\partial f}{\\partial p} < 0$ and $\\frac{\\partial g}{\\partial q}\n",
    "  < 0$ sine raising price always results in a decrease in demand.\n",
    "- If $\\frac{\\partial f}{\\partial q} > 0$ and $\\frac{\\partial g}{\\partial\n",
    "  p} > 0$ Then $A$ and $B$ are in **competitive** case at price level\n",
    "  $(p, q)$.\n",
    "- If $\\frac{\\partial f}{\\partial q} < 0$ and $\\frac{\\partial g}{\\partial\n",
    "  p} < 0$ Then $A$ and $B$ are in **complementary** case at price level\n",
    "  $(p, q)$.\n"
   ]
  },
  {
   "cell_type": "markdown",
   "metadata": {},
   "source": [
    "Example\n",
    "---\n",
    "\n",
    "If $f (p, q) = 400 - 5 p^2 + 16 q$ and $g (p, q) = 600 + 12 p - 4 q^2$, then\n",
    "  $A$ and $B$ are competitive since\n",
    "\n",
    "\\begin{eqnarray*}\n",
    "    \\frac{\\partial f}{\\partial q} & = & 16 > 0\\\\\n",
    "    \\frac{\\partial g}{\\partial p} & = & 12 > 0\n",
    "\\end{eqnarray*}\n",
    "\n",
    "Example\n",
    "---\n",
    "If $f (p, q) = \\frac{30 p}{2 p + 3 q}$ and $g (p, q) = \\frac{10 q}{p + 4\n",
    "    q}$, then $A$ and $B$ are complementary since\n",
    "\n",
    "\\begin{eqnarray*}\n",
    "      \\frac{\\partial f}{\\partial q} & = & \\frac{\\partial}{\\partial q} \n",
    "      \\frac{30 p}{2 p + 3 q}\\\\\n",
    "      & = & \\frac{- 90 p}{(2 p + 3 q)^2} < 0\\\\\n",
    "      \\frac{\\partial g}{\\partial p} & = & \\frac{\\partial}{\\partial p} \n",
    "      \\frac{10 q}{p + 4 q}\\\\\n",
    "      & = & \\frac{- 10 q}{(p + 4 q)^2} < 0\n",
    "\\end{eqnarray*}\n"
   ]
  },
  {
   "cell_type": "markdown",
   "metadata": {},
   "source": [
    "Implicit Differentiation\n",
    "---\n",
    "Suppose that $z$ is differentiable and defined implicitly as follows:\n",
    "$$ x^2+y^3-z+2yz^2=5.$$\n"
   ]
  },
  {
   "cell_type": "code",
   "execution_count": 9,
   "metadata": {},
   "outputs": [],
   "source": [
    "from sympy import Function,solve\n",
    "x,y  = symbols('x y')\n",
    "z = Function('z')(x,y)\n"
   ]
  },
  {
   "cell_type": "code",
   "execution_count": 12,
   "metadata": {},
   "outputs": [
    {
     "data": {
      "text/plain": [
       "[2*x + 4*y*z(x, y)*Derivative(z(x, y), x) - Derivative(z(x, y), x),\n",
       " 3*y**2 + 4*y*z(x, y)*Derivative(z(x, y), y) + 2*z(x, y)**2 - Derivative(z(x, y), y)]"
      ]
     },
     "execution_count": 12,
     "metadata": {},
     "output_type": "execute_result"
    }
   ],
   "source": [
    "eq= x**2+y**3-z+2*y*z**2-5\n",
    "gradv=grad(eq,[x,y])\n",
    "gradv"
   ]
  },
  {
   "cell_type": "code",
   "execution_count": 17,
   "metadata": {},
   "outputs": [
    {
     "name": "stdout",
     "output_type": "stream",
     "text": [
      "dz/dx = -2*x/(4*y*z(x, y) - 1)\n"
     ]
    }
   ],
   "source": [
    "pprint(\"dz/dx = %s\" %solve(gradv[0],diff(z, x))[0])"
   ]
  },
  {
   "cell_type": "code",
   "execution_count": 22,
   "metadata": {},
   "outputs": [
    {
     "name": "stdout",
     "output_type": "stream",
     "text": [
      "dz/dy = -(3*y**2 + 2*z(x, y)**2)/(4*y*z(x, y) - 1)\n"
     ]
    }
   ],
   "source": [
    "pprint(\"dz/dy = %s\" %solve(gradv[1],diff(z, y))[0])"
   ]
  },
  {
   "cell_type": "markdown",
   "metadata": {},
   "source": [
    "Example\n",
    "---\n",
    "**a).** If $f(x,y,z)=x^2y+y^2z+zx$, then $f_x=2xy+z$;<br>\n",
    "**b).** If $h(x,y,zw)=\\frac{xw^2}{y+\\sin zw}$, then $h_w=$\n"
   ]
  },
  {
   "cell_type": "code",
   "execution_count": 24,
   "metadata": {},
   "outputs": [
    {
     "name": "stdout",
     "output_type": "stream",
     "text": [
      "   2                            \n",
      "  w ⋅x⋅z⋅cos(w⋅z)      2⋅w⋅x    \n",
      "- ─────────────── + ────────────\n",
      "                2   y + sin(w⋅z)\n",
      "  (y + sin(w⋅z))                \n"
     ]
    }
   ],
   "source": [
    "from sympy import sin\n",
    "x,y,z,w=symbols(\" x y z w\")\n",
    "f=x*w**2/(y+sin(z*w))\n",
    "pprint(diff(f,w))"
   ]
  },
  {
   "cell_type": "markdown",
   "metadata": {},
   "source": [
    "Note\n",
    "---\n",
    "  Higher order partial derivative. As the functions of single variable, we can\n",
    "  define what the higher order partial derivatives of functions with multiple\n",
    "  variables as follows:\n",
    "\n",
    "1. Two variables: Suppose that $f (x, y)$ is smooth enough,\n",
    " \n",
    "**Partial derivatives for $f (x, y)$**\n",
    "\n",
    "|Order |Partial Derivatives|\n",
    "|---|---|\n",
    "| 1st |$f_1 = \\frac{\\partial f}{\\partial x}, f_2 = \\frac{\\partial f}{\\partial y}$|\n",
    "| 2nd | $f_{ij} = \\frac{\\partial^2f}{\\partial x^j\\partial x^i}$|\n",
    "|More | $f_{\\cdots i} = \\frac{\\partial f_{\\cdots}}{\\partial x^i} $|\n",
    "\n",
    "**2.** More than two variables: Suppose that $f (\\vec{x}) = f (x^1,\n",
    "    \\cdots, x^n)  \\color{brown}{\\text{ (or denoted as } f\n",
    "    (x^i))}$ is smooth enough,\n",
    "    \n",
    "|Order | partial derivatives |\n",
    "|---|---|\n",
    "|1st | $f_i = \\frac{\\partial f}{\\partial x^i}$,  for $i = 1, \\cdots,n$ |\n",
    "|2nd | $f_{i j} = \\frac{\\partial^2f}{\\partial x^i\\partial x^j},$ for $1 \\leqslant i, j \\le n$ |\n",
    "|More | $f_{\\color{red}{\\cdots} i} = \\frac{\\partial}{\\partial x^i}f_{\\color{red}{\\cdots}}$,  for $i = 1, \\cdots, n$ |\n",
    "\n",
    "\n",
    "\n"
   ]
  },
  {
   "cell_type": "markdown",
   "metadata": {
    "collapsed": true
   },
   "source": [
    "Example\n",
    "---\n",
    "  Find the second order derivatives of $f (x, y) = x^2 y^3 + e^{4 x} \\ln y$.\n",
    "  \n",
    "  All the 1st order partial derivatives are as follows:\n",
    "\n",
    "\\begin{eqnarray*}\n",
    "    \\frac{\\partial f}{\\partial x} = 2 x \\cdot y^3 + 4 e^{4 x} \\cdot \\ln y &\n",
    "    \\text{and} & \\frac{\\partial f}{\\partial y} = x^2 \\cdot 3 y^2 + e^{4 x}\n",
    "    \\cdot \\frac{1}{y}\n",
    "  \\end{eqnarray*}\n",
    "  And all the 2nd order of partial derivatives are as follows:\n",
    "\n",
    "\\begin{eqnarray*}\n",
    "    \\frac{\\partial^2 f}{\\partial x^2} & = & \\frac{\\partial}{\\partial x} (2 x\n",
    "    y^3 + 4 e^{4 x} \\ln y)\\\\\n",
    "    & = & 2 \\cdot y^3 + 16 e^{4 x} \\cdot \\ln y\\\\\n",
    "    \\frac{\\partial^2 f}{\\partial y^2} & = & \\frac{\\partial}{\\partial y} \\left(\n",
    "    3 x^2 y^2 + e^{4 x} \\frac{1}{y} \\right)\\\\\n",
    "    & = & 6 x^2 y - e^{4 x} \\frac{1}{y^2}\\\\\n",
    "    \\frac{\\partial^2 f}{\\partial y \\partial x} & = & \\frac{\\partial}{\\partial\n",
    "    y} (2 x y^3 + 4 e^{4 x} \\ln y)\\\\\n",
    "    & = & 2 x \\cdot 3 y^2 + 4 e^{4 x} \\cdot \\frac{1}{y}\\\\\n",
    "    \\frac{\\partial^2 f}{\\partial x \\partial y} & = & 6 x y^2 + 4 e^{4 x} / y\n",
    "  \\end{eqnarray*}"
   ]
  },
  {
   "cell_type": "code",
   "execution_count": 15,
   "metadata": {},
   "outputs": [
    {
     "data": {
      "text/plain": [
       "[2*x*y**3 + 4*exp(4*x)*log(y), 3*x**2*y**2 + exp(4*x)/y]"
      ]
     },
     "execution_count": 15,
     "metadata": {},
     "output_type": "execute_result"
    }
   ],
   "source": [
    "from sympy import exp,log\n",
    "\n",
    "f=x*x*y**3+exp(4*x)*log(y)\n",
    "X=[x,y]\n",
    "g=grad(f,X)\n",
    "g"
   ]
  },
  {
   "cell_type": "code",
   "execution_count": 18,
   "metadata": {},
   "outputs": [
    {
     "name": "stdout",
     "output_type": "stream",
     "text": [
      "⎡⎡                                   4⋅x⎤  ⎡            4⋅x            4⋅x⎤⎤\n",
      "⎢⎢   3       4⋅x              2   4⋅ℯ   ⎥  ⎢     2   4⋅ℯ        2     ℯ   ⎥⎥\n",
      "⎢⎢2⋅y  + 16⋅ℯ   ⋅log(y), 6⋅x⋅y  + ──────⎥, ⎢6⋅x⋅y  + ──────, 6⋅x ⋅y - ────⎥⎥\n",
      "⎢⎣                                  y   ⎦  ⎢           y                2 ⎥⎥\n",
      "⎣                                          ⎣                           y  ⎦⎦\n"
     ]
    }
   ],
   "source": [
    "pprint([[diff(gg,var) for gg in g] for var in X])"
   ]
  },
  {
   "cell_type": "markdown",
   "metadata": {},
   "source": [
    "Example\n",
    "---\n",
    "  Find the first three order derivatives of $f (x, y) = 4 x^2 - 6 x y^3$.\n",
    "  \n",
    "  All the 1st order partial derivatives are as follows:\n",
    "\n",
    "\\begin{eqnarray*}\n",
    "    \\frac{\\partial f}{\\partial x} = 8 x - 6 y^3 & \\text{and} & \\frac{\\partial\n",
    "    f}{\\partial y} = 0 - 6 x \\cdot 3 y^2\n",
    "  \\end{eqnarray*}\n",
    "  And the 2nd order of partial derivatives are as follows:\n",
    "\n",
    "\\begin{eqnarray*}\n",
    "    \\frac{\\partial^2 f}{\\partial x^2} & = & \\frac{\\partial}{\\partial x} (8 x -\n",
    "    6 y^3)\\\\\n",
    "    & = & 8\\\\\n",
    "    \\frac{\\partial^2 f}{\\partial y^2} & = & \\frac{\\partial}{\\partial y} (- 18\n",
    "    x y^2)\\\\\n",
    "    & = & - 36 x y\\\\\n",
    "    \\frac{\\partial^2 f}{\\partial y \\partial x} & = & \\frac{\\partial}{\\partial\n",
    "    y} (8 x - 6 y^3)\\\\\n",
    "    & = & 0 - 12 y^2\\\\\n",
    "    \\frac{\\partial^2 f}{\\partial x \\partial y} & = & - 12 x y^2\n",
    "  \\end{eqnarray*}\n",
    "  And 3rd order of partial derivatives are as follows:\n",
    "\n",
    "\\begin{eqnarray*}\n",
    "    f_{111} & = & \\frac{\\partial}{\\partial x} (8) = 0\\\\\n",
    "    f_{222} & = & \\frac{\\partial}{\\partial y} (- 36 x y) = - 36 x\\\\\n",
    "    f_{112} = f_{121} = f_{211} & = & \\frac{\\partial}{\\partial y} (8 - 6 y^3)\n",
    "    = - 18 y^2\\\\\n",
    "    f_{122} = f_{212} = f_{221} & = & \\frac{\\partial}{\\partial x} (- 36 x y) =\n",
    "    - 36 x\n",
    "  \\end{eqnarray*}\n"
   ]
  },
  {
   "cell_type": "code",
   "execution_count": 26,
   "metadata": {},
   "outputs": [
    {
     "data": {
      "text/plain": [
       "True"
      ]
     },
     "execution_count": 26,
     "metadata": {},
     "output_type": "execute_result"
    }
   ],
   "source": [
    "f=4*x**2-6*x*y**3\n",
    "diff(f,x,y)==diff(f,y,x)"
   ]
  },
  {
   "cell_type": "markdown",
   "metadata": {},
   "source": [
    "Theorem\n",
    "---\n",
    "  If $\\frac{\\partial f}{\\partial x}$, $\\frac{\\partial f}{\\partial y},\n",
    "  \\frac{\\partial^2 f}{\\partial x \\partial y}$ ,$\\frac{\\partial^2 f}{\\partial y\n",
    "  \\partial x}$ are all continuous near $(x_0, y_0)$, then $\\frac{\\partial^2\n",
    "  f}{\\partial x \\partial y} (x_0, y_0) = \\frac{\\partial^2 f}{\\partial y\n",
    "  \\partial x} (x_0, y_0)$.\n",
    "\n"
   ]
  },
  {
   "cell_type": "markdown",
   "metadata": {},
   "source": [
    "Example\n",
    "---\n",
    "For $f(x,y,z)=x e^{yz}$, "
   ]
  },
  {
   "cell_type": "code",
   "execution_count": 28,
   "metadata": {},
   "outputs": [
    {
     "name": "stdout",
     "output_type": "stream",
     "text": [
      "fxzy= (y*z + 1)*exp(y*z)\n"
     ]
    }
   ],
   "source": [
    "from sympy import exp\n",
    "f=x*exp(y*z)\n",
    "pprint(\"fxzy= %s\" %diff(f,x,z,y) )"
   ]
  },
  {
   "cell_type": "code",
   "execution_count": 29,
   "metadata": {},
   "outputs": [
    {
     "name": "stdout",
     "output_type": "stream",
     "text": [
      "fyxz= (y*z + 1)*exp(y*z)\n"
     ]
    }
   ],
   "source": [
    "from sympy import exp\n",
    "f=x*exp(y*z)\n",
    "pprint(\"fyxz= %s\" %diff(f,y,x,z) )"
   ]
  },
  {
   "cell_type": "markdown",
   "metadata": {},
   "source": [
    "Example\n",
    "---\n",
    "\n",
    "Suppose that\n",
    "$$ f (x, y) = \\left\\{ \\begin{array}{ll}\n",
    "       \\frac{x^3  y - y^3 x}{x^2 + y^2} & \\text{ if } (x, y) \\neq (0.0) \\\\\n",
    "       0 & \\text{ if } (x, y) = (0.0)\n",
    "     \\end{array} \\right. $$\n",
    "  \n",
    "  \n",
    "  $f (x, y)$ is continuous at $(0, 0)$.\n",
    "\n",
    "**1.** first partial derivatives of $f (x.y)$ where $(x, y) \\neq (0, 0)$:\n",
    "\n",
    "\\begin{eqnarray*}\n",
    "      \\frac{\\partial f}{\\partial x} & = & \\frac{(3 x^2 y + y^3) (x^2 + y^2) -\n",
    "      2 x (x^3  y + y^3 x)}{(x^2 + y^2)^2}\\\\\n",
    "      & = & \\frac{- y^5 + 4 x^2 y^3 + x^4 y}{(x^2 + y^2)^2}\\\\\n",
    "      \\frac{\\partial f}{\\partial y} & = & \\frac{x^5 - 4 y^2 x^3 - y^4 x}{(x^2\n",
    "      + y^2)^2}\n",
    "    \\end{eqnarray*}\n",
    "\n",
    "\n",
    "**2.** first partial derivatives of $f (x.y)$ at $(x, y) = (0, 0)$:\n",
    "    \n",
    "\\begin{eqnarray*}\n",
    "      \\frac{\\partial f}{\\partial x} (0, 0) & = & \\lim_{h \\rightarrow 0}\n",
    "      \\frac{f (h, 0) - f (0, 0)}{h}\\\\\n",
    "      & = & 0\\\\\n",
    "      \\frac{\\partial f}{\\partial x} (0, 0) & = & 0\n",
    "    \\end{eqnarray*}\n",
    "\n",
    "**3.** Second partial derivatives $\\frac{\\partial^2 f}{\\partial x\\partial y}$ and $\\frac{\\partial^2 f}{\\partial y \\partial x}$ of $f (x.y)$ where $(x, y) = (0, 0)$:\n",
    "\n",
    "\\begin{eqnarray*}\n",
    "      \\frac{\\partial^2 f}{\\partial x^{} \\partial y} (0, 0) & = & \\lim_{h\n",
    "      \\rightarrow 0} \\frac{f_y (h, 0) - f_y (0, 0)}{h}\\\\\n",
    "      & = & \\lim_{h \\rightarrow 0} \\frac{\\frac{- h^5 + 40^2 h^3 + 0^4 h}{(h^2\n",
    "      + 0^2)^2} - 0}{h} = - 1\\\\\n",
    "      \\frac{\\partial^2 f}{\\partial y^{} \\partial x} (0, 0) & = & \\lim_{k\n",
    "      \\rightarrow 0} \\frac{f_x (0, k) - f_x (0, 0)}{k}\\\\\n",
    "      & = & \\lim_{k \\rightarrow 0} \\frac{\\frac{k^5 - 40^2 k^3 - 0^4 k}{(0^2 +\n",
    "      k^2)^2} - 0}{k} = 1\n",
    "    \\end{eqnarray*}\n",
    "\n",
    "The last result shows  $\\color{red}{\\frac{\\partial^2 f}{\\partial x\\partial y} (0, 0) \\neq \\frac{\\partial^2 f}{\\partial y \\partial x} (0, 0)}$."
   ]
  },
  {
   "cell_type": "markdown",
   "metadata": {},
   "source": [
    "Exercise p. 1069\n",
    "---"
   ]
  },
  {
   "cell_type": "code",
   "execution_count": 32,
   "metadata": {},
   "outputs": [
    {
     "name": "stdout",
     "output_type": "stream",
     "text": [
      "⎡    x        y  ⎤\n",
      "⎢   ℯ        ℯ   ⎥\n",
      "⎢───────, ───────⎥\n",
      "⎢ x    y   x    y⎥\n",
      "⎣ℯ  + ℯ   ℯ  + ℯ ⎦\n"
     ]
    }
   ],
   "source": [
    "# 20 log(exp(x)+exp(y))\n",
    "from sympy import log,exp\n",
    "z=log(exp(x)+exp(y))\n",
    "pprint(grad(z,[x,y]))"
   ]
  },
  {
   "cell_type": "code",
   "execution_count": 33,
   "metadata": {},
   "outputs": [
    {
     "name": "stdout",
     "output_type": "stream",
     "text": [
      "[-cos(x), cos(y)]\n"
     ]
    }
   ],
   "source": [
    "# 22 partial derivative of int_x^y cos t dt\n",
    "from sympy import integrate\n",
    "t=symbols(\"t\")\n",
    "f=integrate(cos(t),[t,x,y])\n",
    "pprint(grad(f,[x,y]))"
   ]
  },
  {
   "cell_type": "code",
   "execution_count": 40,
   "metadata": {},
   "outputs": [
    {
     "name": "stdout",
     "output_type": "stream",
     "text": [
      "dz/dx = 2*sin(x + 2*y)/(y*cos(y*z(x, y)))\n",
      "dz/dy = (-z(x, y) + 4*sin(x + 2*y)/cos(y*z(x, y)))/y\n"
     ]
    }
   ],
   "source": [
    "#32 2cos(x+2y)+sin yz -1=0\n",
    "z=Function(\"z\")(x,y)\n",
    "eq= 2*cos(x+2*y)+sin(y*z)-1\n",
    "\n",
    "gradv=grad(eq,[x,y])\n",
    "\n",
    "pprint(\"dz/dx = %s\" %solve(gradv[0],diff(z, x))[0])\n",
    "pprint(\"dz/dy = %s\" %solve(gradv[1],diff(z, y))[0])"
   ]
  },
  {
   "cell_type": "code",
   "execution_count": 41,
   "metadata": {},
   "outputs": [
    {
     "name": "stdout",
     "output_type": "stream",
     "text": [
      "fxx = (-x**2/(x**2 + y**2) + 1)/sqrt(x**2 + y**2)\n",
      "fxy = fyx = -x*y/(x**2 + y**2)**(3/2)\n",
      "fyy = (-y**2/(x**2 + y**2) + 1)/sqrt(x**2 + y**2)\n"
     ]
    }
   ],
   "source": [
    "#38 Second derivate\n",
    "from sympy import sqrt\n",
    "f= sqrt(x**2+y**2)\n",
    "pprint(\"fxx = %s\" %diff(f, x,x))\n",
    "pprint(\"fxy = fyx = %s\" %diff(f, x,y))\n",
    "pprint(\"fyy = %s\" %diff(f, y,y))"
   ]
  },
  {
   "cell_type": "markdown",
   "metadata": {},
   "source": [
    "Chain Rule\n",
    "---\n",
    "\n",
    "As result in one-vaiable function:\n",
    "$$ \\frac{d y}{d t} = \\frac{d y}{d x}  \\frac{d x}{d t} $$\n",
    "we also have the similar result for multivariate functions:\n",
    "$$ \\left(\\begin{array}{c}\n",
    "     \\frac{\\partial z}{\\partial t^i}\n",
    "   \\end{array}\\right) = \\left(\\begin{array}{c}\n",
    "     \\frac{\\partial z}{\\partial x^j}\n",
    "   \\end{array}\\right) \\left(\\begin{array}{c}\n",
    "     \\frac{\\partial x^j}{\\partial t^i}\n",
    "   \\end{array}\\right) $$\n",
    "where\n",
    "\n",
    "\\begin{eqnarray*}\n",
    "  \\left(\\begin{array}{c}\n",
    "    \\frac{\\partial z}{\\partial t^i}\n",
    "  \\end{array}\\right) & = & \\left(\\begin{array}{c}\n",
    "    \\frac{\\partial z}{\\partial t^1}, \\frac{\\partial z}{\\partial t^2}, \\cdots,\n",
    "    \\frac{\\partial z}{\\partial t^n} \n",
    "  \\end{array}\\right)\\\\\n",
    "  \\left(\\begin{array}{c}\n",
    "    \\frac{\\partial x^j}{\\partial t^i}\n",
    "  \\end{array}\\right) & = & \\left(\\begin{array}{ccc}\n",
    "    \\frac{\\partial x^1}{\\partial t^1} & \\cdots & \\frac{\\partial x^1}{\\partial\n",
    "    t^n}\\\\\n",
    "    \\vdots & \\ddots & \\vdots\\\\\n",
    "    \\frac{\\partial x^m}{\\partial t^1} & \\cdots & \\frac{\\partial x^m}{\\partial\n",
    "    t^n}\n",
    "  \\end{array}\\right)\n",
    "\\end{eqnarray*}"
   ]
  },
  {
   "cell_type": "markdown",
   "metadata": {},
   "source": [
    "Example\n",
    "---\n",
    "\n",
    "Suppose that\n",
    "\n",
    "\\begin{eqnarray*}\n",
    "    z & = & f (x, y) = \\sin (x + y^2)\\\\\n",
    "    (x, y) & = & (s t, s^2 + t^2)\n",
    "  \\end{eqnarray*}\n",
    "\n",
    "Then\n",
    "\n",
    "\\begin{eqnarray*}\n",
    "    \\left(\\begin{array}{c}\n",
    "      \\frac{\\partial z}{\\partial x}, \\frac{\\partial z}{\\partial y}\n",
    "    \\end{array}\\right) & = & \\left(\\begin{array}{cc}\n",
    "      \\cos (x + y^2) & 2 y \\cos (x + y^2)\n",
    "    \\end{array}\\right)\\\\\n",
    "    \\left(\\begin{array}{cc}\n",
    "      \\frac{\\partial x}{\\partial s} & \\frac{\\partial x}{\\partial t}\\\\\n",
    "      \\frac{\\partial y}{\\partial s} & \\frac{\\partial y}{\\partial t}\n",
    "    \\end{array}\\right) & = & \\left(\\begin{array}{cc}\n",
    "      t & s\\\\\n",
    "      2 t & 2 s\n",
    "    \\end{array}\\right)\\\\\n",
    "    \\left(\\begin{array}{c}\n",
    "      \\frac{\\partial z}{\\partial s}, \\frac{\\partial z}{\\partial t}\n",
    "    \\end{array}\\right) & = & \\left(\\begin{array}{cc}\n",
    "      \\cos (x + y^2) & 2 y \\cos (x + y^2)\n",
    "    \\end{array}\\right) \\left(\\begin{array}{cc}\n",
    "      t & s\\\\\n",
    "      2 t & 2 s\n",
    "    \\end{array}\\right)\\\\\n",
    "    & = & \\left(\\begin{array}{cc}\n",
    "      t \\cos (x + y^2) + 4 t y \\cos (x + y^2) & s \\cos (x + y^2) + 4 s y \\cos\n",
    "      (x + y^2)\n",
    "    \\end{array}\\right)\\\\\n",
    "    & = & \\cos ((t^2 + s^2)^2 + st) \\cdot ((4 s (t^2 + s^2) + t), (4 t (t^2 +\n",
    "    s^2) + s))\n",
    "  \\end{eqnarray*}"
   ]
  },
  {
   "cell_type": "markdown",
   "metadata": {},
   "source": [
    "Example\n",
    "---\n",
    "  Suppose that\n",
    "\n",
    "\\begin{eqnarray*}\n",
    "    f (x, y, z) & = & \\frac{1}{x^2 + y^2 + z^2}\\\\\n",
    "    (x, y, z) & = & (r \\cos t, r \\sin t, r)\n",
    "  \\end{eqnarray*}\n",
    "  Then\n",
    "\n",
    "\\begin{eqnarray*}\n",
    "    \\left(\\begin{array}{ccc}\n",
    "      f_x & f_y & f_z\n",
    "    \\end{array}\\right) & = & \\frac{- 2}{(x^2 + y^2 + z^2)^2}\n",
    "    \\left(\\begin{array}{ccc}\n",
    "      x & y & z\n",
    "    \\end{array}\\right)\\\\\n",
    "    \\frac{\\partial (x, y, z)}{\\partial (r, t)} & = & \\left(\\begin{array}{cc}\n",
    "      \\cos t & - r \\sin t\\\\\n",
    "      \\sin t & r \\cos t\\\\\n",
    "      1 & 0\n",
    "    \\end{array}\\right)\\\\\n",
    "    \\left(\\begin{array}{cc}\n",
    "      f_r & f_t\n",
    "    \\end{array}\\right) & = & \\frac{- 2}{(x^2 + y^2 + z^2)^2}\n",
    "    \\left(\\begin{array}{ccc}\n",
    "      x & y & z\n",
    "    \\end{array}\\right) \\left(\\begin{array}{cc}\n",
    "      \\cos t & - r \\sin t\\\\\n",
    "      \\sin t & r \\cos t\\\\\n",
    "      1 & 0\n",
    "    \\end{array}\\right)\\\\\n",
    "    & = & \\frac{- 2}{(x^2 + y^2 + z^2)^2} \\left(\\begin{array}{cc}\n",
    "      x \\cos t + y \\sin t + z & r y \\cos t - r x \\sin t\n",
    "    \\end{array}\\right)\\\\\n",
    "    & = & \\left(\\begin{array}{cc}\n",
    "      - \\frac{2 r \\sin (t)^2 + 2 r \\cos (t)^2 + 2 r}{(r^2 \\sin (t)^2 + r^2\n",
    "      \\cos (t)^2 + r^2)^2} & 0\n",
    "    \\end{array}\\right)\n",
    "  \\end{eqnarray*}\n",
    " "
   ]
  },
  {
   "cell_type": "markdown",
   "metadata": {},
   "source": [
    "Exercise\n",
    "---\n",
    "1. Suppose that $f (x, y) = x^2 + 3 x y + y^2$ and $(x, y) = (s t, s^2\n",
    "    t)$. Find all the first-order partial derivatives of $f$ with respect to\n",
    "    $(x, y)$ and $(s, t)$.\n",
    "- Suppose that $f (x^1, x^2, \\cdots, x^n) = \\sqrt{(x^1)^2 + \\cdots +\n",
    "    (x^n)^2}$ and $x^i = ((t)^i)$, i.e. the $i$-th coordinate, $x^i$, is equal\n",
    "    to power $i$ of $t$. Find all the first-order partial derivatives of $f$\n",
    "    with respect to $(x, y)$ and $t$.\n",
    "\n",
    "Answer\n",
    "---\n",
    "**1.**\n",
    "\n",
    "\\begin{eqnarray*}\n",
    "      (\\frac{\\partial f}{\\partial x^i}) & = & \\left(\\begin{array}{cc}\n",
    "        2 x + 3 y & 3 x + 2 y\n",
    "      \\end{array}\\right)\\\\\n",
    "      (\\frac{\\partial x^i}{\\partial (s t)}) & = & \\left(\\begin{array}{cc}\n",
    "        t & s\\\\\n",
    "        2 s t & s^2\n",
    "      \\end{array}\\right)\\\\\n",
    "      (\\frac{\\partial f}{\\partial (s t)}) & = & \\left(\\begin{array}{cc}\n",
    "        2 x + 3 y & 3 x + 2 y\n",
    "      \\end{array}\\right) \\left(\\begin{array}{cc}\n",
    "        t & s\\\\\n",
    "        2 s t & s^2\n",
    "      \\end{array}\\right)\\\\\n",
    "      & = & \\left(\\begin{array}{cc}\n",
    "        2 s t + 3 s^2 t & 3 s t + 2 s^2 t\n",
    "      \\end{array}\\right) \\left(\\begin{array}{cc}\n",
    "        t & s\\\\\n",
    "        2 s t & s^2\n",
    "      \\end{array}\\right)\\\\\n",
    "      & = & \\left(\\begin{array}{cc}\n",
    "        2 s t^2 + 9 s^2 t^2 + 4 s^3 t^2 & 3 s^2 t + 6 s^3 t + 2 s^4 t\n",
    "      \\end{array}\\right)\n",
    "    \\end{eqnarray*}\n",
    "**2.**\n",
    "\n",
    "\\begin{eqnarray*}\n",
    "      (\\partial f / \\partial x^i) & = & \\left( \\frac{x^i}{\\sqrt{(x^1)^2 +\n",
    "      \\cdots + (x^n)^2}} \\right)\\\\\n",
    "      (\\partial f / \\partial t) & = & \\left( \\frac{x^i}{\\sqrt{(x^1)^2 + \\cdots\n",
    "      + (x^n)^2}} \\right) (\\partial x^i / \\partial t)\\\\\n",
    "      & = & \\sum_{i = 1}^n \\frac{i x^i (t)^{i - 1}}{\\sqrt{(x^1)^2 + \\cdots +\n",
    "      (x^n)^2}}\\\\\n",
    "      & = & \\sum_{i = 1}^n \\frac{i (t)^{2 i - 1}}{\\sqrt{(t)^2 + \\cdots +\n",
    "      (t)^{2 n}}}\n",
    "    \\end{eqnarray*}\n",
    "\n"
   ]
  },
  {
   "cell_type": "markdown",
   "metadata": {},
   "source": [
    "Tangent Plane\n",
    "---\n",
    "\n",
    "Partial derivative represents the ratio of changes in the respective\n",
    "direction. In the case of $\\mathbb{R}^2$, there could exist a tangent plane\n",
    "for $z = f (x, y)$ at certain point $(x_0, y_0)$ which is perpendicular with\n",
    "$(\\nabla f, - 1)$ vector.\n",
    "\n",
    "Suppose that the surface in $\\mathbb{R}^3$ satisfies:\n",
    "\n",
    "\\begin{eqnarray*}\n",
    "  z & = & f (x, y)\\\\\n",
    "  & \\Downarrow & \\\\\n",
    "  0 & = & F (x, y, z)\\\\\n",
    "  & = & f (x, y) - z\n",
    "\\end{eqnarray*}\n",
    "\n",
    "And suppose that all the partial derivatives of $f (x, y)$ are continuous. Any\n",
    "curve on the surface can be represented as follows:\n",
    "$$ (x (t), y (t), z (t)) $$\n",
    "Thus we have:\n",
    "\n",
    "\\begin{eqnarray*}\n",
    "  0 & = & F (x (t), y (t), z (t))\\\\\n",
    "  & \\Downarrow & \\\\\n",
    "  0 & = & \\frac{d F (t)}{d t}\\\\\n",
    "  & = & \\frac{\\partial F}{\\partial x} \\cdot \\frac{d x}{d t} + \\frac{\\partial\n",
    "  F}{\\partial y} \\cdot \\frac{d y}{d t} + \\frac{\\partial F}{\\partial z} \\cdot\n",
    "  \\frac{d z}{d t}\\\\\n",
    "  & = & \\frac{\\partial f}{\\partial x} \\cdot \\frac{d x}{d t} + \\frac{\\partial\n",
    "  f}{\\partial y} \\cdot \\frac{d y}{d t} + (- 1) \\cdot \\frac{d z}{d t}\\\\\n",
    "  & = & (\\nabla f, - 1) \\cdot \\left( \\frac{d x}{d t}, \\frac{d y}{d t},\n",
    "  \\frac{d z}{d t} \\right)\n",
    "\\end{eqnarray*}\n",
    "Given that $(x_0, y_0, f (x_0, y_0))$ lies on the surface, and so in the\n",
    "tangent, then for any other point $(x, y, z)$ in the tangent plane, the vector\n",
    "$(x - x_0, y - y_0, z - f (x_0, y_0))$ must lie in the tangent plane, and so\n",
    "must be normal to the normal to the curve and this tangent plane is always in\n",
    "such form as follows:\n",
    "\n",
    "\\begin{eqnarray*}\n",
    "  0 & = & (\\nabla f, - 1) \\cdot (x - x_0, y - y_0, z - f (x_0, y_0))\\\\\n",
    "  & \\Downarrow & \\\\\n",
    "  f (x, y) - f (x_0, y_0) & = & \\frac{\\partial f}{\\partial x} (x - x_0) +\n",
    "  \\frac{\\partial f}{\\partial y} (y - y_0)\\\\\n",
    "  & \\Downarrow & \\\\\n",
    "  f (x, y) & = & f (x_0, y_0) + \\frac{\\partial f}{\\partial x} (x - x_0) +\n",
    "  \\frac{\\partial f}{\\partial y} (y - y_0)\n",
    "\\end{eqnarray*}\n",
    "\n"
   ]
  },
  {
   "cell_type": "markdown",
   "metadata": {},
   "source": [
    "Example\n",
    "---\n",
    "\n",
    "The gradient of $f (x, y) = \\sqrt{x} + \\sqrt{y}$ at $(x, y) = (1, 1)$ is:\n",
    "\n",
    "\\begin{eqnarray*}\n",
    "    \\nabla f (1, 1) & = & \\left. \\left( \\frac{\\partial f}{\\partial x},\n",
    "    \\frac{\\partial f}{\\partial y} \\right) \\right|_{(1, 1)}\\\\\n",
    "    & = & \\left. \\left( \\frac{1}{2 \\sqrt{x}}, \\frac{1}{2 \\sqrt{y}} \\right)\n",
    "    \\right|_{(1, 1)}\\\\\n",
    "    & = & \\left( \\frac{1}{2}, \\frac{1}{2} \\right)\n",
    "  \\end{eqnarray*}\n",
    "Then the normal vector of the tangent plane passing throught $(1, 1, 2)$ is:\n",
    "\n",
    "\\begin{eqnarray*}\n",
    "    0 & = & \\left( \\frac{1}{2}, \\frac{1}{2}, - 1 \\right) \\cdot (x - 1, y - 1,\n",
    "    z - 2)\\\\\n",
    "    & \\Downarrow & \\\\\n",
    "    2 z & = & x + y + 2\n",
    "  \\end{eqnarray*}\n"
   ]
  },
  {
   "cell_type": "markdown",
   "metadata": {},
   "source": [
    "\n",
    "The change of $f$ in the other directions different to $x, y, \\cdots$, can\n",
    "be evaluated by the following:\n",
    "\n",
    "Definition\n",
    "---\n",
    "  **The directional derivative in the unitary direction,** $\\vec{e} =\n",
    "  (e^1, \\cdots, e^n)$ is:\n",
    "  $$ D_{\\vec{e}} f = \\nabla f \\cdot \\vec{e} $$\n",
    "  where  $\\cdot$ means inner product.\n"
   ]
  },
  {
   "cell_type": "markdown",
   "metadata": {},
   "source": [
    "Example\n",
    "---\n",
    "  The directional derivative of $f (x, y) = \\sqrt{x} + \\sqrt{y}$ at $(x, y) =\n",
    "  (1, 1)$ in the $(3, 4)$ direction is calculated as:\n",
    "\n",
    "\\begin{eqnarray*}\n",
    "    (3, 4) & \\rightarrow & \\frac{1}{5} (3, 4)\\\\\n",
    "    D_{\\vec{e}} f (1, 1) & = & \\nabla f (1, 1) \\cdot \\vec{e}\\\\\n",
    "    & = & \\frac{1}{2} (1, 1) \\cdot \\frac{1}{5} (3, 4)\\\\\n",
    "    & = & \\frac{7}{10}\n",
    "  \\end{eqnarray*}\n",
    "  In which direction does the directional derivative attain its maximum? Since\n",
    "  the inner product of two vectors, $\\vec{a}$ and $\\vec{b}$ is:\n",
    "  $$ \\vec{a} \\cdot \\vec{b} = | \\vec{a} |  | \\vec{b} | \\cos \\theta $$\n",
    " where $\\theta$ is the intersection angle between $\\vec{a}$ and $\\vec{b}$,\n",
    "  the directional derivative will attainn its maximum if $\\nabla f$ and\n",
    "  $\\vec{e}$ are parallel. \n"
   ]
  },
  {
   "cell_type": "markdown",
   "metadata": {},
   "source": [
    "Theorem\n",
    "---\n",
    "  Directional derivative will attain its maximum (minimum) if\n",
    "  $$ \\vec{e} = \\nabla f / \\| \\nabla f\\|  (\\color{brown}{- \\nabla f /\n",
    "     \\nabla f\\|}) $$\n"
   ]
  },
  {
   "cell_type": "markdown",
   "metadata": {},
   "source": [
    "Example\n",
    "---\n",
    "  The maximum of directional derivative of $f (x, y) = \\sqrt{x} + \\sqrt{y}$ at\n",
    "  $(x, y) = (1, 1)$ will occur at the direction:\n",
    "  $$ \\vec{e} = \\nabla f / \\| \\nabla f\\| = (1 / 2, 1 / 2) / \\sqrt{(1 / 2)^2 +\n",
    "     (1 / 2)^2} = (1 / \\sqrt{2}, 1 / \\sqrt{2}) $$\n",
    "  and is equal to:\n",
    "  $$ \\text{maximum of } D_{\\vec{e}} f (1, 1) = (1 / 2, 1 / 2) \\cdot (1 /\n",
    "     \\sqrt{2}, 1 / \\sqrt{2}) = 1 / \\sqrt{2} $$\n"
   ]
  },
  {
   "cell_type": "code",
   "execution_count": 38,
   "metadata": {
    "collapsed": true
   },
   "outputs": [],
   "source": [
    "def plot3d(x,y,z):\n",
    "    fig = plt.figure()\n",
    "    ax = Axes3D(fig)\n",
    "    ax.plot_surface(x, y, z, rstride=1, cstride=1, cmap=plt.cm.jet,alpha=0.4)\n",
    "    ax.contour(x, y, z,  lw=3, cmap=\"autumn_r\", linestyles=\"solid\", zdir='z',offset=0)\n",
    "    ax.set_xlabel('X')\n",
    "    ax.set_ylabel('Y')\n",
    "    ax.set_zlabel('Z')\n",
    "    ax.set_zlim(0, 2)\n",
    "    ax.scatter3D([1],[1],[0],color=(0,0,0));\n",
    "    ax.arrow(x=1,y=1,dx=0.1,dy=0.1)\n",
    "    xt=np.linspace(1,1.414,100)\n",
    "    yt=np.linspace(1,1.414,100)\n",
    "    zt=np.zeros(100)\n",
    "    ax.plot3D(xt,yt,zt)\n",
    "    ax.plot3D(xt,yt,np.sqrt(xt)+np.sqrt(yt))"
   ]
  },
  {
   "cell_type": "code",
   "execution_count": 39,
   "metadata": {},
   "outputs": [
    {
     "data": {
      "image/png": "[encoded data removed]",
      "text/plain": [
       "<matplotlib.figure.Figure at 0x10a3c7550>"
      ]
     },
     "metadata": {},
     "output_type": "display_data"
    }
   ],
   "source": [
    "x = np.arange(0, 1.4, 0.1)\n",
    "y = np.arange(0, 1.4, 0.1)\n",
    "x,y=np.meshgrid(x,y)\n",
    "f= np.sqrt(x)+np.sqrt(y)\n",
    "plot3d(x,y,f)"
   ]
  },
  {
   "cell_type": "markdown",
   "metadata": {},
   "source": [
    "From above picture, the value of $f(x,y)$ inscreases fastest along the (positive) gradient direction, which projection on the $X-Y$ plane is orthogonal to the level curves. "
   ]
  },
  {
   "cell_type": "markdown",
   "metadata": {},
   "source": [
    "Example\n",
    "---\n",
    "  Suppose that $f (x) = x^2 \\sin (\\pi y / 6)$.\n",
    "**1.** The gradient of $f (x)$ at $(x, y) = (1, 1)$ is:\n",
    "\n",
    "\\begin{eqnarray*}\n",
    "      \\nabla f (1, 1) & = & (2 x \\sin (\\pi y / 6), \\pi x^2 \\cos (\\pi y / 6) /\n",
    "      6) |_{(x, y) = (1, 1)}\\\\\n",
    "      & = & \\left( 1, \\frac{\\sqrt{3} \\pi}{12} \\right)\n",
    "    \\end{eqnarray*}\n",
    "\n",
    "**2.** The directional derivative at the direction, $\\vec{u} = (1, 0)$, is:\n",
    "\n",
    "\\begin{eqnarray*}\n",
    "      \\nabla_{\\vec{u}} f (1, 1) & = & \\left( 1, \\frac{\\sqrt{3} \\pi}{12}\n",
    "      \\right) \\cdot (1, 0) = 1\n",
    "    \\end{eqnarray*}\n",
    "**3.** The directional derivative at the direction, $\\vec{v} = (1, 1)$, is:\n",
    "\n",
    "\\begin{eqnarray*}\n",
    "      \\vec{v} & \\Rightarrow & (1, 1) / \\sqrt{1^2 + 1^2} = \\left(\n",
    "      \\frac{1}{\\sqrt{2}}, \\frac{1}{\\sqrt{2}} \\right)\\\\\n",
    "      & \\Downarrow & \\\\\n",
    "      \\nabla_{\\vec{v}} f (1, 1) & = & \\left( 1, \\frac{\\sqrt{3} \\pi}{12}\n",
    "      \\right) \\cdot \\left( \\frac{1}{\\sqrt{2}}, \\frac{1}{\\sqrt{2}} \\right) =\n",
    "      \\frac{1}{\\sqrt{2}} + \\frac{\\sqrt{6} \\pi}{24}\n",
    "    \\end{eqnarray*}\n",
    "**4.** The maximum of the directional derivative is:\n",
    "\n",
    "$$ \\| \\nabla f (1, 1)\\| = \\sqrt{1^2 + \\left( \\frac{\\sqrt{3} \\pi}{12}\n",
    "       \\right)^2} $$\n",
    "\n",
    "and in the direction:\n",
    "\n",
    "$$ \\vec{e} = \\nabla f (1, 1) / \\| \\nabla f (1, 1)\\| $$"
   ]
  },
  {
   "cell_type": "markdown",
   "metadata": {},
   "source": [
    "Exercise\n",
    "---\n",
    "  Suppose that $f (x, y) = 3 x^2 + 4 x y + 5 y^2$. Find the directional\n",
    "  derivative of $f (x, y)$ at $(1, 1)$ in the directions \n",
    "  a) $\\vec{e}_1 = (3, -4)$, b) $\\vec{e}_2 = (1, 1)$. Find the direction at which the directional\n",
    "  derivative attains its maximum.\n"
   ]
  },
  {
   "cell_type": "code",
   "execution_count": 20,
   "metadata": {},
   "outputs": [
    {
     "data": {
      "text/plain": [
       "-26/5"
      ]
     },
     "execution_count": 20,
     "metadata": {},
     "output_type": "execute_result"
    }
   ],
   "source": [
    "f=3*x*x+4*x*y+5*y*y\n",
    "df=grad(f,[x,y])\n",
    "dfv=df_val(df,[1,1])\n",
    "def df_dir(f,val):\n",
    "    l=f[0]*val[0]+f[1]*val[1]\n",
    "    return l/(sqrt(val[0]**2+val[1]**2))\n",
    "df_dir(dfv,[3,-4])"
   ]
  },
  {
   "cell_type": "code",
   "execution_count": 21,
   "metadata": {},
   "outputs": [
    {
     "data": {
      "text/plain": [
       "12*sqrt(2)"
      ]
     },
     "execution_count": 21,
     "metadata": {},
     "output_type": "execute_result"
    }
   ],
   "source": [
    "df_dir(dfv,[1,1])"
   ]
  }
 ],
 "metadata": {
  "kernelspec": {
   "display_name": "Python 3",
   "language": "python",
   "name": "python3"
  },
  "language_info": {
   "codemirror_mode": {
    "name": "ipython",
    "version": 3
   },
   "file_extension": ".py",
   "mimetype": "text/x-python",
   "name": "python",
   "nbconvert_exporter": "python",
   "pygments_lexer": "ipython3",
   "version": "3.5.3"
  },
  "widgets": {
   "state": {},
   "version": "2.0.10"
  }
 },
 "nbformat": 4,
 "nbformat_minor": 1
}
