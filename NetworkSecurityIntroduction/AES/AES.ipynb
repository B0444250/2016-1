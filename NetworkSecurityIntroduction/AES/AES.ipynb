{
 "cells": [
  {
   "cell_type": "markdown",
   "metadata": {},
   "source": [
    "Say \"Hi\" To Ransomware \n",
    "===\n"
   ]
  },
  {
   "cell_type": "markdown",
   "metadata": {},
   "source": [
    "Kinds of  Malwares\n",
    "---\n",
    "- Morris Worm-like virus: harm to system, rip the adminstration, secret files;\n",
    "- destruction program,  break whole the system;\n",
    "- Ronsomware, just encrpts whole the resources,  "
   ]
  },
  {
   "cell_type": "markdown",
   "metadata": {},
   "source": [
    "Recognize it more\n",
    "---\n",
    "1. What files will it encrypt?\n",
    "- How does it encrypt files (what algorithm does it use)?\n",
    "- Is there a way to decrypt the files?\n",
    "- What are the payment instructions like? And should we?"
   ]
  },
  {
   "cell_type": "markdown",
   "metadata": {},
   "source": [
    "\n",
    "**Fsociety** has also implemented several new dangerous features in this release, such as *infecting network drives, anti-VM techniques*, *downloading* and *executing new payloads off of the internet* - something which we provide more details here."
   ]
  },
  {
   "cell_type": "markdown",
   "metadata": {},
   "source": [
    " One of the Python-based ransomware variants,  “Fsociety Locker”, owns the featutures, easy-coding, fast developed. Maybe start of a new malware trend in the next future."
   ]
  },
  {
   "cell_type": "markdown",
   "metadata": {},
   "source": [
    "1.What Files Does Fsociety Encrypt?\n",
    "---\n",
    "- The first thing ransomware has to do is to sneak into your system,\n",
    "- find files to encrypt. \n",
    "  - Fsociety calls functions with names <br>\n",
    "    <code style=\"color:brown\">walk_C_drive (),walk_D_drive (),..., walk_Z_drive ()</code><br>\n",
    "    to iterate through each drive in order to find files to encrypt. Fsociety also has the dangerous potential to infect network drives too.\n",
    "  - **walk_%_drive ()** uses the Python built-in module “os” to get the full path of non-directory files in the targeted drive, and appends them to a list.  Note that the targeted files are filtered with certain extensions (“ext”), which means this ransomware only chooses certain types of files to encrypt.\n",
    "  - Any files with an extension listed below will be encrypted:<br>\n",
    "  <code style=\"color:brown\">doc, php, html, avi, pdf, ...</code><br>\n",
    "  - After locating targeted files, Fsociety then encrypts them using an AES algorithm with a hard-coded key and  the file names are appended with \".fs0ciety\"."
   ]
  },
  {
   "cell_type": "markdown",
   "metadata": {},
   "source": [
    "Is There a Way to Recover the Encrypted Files?\n",
    "---\n",
    "The answer is **<font size=+1>YES</font>**. All we have to do is to find the hard-coded key and use an AES decryption method to decrypt the files using this key."
   ]
  },
  {
   "cell_type": "markdown",
   "metadata": {},
   "source": [
    "What are the payment instructions like? \n",
    "---\n",
    "Normally, ransomware will show victims payment instruction on how to purchase a “decryptor” to decrypt and recover thire encrypted files. Fsociety has a sub-function to compose such an instruction, and uses a browser to open it. However, this sub-function is not called in its main function in this version, so victims are not able to see the instructions. In addition, the instructions themselves seem to be unfinished."
   ]
  },
  {
   "cell_type": "markdown",
   "metadata": {},
   "source": [
    "Unused Malicious Features\n",
    "---\n",
    "Besides infecting network share resources, there are some additional features which have not introduced, but are not being used. For example, \n",
    "- one feature of Fsociety allows it to download an executable file from a link and run it locally.  The executable it downloads, for example, might be a tor client to help Fsociety hide its network traffic, such as its payment server.\n",
    "- Another feature is an anti-VM evasion technique. If the malware detects that it is running in a VM environment, it will exit immediately."
   ]
  },
  {
   "cell_type": "markdown",
   "metadata": {},
   "source": [
    "Conclusion\n",
    "---\n",
    "Currently, it appears that Fsociety is still under early development, but as we described, it already has many dangerous features implemented. It is entirely possible that in the near future this new ransomware variant will be launched into the wild just as dangerous as any other mature ransomware, but with the time required for upgrades and modifications significantly shortened due to the relatively easiness of coding in Python. Moreover, since it’s written in Python and compiled with PyInstaller, authors can easily change it to support other platforms, such as Linux and MacOS."
   ]
  },
  {
   "cell_type": "code",
   "execution_count": null,
   "metadata": {
    "collapsed": true
   },
   "outputs": [],
   "source": []
  },
  {
   "cell_type": "markdown",
   "metadata": {},
   "source": [
    "Advanced Encryption Standard , AES\n",
    "---\n",
    "\n",
    "AES encryption uses a single key as a part of the encryption process. The key can be 128 bits (16 bytes, 1 byte= 8bits), 192 bits (24 bytes), or 256 bits (32 bytes) in length. The term 128-bit encryption refers to the use of a 128-bit encryption key. With AES both the encryption and the decryption are performed using the same key. This is called a symmetric encryption algorithm.\n"
   ]
  },
  {
   "cell_type": "markdown",
   "metadata": {},
   "source": [
    "Kinds of Block cipher mode \n",
    "---\n",
    "- ECB (Electronic codebook，ECB)\n",
    "<img src=\"imgs/ECB.png\" width=90% />\n"
   ]
  },
  {
   "cell_type": "markdown",
   "metadata": {},
   "source": [
    "- CBC (Cipher-block chaining)\n",
    "<img src=\"imgs/CBC.png\" width=90% />"
   ]
  },
  {
   "cell_type": "markdown",
   "metadata": {},
   "source": [
    "- CFB (Cipher feedback)\n",
    "<img src=\"imgs/CFB.png\" width=90% />"
   ]
  },
  {
   "cell_type": "markdown",
   "metadata": {},
   "source": [
    "- OFB (Output feedback)\n",
    "<img src=\"imgs/OFB.png\" width=90% />"
   ]
  },
  {
   "cell_type": "code",
   "execution_count": 1,
   "metadata": {
    "collapsed": true
   },
   "outputs": [],
   "source": [
    "from Crypto.Cipher import AES\n",
    "# Encryption\n",
    "encryption_suite = AES.new('This is a key123', AES.MODE_CBC, 'This is an IV456')\n",
    "cipher_text = encryption_suite.encrypt(\"A really secret message. Not for prying eyes.   \")\n",
    "\n",
    "# Decryption\n",
    "decryption_suite = AES.new('This is a key123', AES.MODE_CBC, 'This is an IV456')\n",
    "plain_text = decryption_suite.decrypt(cipher_text)"
   ]
  },
  {
   "cell_type": "code",
   "execution_count": 2,
   "metadata": {},
   "outputs": [
    {
     "name": "stdout",
     "output_type": "stream",
     "text": [
      "b'M,\\xadT\\xce\\xd6\\x9a\\xea\\x1b\\xb6%&\\xa4AQj\"\\xf6\\xf4\\x05\\x95\\x91\\xe9\\x0e)\\xde\\x8et\\xc0%\\xce\\x00\\xd2\\xc7\\xbe\\xdb\\xb8\\xed\\x80\\x1dF(axJ\\xafn\\xb2'\n"
     ]
    }
   ],
   "source": [
    "print(cipher_text)"
   ]
  },
  {
   "cell_type": "code",
   "execution_count": 3,
   "metadata": {},
   "outputs": [
    {
     "name": "stdout",
     "output_type": "stream",
     "text": [
      "b'A really secret message. Not for prying eyes.   '\n"
     ]
    }
   ],
   "source": [
    "print(plain_text)"
   ]
  },
  {
   "cell_type": "code",
   "execution_count": 38,
   "metadata": {
    "collapsed": true
   },
   "outputs": [],
   "source": [
    "def padding(s,modu=16):\n",
    "    \" padding s with the mudu factor\"\n",
    "    pad=\".\".encode(\"utf8\")\n",
    "    additional=modu-len(s)%modu\n",
    "    return s+additional*pad"
   ]
  },
  {
   "cell_type": "code",
   "execution_count": 42,
   "metadata": {
    "collapsed": true
   },
   "outputs": [],
   "source": [
    "key='Hi Ransonware!'.encode(\"utf-8\")\n",
    "keyAES=padding(key)\n",
    "IV='secret Key'.encode(\"utf-8\")\n",
    "IVAES=padding(IV)\n",
    "encryption_suite = AES.new(keyAES, AES.MODE_CBC, IVAES)\n",
    "\n",
    "plaintext='お元気ですか, How are you, Comment allez-vous, Wie geht es dir'.encode(\"utf-8\")\n",
    "cipher_text = encryption_suite.encrypt(padding(plaintext))\n",
    "\n",
    "# Decryption\n",
    "decryption_suite = AES.new(keyAES, AES.MODE_CBC, IVAES)\n",
    "plain_text = decryption_suite.decrypt(cipher_text)"
   ]
  },
  {
   "cell_type": "code",
   "execution_count": 43,
   "metadata": {},
   "outputs": [
    {
     "data": {
      "text/plain": [
       "'お元気ですか, How are you, Comment allez-vous, Wie geht es dir............'"
      ]
     },
     "execution_count": 43,
     "metadata": {},
     "output_type": "execute_result"
    }
   ],
   "source": [
    "plain_text.decode(\"utf-8\")"
   ]
  },
  {
   "cell_type": "code",
   "execution_count": null,
   "metadata": {
    "collapsed": true
   },
   "outputs": [],
   "source": []
  },
  {
   "cell_type": "code",
   "execution_count": null,
   "metadata": {
    "collapsed": true
   },
   "outputs": [],
   "source": []
  },
  {
   "cell_type": "code",
   "execution_count": 44,
   "metadata": {
    "collapsed": true
   },
   "outputs": [],
   "source": [
    "def str_to_bytes(data):\n",
    "    u_type = type(b''.decode('utf8'))\n",
    "    if isinstance(data, u_type):\n",
    "       return data.encode('utf8')\n",
    "    return data"
   ]
  },
  {
   "cell_type": "code",
   "execution_count": null,
   "metadata": {
    "collapsed": true
   },
   "outputs": [],
   "source": []
  }
 ],
 "metadata": {
  "kernelspec": {
   "display_name": "Python 3",
   "language": "python",
   "name": "python3"
  },
  "language_info": {
   "codemirror_mode": {
    "name": "ipython",
    "version": 3
   },
   "file_extension": ".py",
   "mimetype": "text/x-python",
   "name": "python",
   "nbconvert_exporter": "python",
   "pygments_lexer": "ipython3",
   "version": "3.5.2"
  },
  "widgets": {
   "state": {},
   "version": "2.0.10"
  }
 },
 "nbformat": 4,
 "nbformat_minor": 2
}
